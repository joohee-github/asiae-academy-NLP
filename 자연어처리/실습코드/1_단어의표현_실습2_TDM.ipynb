{
 "cells": [
  {
   "cell_type": "markdown",
   "metadata": {
    "colab_type": "text",
    "id": "ZzKLignydmdN"
   },
   "source": [
    "# sklearn"
   ]
  },
  {
   "cell_type": "code",
   "execution_count": 1,
   "metadata": {
    "colab": {},
    "colab_type": "code",
    "executionInfo": {
     "elapsed": 1042,
     "status": "ok",
     "timestamp": 1597718834751,
     "user": {
      "displayName": "김현진",
      "photoUrl": "",
      "userId": "10981707102385748924"
     },
     "user_tz": -540
    },
    "id": "kzwuDWeLdmdN"
   },
   "outputs": [],
   "source": [
    "docs = ['동물원 코끼리',\n",
    "        '동물원 원숭이 바나나',\n",
    "        '엄마 코끼리 아기 코끼리',\n",
    "        '원숭이 바나나 코끼리 바나나']"
   ]
  },
  {
   "cell_type": "code",
   "execution_count": 2,
   "metadata": {
    "colab": {
     "base_uri": "https://localhost:8080/",
     "height": 84
    },
    "colab_type": "code",
    "executionInfo": {
     "elapsed": 1567,
     "status": "ok",
     "timestamp": 1597718835285,
     "user": {
      "displayName": "김현진",
      "photoUrl": "",
      "userId": "10981707102385748924"
     },
     "user_tz": -540
    },
    "id": "-tfG4xvDdmdP",
    "outputId": "c565b263-434e-4bd1-e47a-b8c3f0dbbae9"
   },
   "outputs": [
    {
     "data": {
      "text/plain": [
       "array([[1, 0, 0, 0, 0, 1],\n",
       "       [1, 1, 0, 0, 1, 0],\n",
       "       [0, 0, 1, 1, 0, 2],\n",
       "       [0, 2, 0, 0, 1, 1]])"
      ]
     },
     "execution_count": 2,
     "metadata": {},
     "output_type": "execute_result"
    }
   ],
   "source": [
    "from sklearn.feature_extraction.text import CountVectorizer\n",
    "# 참고 sklearn은 DTM으로 만들어지게 설정되어 있음. \n",
    "count_vect = CountVectorizer()\n",
    "DTM = count_vect.fit_transform(docs)\n",
    "DTM.toarray()"
   ]
  },
  {
   "cell_type": "code",
   "execution_count": 3,
   "metadata": {
    "colab": {
     "base_uri": "https://localhost:8080/",
     "height": 118
    },
    "colab_type": "code",
    "executionInfo": {
     "elapsed": 1564,
     "status": "ok",
     "timestamp": 1597718835287,
     "user": {
      "displayName": "김현진",
      "photoUrl": "",
      "userId": "10981707102385748924"
     },
     "user_tz": -540
    },
    "id": "gZPiOhi8dmdR",
    "outputId": "2eeafc19-c5be-464f-ea13-99d6f95fc97d"
   },
   "outputs": [
    {
     "data": {
      "text/plain": [
       "array([[1, 1, 0, 0],\n",
       "       [0, 1, 0, 2],\n",
       "       [0, 0, 1, 0],\n",
       "       [0, 0, 1, 0],\n",
       "       [0, 1, 0, 1],\n",
       "       [1, 0, 2, 1]])"
      ]
     },
     "execution_count": 3,
     "metadata": {},
     "output_type": "execute_result"
    }
   ],
   "source": [
    "DTM.toarray().T"
   ]
  },
  {
   "cell_type": "code",
   "execution_count": 4,
   "metadata": {
    "colab": {
     "base_uri": "https://localhost:8080/",
     "height": 271
    },
    "colab_type": "code",
    "executionInfo": {
     "elapsed": 864,
     "status": "ok",
     "timestamp": 1597718913975,
     "user": {
      "displayName": "김현진",
      "photoUrl": "",
      "userId": "10981707102385748924"
     },
     "user_tz": -540
    },
    "id": "dFqza5VtdmdT",
    "outputId": "fd9f6df6-b03d-45c2-956d-8c4b6d87054d"
   },
   "outputs": [
    {
     "name": "stdout",
     "output_type": "stream",
     "text": [
      "['동물원', '바나나', '아기', '엄마', '원숭이', '코끼리']\n"
     ]
    },
    {
     "data": {
      "text/html": [
       "<div>\n",
       "<style scoped>\n",
       "    .dataframe tbody tr th:only-of-type {\n",
       "        vertical-align: middle;\n",
       "    }\n",
       "\n",
       "    .dataframe tbody tr th {\n",
       "        vertical-align: top;\n",
       "    }\n",
       "\n",
       "    .dataframe thead th {\n",
       "        text-align: right;\n",
       "    }\n",
       "</style>\n",
       "<table border=\"1\" class=\"dataframe\">\n",
       "  <thead>\n",
       "    <tr style=\"text-align: right;\">\n",
       "      <th></th>\n",
       "      <th>문서0</th>\n",
       "      <th>문서1</th>\n",
       "      <th>문서2</th>\n",
       "      <th>문서3</th>\n",
       "    </tr>\n",
       "    <tr>\n",
       "      <th>단어</th>\n",
       "      <th></th>\n",
       "      <th></th>\n",
       "      <th></th>\n",
       "      <th></th>\n",
       "    </tr>\n",
       "  </thead>\n",
       "  <tbody>\n",
       "    <tr>\n",
       "      <th>동물원</th>\n",
       "      <td>1</td>\n",
       "      <td>1</td>\n",
       "      <td>0</td>\n",
       "      <td>0</td>\n",
       "    </tr>\n",
       "    <tr>\n",
       "      <th>바나나</th>\n",
       "      <td>0</td>\n",
       "      <td>1</td>\n",
       "      <td>0</td>\n",
       "      <td>2</td>\n",
       "    </tr>\n",
       "    <tr>\n",
       "      <th>아기</th>\n",
       "      <td>0</td>\n",
       "      <td>0</td>\n",
       "      <td>1</td>\n",
       "      <td>0</td>\n",
       "    </tr>\n",
       "    <tr>\n",
       "      <th>엄마</th>\n",
       "      <td>0</td>\n",
       "      <td>0</td>\n",
       "      <td>1</td>\n",
       "      <td>0</td>\n",
       "    </tr>\n",
       "    <tr>\n",
       "      <th>원숭이</th>\n",
       "      <td>0</td>\n",
       "      <td>1</td>\n",
       "      <td>0</td>\n",
       "      <td>1</td>\n",
       "    </tr>\n",
       "    <tr>\n",
       "      <th>코끼리</th>\n",
       "      <td>1</td>\n",
       "      <td>0</td>\n",
       "      <td>2</td>\n",
       "      <td>1</td>\n",
       "    </tr>\n",
       "  </tbody>\n",
       "</table>\n",
       "</div>"
      ],
      "text/plain": [
       "     문서0  문서1  문서2  문서3\n",
       "단어                     \n",
       "동물원    1    1    0    0\n",
       "바나나    0    1    0    2\n",
       "아기     0    0    1    0\n",
       "엄마     0    0    1    0\n",
       "원숭이    0    1    0    1\n",
       "코끼리    1    0    2    1"
      ]
     },
     "execution_count": 4,
     "metadata": {},
     "output_type": "execute_result"
    }
   ],
   "source": [
    "import pandas as pd\n",
    "\n",
    "doc_names = ['문서'+ str(i) for i in range(len(docs))]\n",
    "vocab = count_vect.get_feature_names()\n",
    "print(vocab)\n",
    "df_TDM = pd.DataFrame(DTM.toarray().T, columns=doc_names)\n",
    "df_TDM['단어'] = vocab\n",
    "df_TDM.set_index('단어')"
   ]
  },
  {
   "cell_type": "markdown",
   "metadata": {
    "colab_type": "text",
    "id": "5kAtr1gzdmdV"
   },
   "source": [
    "# gensim"
   ]
  },
  {
   "cell_type": "code",
   "execution_count": 5,
   "metadata": {
    "colab": {},
    "colab_type": "code",
    "executionInfo": {
     "elapsed": 1013,
     "status": "ok",
     "timestamp": 1597718932006,
     "user": {
      "displayName": "김현진",
      "photoUrl": "",
      "userId": "10981707102385748924"
     },
     "user_tz": -540
    },
    "id": "oxFvyNm1dmdW"
   },
   "outputs": [],
   "source": [
    "docs = ['동물원 코끼리',\n",
    "        '동물원 원숭이 바나나',\n",
    "        '엄마 코끼리 아기 코끼리',\n",
    "        '원숭이 바나나 코끼리 바나나']"
   ]
  },
  {
   "cell_type": "code",
   "execution_count": 6,
   "metadata": {
    "colab": {
     "base_uri": "https://localhost:8080/",
     "height": 84
    },
    "colab_type": "code",
    "executionInfo": {
     "elapsed": 781,
     "status": "ok",
     "timestamp": 1597718932007,
     "user": {
      "displayName": "김현진",
      "photoUrl": "",
      "userId": "10981707102385748924"
     },
     "user_tz": -540
    },
    "id": "LHZMrCdOdmdX",
    "outputId": "070ce148-a0fd-4ca3-d85a-8aabec7e3023"
   },
   "outputs": [
    {
     "data": {
      "text/plain": [
       "[[(0, 1), (1, 1)],\n",
       " [(0, 1), (2, 1), (3, 1)],\n",
       " [(1, 2), (4, 1), (5, 1)],\n",
       " [(1, 1), (2, 2), (3, 1)]]"
      ]
     },
     "execution_count": 6,
     "metadata": {},
     "output_type": "execute_result"
    }
   ],
   "source": [
    "import gensim\n",
    "from gensim import corpora\n",
    "\n",
    "doc_ls = [doc.split() for doc in docs] #공백으로 토큰화\n",
    "id2word = corpora.Dictionary(doc_ls)\n",
    "TDM = [id2word.doc2bow(doc) for doc in doc_ls]\n",
    "TDM"
   ]
  },
  {
   "cell_type": "code",
   "execution_count": 7,
   "metadata": {
    "colab": {
     "base_uri": "https://localhost:8080/",
     "height": 254
    },
    "colab_type": "code",
    "executionInfo": {
     "elapsed": 939,
     "status": "ok",
     "timestamp": 1597718932431,
     "user": {
      "displayName": "김현진",
      "photoUrl": "",
      "userId": "10981707102385748924"
     },
     "user_tz": -540
    },
    "id": "aVjWo3Xtdmda",
    "outputId": "67e811d9-97a7-4f2b-d90b-70b60a7f8cf9"
   },
   "outputs": [
    {
     "data": {
      "text/html": [
       "<div>\n",
       "<style scoped>\n",
       "    .dataframe tbody tr th:only-of-type {\n",
       "        vertical-align: middle;\n",
       "    }\n",
       "\n",
       "    .dataframe tbody tr th {\n",
       "        vertical-align: top;\n",
       "    }\n",
       "\n",
       "    .dataframe thead th {\n",
       "        text-align: right;\n",
       "    }\n",
       "</style>\n",
       "<table border=\"1\" class=\"dataframe\">\n",
       "  <thead>\n",
       "    <tr style=\"text-align: right;\">\n",
       "      <th></th>\n",
       "      <th>문서0</th>\n",
       "      <th>문서1</th>\n",
       "      <th>문서2</th>\n",
       "      <th>문서3</th>\n",
       "    </tr>\n",
       "    <tr>\n",
       "      <th>단어</th>\n",
       "      <th></th>\n",
       "      <th></th>\n",
       "      <th></th>\n",
       "      <th></th>\n",
       "    </tr>\n",
       "  </thead>\n",
       "  <tbody>\n",
       "    <tr>\n",
       "      <th>동물원</th>\n",
       "      <td>1</td>\n",
       "      <td>1</td>\n",
       "      <td>0</td>\n",
       "      <td>0</td>\n",
       "    </tr>\n",
       "    <tr>\n",
       "      <th>코끼리</th>\n",
       "      <td>1</td>\n",
       "      <td>0</td>\n",
       "      <td>2</td>\n",
       "      <td>1</td>\n",
       "    </tr>\n",
       "    <tr>\n",
       "      <th>바나나</th>\n",
       "      <td>0</td>\n",
       "      <td>1</td>\n",
       "      <td>0</td>\n",
       "      <td>2</td>\n",
       "    </tr>\n",
       "    <tr>\n",
       "      <th>원숭이</th>\n",
       "      <td>0</td>\n",
       "      <td>1</td>\n",
       "      <td>0</td>\n",
       "      <td>1</td>\n",
       "    </tr>\n",
       "    <tr>\n",
       "      <th>아기</th>\n",
       "      <td>0</td>\n",
       "      <td>0</td>\n",
       "      <td>1</td>\n",
       "      <td>0</td>\n",
       "    </tr>\n",
       "    <tr>\n",
       "      <th>엄마</th>\n",
       "      <td>0</td>\n",
       "      <td>0</td>\n",
       "      <td>1</td>\n",
       "      <td>0</td>\n",
       "    </tr>\n",
       "  </tbody>\n",
       "</table>\n",
       "</div>"
      ],
      "text/plain": [
       "     문서0  문서1  문서2  문서3\n",
       "단어                     \n",
       "동물원    1    1    0    0\n",
       "코끼리    1    0    2    1\n",
       "바나나    0    1    0    2\n",
       "원숭이    0    1    0    1\n",
       "아기     0    0    1    0\n",
       "엄마     0    0    1    0"
      ]
     },
     "execution_count": 7,
     "metadata": {},
     "output_type": "execute_result"
    }
   ],
   "source": [
    "from gensim.matutils import sparse2full\n",
    "import pandas as pd\n",
    "import numpy as np\n",
    "doc_names = ['문서'+ str(i) for i in range(len(docs))]\n",
    "vocab = [id2word[i] for i in id2word.keys()]\n",
    "DTM_matrix = [sparse2full(doc, len(vocab)).tolist() for doc in TDM]\n",
    "\n",
    "df_TDM = pd.DataFrame(np.array(DTM_matrix, dtype=int).T, columns=doc_names)\n",
    "df_TDM['단어'] = vocab\n",
    "df_TDM.set_index('단어')\n"
   ]
  },
  {
   "cell_type": "code",
   "execution_count": null,
   "metadata": {
    "colab": {},
    "colab_type": "code",
    "id": "-sjX9Ox2dmdb"
   },
   "outputs": [],
   "source": []
  }
 ],
 "metadata": {
  "colab": {
   "collapsed_sections": [],
   "name": "0_단어의표현_실습2_TDM.ipynb",
   "provenance": []
  },
  "kernelspec": {
   "display_name": "Python 3",
   "language": "python",
   "name": "python3"
  },
  "language_info": {
   "codemirror_mode": {
    "name": "ipython",
    "version": 3
   },
   "file_extension": ".py",
   "mimetype": "text/x-python",
   "name": "python",
   "nbconvert_exporter": "python",
   "pygments_lexer": "ipython3",
   "version": "3.6.10"
  }
 },
 "nbformat": 4,
 "nbformat_minor": 1
}
