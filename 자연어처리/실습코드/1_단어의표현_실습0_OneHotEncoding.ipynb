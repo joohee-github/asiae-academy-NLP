{
 "cells": [
  {
   "cell_type": "markdown",
   "metadata": {},
   "source": [
    "# 원핫인코딩 직접구현"
   ]
  },
  {
   "cell_type": "code",
   "execution_count": 1,
   "metadata": {},
   "outputs": [],
   "source": [
    "# 인코딩 대상 단어를 담은 리스트\n",
    "word_ls = ['원숭이','바나나','사과','코끼리']"
   ]
  },
  {
   "cell_type": "code",
   "execution_count": 15,
   "metadata": {},
   "outputs": [
    {
     "data": {
      "text/plain": [
       "array([[1., 0., 0., 0.],\n",
       "       [0., 1., 0., 0.],\n",
       "       [0., 0., 1., 0.],\n",
       "       [0., 0., 0., 1.]])"
      ]
     },
     "execution_count": 15,
     "metadata": {},
     "output_type": "execute_result"
    }
   ],
   "source": [
    "from collections import defaultdict\n",
    "import numpy as np\n",
    "# {단어:인덱스} 사전구축\n",
    "word2id_dic = defaultdict(lambda:len(word2id_dic))\n",
    "\n",
    "for word in word_ls:\n",
    "    word2id_dic[word]\n",
    "    \n",
    "# 고유단어갯수 : 4개\n",
    "n_unique_words = len(word2id_dic) \n",
    "\n",
    "# 원핫 벡터를 만들기 위해 비어있는 벡터 생성\n",
    "one_hot_vectors = np.zeros((len(word_ls), n_unique_words))\n",
    "\n",
    "# 단어고유 인덱스 \n",
    "for i,word in enumerate(word_ls):\n",
    "    index = word2id_dic[word]\n",
    "    one_hot_vectors[i,index] += 1 # 단어 고유 인덱스에 1을 더해줌. \n",
    "one_hot_vectors"
   ]
  },
  {
   "cell_type": "markdown",
   "metadata": {},
   "source": [
    "# sklearn"
   ]
  },
  {
   "cell_type": "code",
   "execution_count": 2,
   "metadata": {},
   "outputs": [
    {
     "data": {
      "text/plain": [
       "array([[0., 0., 1., 0.],\n",
       "       [1., 0., 0., 0.],\n",
       "       [0., 1., 0., 0.],\n",
       "       [0., 0., 0., 1.]])"
      ]
     },
     "execution_count": 2,
     "metadata": {},
     "output_type": "execute_result"
    }
   ],
   "source": [
    "# sklearn을 활용한 one-hot encoding\n",
    "from numpy import array\n",
    "from numpy import argmax\n",
    "from sklearn.preprocessing import LabelEncoder\n",
    "from sklearn.preprocessing import OneHotEncoder\n",
    "\n",
    "# 예제 데이터 배열\n",
    "values = array(word_ls)\n",
    "\n",
    "# 문자열에 숫자를 붙임\n",
    "label_enc = LabelEncoder()\n",
    "int_enc = label_enc.fit_transform(values)\n",
    "\n",
    "# binary encode\n",
    "onehot_enc = OneHotEncoder(sparse=False)\n",
    "int_enc = int_enc.reshape(len(int_enc), 1) # n:1 matrix로 변환\n",
    "onehot_enc = onehot_enc.fit_transform(int_enc)\n",
    "onehot_enc"
   ]
  },
  {
   "cell_type": "code",
   "execution_count": 3,
   "metadata": {},
   "outputs": [
    {
     "data": {
      "text/plain": [
       "array(['원숭이', '바나나', '사과', '코끼리'], dtype='<U3')"
      ]
     },
     "execution_count": 3,
     "metadata": {},
     "output_type": "execute_result"
    }
   ],
   "source": [
    "values"
   ]
  },
  {
   "cell_type": "code",
   "execution_count": 4,
   "metadata": {},
   "outputs": [
    {
     "data": {
      "text/plain": [
       "array([[2],\n",
       "       [0],\n",
       "       [1],\n",
       "       [3]])"
      ]
     },
     "execution_count": 4,
     "metadata": {},
     "output_type": "execute_result"
    }
   ],
   "source": [
    "int_enc"
   ]
  },
  {
   "cell_type": "code",
   "execution_count": null,
   "metadata": {},
   "outputs": [],
   "source": []
  }
 ],
 "metadata": {
  "kernelspec": {
   "display_name": "Python 3",
   "language": "python",
   "name": "python3"
  },
  "language_info": {
   "codemirror_mode": {
    "name": "ipython",
    "version": 3
   },
   "file_extension": ".py",
   "mimetype": "text/x-python",
   "name": "python",
   "nbconvert_exporter": "python",
   "pygments_lexer": "ipython3",
   "version": "3.6.10"
  }
 },
 "nbformat": 4,
 "nbformat_minor": 4
}
