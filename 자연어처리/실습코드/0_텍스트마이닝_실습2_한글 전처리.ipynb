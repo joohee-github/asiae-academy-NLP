{
 "cells": [
  {
   "cell_type": "code",
   "execution_count": 1,
   "metadata": {
    "colab": {
     "base_uri": "https://localhost:8080/",
     "height": 1000
    },
    "colab_type": "code",
    "executionInfo": {
     "elapsed": 146069,
     "status": "ok",
     "timestamp": 1597721385956,
     "user": {
      "displayName": "김현진",
      "photoUrl": "",
      "userId": "10981707102385748924"
     },
     "user_tz": -540
    },
    "id": "_ZY6Hw_VmtXb",
    "outputId": "892e955e-1782-44c3-e1ab-d3d7abf5694c"
   },
   "outputs": [],
   "source": [
    "# 코렙에만 사용하세요 \n",
    "# !sudo apt-get install g++ openjdk-7-jdk # Install Java 1.7+\n",
    "# !sudo apt-get install python-dev; pip install konlpy     # Python 2.x\n",
    "# !sudo apt-get install python3-dev; pip3 install konlpy   # Python 3.x\n",
    "# !sudo apt-get install curl\n",
    "# !bash <(curl -s https://raw.githubusercontent.com/konlpy/konlpy/master/scripts/mecab.sh)"
   ]
  },
  {
   "cell_type": "markdown",
   "metadata": {
    "colab_type": "text",
    "id": "0GZQMMjlmrkp"
   },
   "source": [
    "# 텍스트 전처리 (Text Preprocessing)\n",
    "- 텍스트를 자연어 처리를 위해 용도에 맞도록 사전에 표준화 하는 작업\n",
    "- 텍스트 내 정보를 유지하고, 중복을 제거하여 분석 효율성을 높이기 위해 전처리를 수행\n",
    "\n",
    "# 1. 토큰화(Tokenizing)\n",
    "- 텍스트를 자연어 처리를 위해 분리 하는 것\n",
    "- 토큰화는 단어별로 분리하는 \"단어 토큰화(Word Tokenization)\"와 문장별로 분리하는 \"문장 토큰화(Sentence Tokenization)\"로 구분<br/>\n",
    "(이후 실습에서는 단어 토큰화를 \"토큰화\"로 통일하여 칭하도록 한다)\n"
   ]
  },
  {
   "cell_type": "markdown",
   "metadata": {
    "colab_type": "text",
    "id": "3nOkxqHlmrkq"
   },
   "source": [
    "참고 : https://konlpy.org/en/latest/api/konlpy.tag/\n",
    "\n",
    "    # 한번에 모든 형태소 분석기를 호출할 수 있음\n",
    "    from konlpy.tag import * \n",
    "    "
   ]
  },
  {
   "cell_type": "code",
   "execution_count": 1,
   "metadata": {
    "colab": {
     "base_uri": "https://localhost:8080/",
     "height": 54
    },
    "colab_type": "code",
    "executionInfo": {
     "elapsed": 1001,
     "status": "ok",
     "timestamp": 1597721611080,
     "user": {
      "displayName": "김현진",
      "photoUrl": "",
      "userId": "10981707102385748924"
     },
     "user_tz": -540
    },
    "id": "OkGKc5q8mrkq",
    "outputId": "c1d3c710-ca92-4a49-f034-d15fa302012a"
   },
   "outputs": [
    {
     "name": "stdout",
     "output_type": "stream",
     "text": [
      "['인생은', '모두가', '함께하는', '여행이다.', '매일매일', '사는', '동안', '우리가', '할', '수', '있는', '건', '최선을', '다해', '이', '멋진', '여행을', '만끽하는', '것이다.']\n"
     ]
    }
   ],
   "source": [
    "text = '인생은 모두가 함께하는 여행이다. 매일매일 사는 동안 우리가 할 수 있는 건 최선을 다해 이 멋진 여행을 만끽하는 것이다.'\n",
    "print(text.split(' '))"
   ]
  },
  {
   "cell_type": "code",
   "execution_count": 2,
   "metadata": {
    "colab": {
     "base_uri": "https://localhost:8080/",
     "height": 54
    },
    "colab_type": "code",
    "executionInfo": {
     "elapsed": 8764,
     "status": "ok",
     "timestamp": 1597721619824,
     "user": {
      "displayName": "김현진",
      "photoUrl": "",
      "userId": "10981707102385748924"
     },
     "user_tz": -540
    },
    "id": "XyLNGU15mrku",
    "outputId": "651665c7-5d1b-4c9e-9729-965f41df8ed0"
   },
   "outputs": [
    {
     "name": "stdout",
     "output_type": "stream",
     "text": [
      "['인생', '은', '모두', '가', '함께', '하', '는', '여행', '이', '다', '.', '매일', '매일', '살', '는', '동안', '우리', '가', '하', 'ㄹ', '수', '있', '는', '건', '최선', '을', '다', '하', '아', '이', '멋지', 'ㄴ', '여행', '을', '만끽', '하', '는', '것', '이', '다', '.']\n"
     ]
    }
   ],
   "source": [
    "# 코모란\n",
    "from konlpy.tag import Komoran\n",
    "# 선언\n",
    "komoran= Komoran()\n",
    "# 토큰화 : morphs\n",
    "komoran_tokens = komoran.morphs(text)\n",
    "print(komoran_tokens)"
   ]
  },
  {
   "cell_type": "code",
   "execution_count": 3,
   "metadata": {
    "colab": {
     "base_uri": "https://localhost:8080/",
     "height": 54
    },
    "colab_type": "code",
    "executionInfo": {
     "elapsed": 10277,
     "status": "ok",
     "timestamp": 1597721621874,
     "user": {
      "displayName": "김현진",
      "photoUrl": "",
      "userId": "10981707102385748924"
     },
     "user_tz": -540
    },
    "id": "pw8pzzyhmrkw",
    "outputId": "42714f20-fb53-4bc8-a61c-e89e580cb532"
   },
   "outputs": [
    {
     "name": "stdout",
     "output_type": "stream",
     "text": [
      "['인생', '은', '모두', '가', '함께하', '는', '여행', '이', '다', '.', '매일매일', '사', '는', '동안', '우리', '가', '하', 'ㄹ', '수', '있', '는', '거', '은', '최선', '을', '다하', '어', '이', '멋지', 'ㄴ', '여행', '을', '만끽', '하', '는', '것', '이', '다', '.']\n"
     ]
    }
   ],
   "source": [
    "# 한나눔\n",
    "from konlpy.tag import Hannanum\n",
    "hannanum= Hannanum()\n",
    "hannanum_tokens = hannanum.morphs(text)\n",
    "print(hannanum_tokens)"
   ]
  },
  {
   "cell_type": "code",
   "execution_count": 4,
   "metadata": {
    "colab": {
     "base_uri": "https://localhost:8080/",
     "height": 54
    },
    "colab_type": "code",
    "executionInfo": {
     "elapsed": 20058,
     "status": "ok",
     "timestamp": 1597721631951,
     "user": {
      "displayName": "김현진",
      "photoUrl": "",
      "userId": "10981707102385748924"
     },
     "user_tz": -540
    },
    "id": "WN_5dhVkmrky",
    "outputId": "1e444eb6-00b3-4460-b26a-d362ebddb9a5"
   },
   "outputs": [
    {
     "name": "stdout",
     "output_type": "stream",
     "text": [
      "['인생', '은', '모두', '가', '함께', '하는', '여행', '이다', '.', '매', '일', '매일', '사는', '동안', '우리', '가', '할', '수', '있는', '건', '최선', '을', '다해', '이', '멋진', '여행', '을', '만끽', '하는', '것', '이다', '.']\n"
     ]
    }
   ],
   "source": [
    "#Okt(Twitter tokenizer가 v0.5.0.부터 Okt로 변경)\n",
    "from konlpy.tag import Okt\n",
    "okt= Okt()\n",
    "okt_tokens = okt.morphs(text)\n",
    "print(okt_tokens)"
   ]
  },
  {
   "cell_type": "code",
   "execution_count": 5,
   "metadata": {
    "colab": {
     "base_uri": "https://localhost:8080/",
     "height": 54
    },
    "colab_type": "code",
    "executionInfo": {
     "elapsed": 37702,
     "status": "ok",
     "timestamp": 1597721649836,
     "user": {
      "displayName": "김현진",
      "photoUrl": "",
      "userId": "10981707102385748924"
     },
     "user_tz": -540
    },
    "id": "tPOXX0Izmrk0",
    "outputId": "a1bbbec1-8235-4074-e0f4-6d172108e51c"
   },
   "outputs": [
    {
     "name": "stdout",
     "output_type": "stream",
     "text": [
      "['인생', '은', '모두', '가', '함께', '하', '는', '여행', '이', '다', '.', '매일', '매일', '살', '는', '동안', '우리', '가', '하', 'ㄹ', '수', '있', '는', '것', '은', '최선', '을', '다하', '어', '이', '멋지', 'ㄴ', '여행', '을', '만끽', '하', '는', '것', '이', '다', '.']\n"
     ]
    }
   ],
   "source": [
    "# Kkma\n",
    "from konlpy.tag import Kkma\n",
    "kkma= Kkma()\n",
    "kkma_tokens = kkma.morphs(text)\n",
    "print(kkma_tokens)"
   ]
  },
  {
   "cell_type": "markdown",
   "metadata": {
    "colab_type": "text",
    "id": "O5Z-Izdsmrk2"
   },
   "source": [
    "# 2) 품사 부착(PoS Tagging)\n",
    "- 각 토큰에 품사 정보를 추가\n",
    "- 분석시에 불필요한 품사를 제거하거나 (예. 조사, 접속사 등) 필요한 품사를 필터링 하기 위해 사용"
   ]
  },
  {
   "cell_type": "code",
   "execution_count": 6,
   "metadata": {},
   "outputs": [
    {
     "data": {
      "text/plain": [
       "['인생',\n",
       " '은',\n",
       " '모두',\n",
       " '가',\n",
       " '함께',\n",
       " '하',\n",
       " '는',\n",
       " '여행',\n",
       " '이',\n",
       " '다',\n",
       " '.',\n",
       " '매일',\n",
       " '매일',\n",
       " '살',\n",
       " '는',\n",
       " '동안',\n",
       " '우리',\n",
       " '가',\n",
       " '하',\n",
       " 'ㄹ',\n",
       " '수',\n",
       " '있',\n",
       " '는',\n",
       " '건',\n",
       " '최선',\n",
       " '을',\n",
       " '다',\n",
       " '하',\n",
       " '아',\n",
       " '이',\n",
       " '멋지',\n",
       " 'ㄴ',\n",
       " '여행',\n",
       " '을',\n",
       " '만끽',\n",
       " '하',\n",
       " '는',\n",
       " '것',\n",
       " '이',\n",
       " '다',\n",
       " '.']"
      ]
     },
     "execution_count": 6,
     "metadata": {},
     "output_type": "execute_result"
    }
   ],
   "source": [
    "komoran_tokens"
   ]
  },
  {
   "cell_type": "code",
   "execution_count": 7,
   "metadata": {
    "colab": {
     "base_uri": "https://localhost:8080/",
     "height": 54
    },
    "colab_type": "code",
    "executionInfo": {
     "elapsed": 37239,
     "status": "ok",
     "timestamp": 1597721649837,
     "user": {
      "displayName": "김현진",
      "photoUrl": "",
      "userId": "10981707102385748924"
     },
     "user_tz": -540
    },
    "id": "Hj37_65Jmrk2",
    "outputId": "42b1becf-7b7a-47bd-eacd-021b1814aa55"
   },
   "outputs": [
    {
     "name": "stdout",
     "output_type": "stream",
     "text": [
      "[('인생', 'NNG'), ('은', 'NNP'), ('모두', 'MAG'), ('가', 'VV'), ('아', 'EC'), ('함께', 'MAG'), ('하', 'NNG'), ('늘', 'VV'), ('ㄴ', 'ETM'), ('여행', 'NNG'), ('이', 'MM'), ('다', 'MAG'), ('.', 'SF'), ('매일', 'MAG'), ('매일', 'MAG'), ('살', 'VV'), ('ㄹ', 'ETM'), ('늘', 'VV'), ('ㄴ', 'ETM'), ('동안', 'NNG'), ('우리', 'NP'), ('가', 'VV'), ('아', 'EC'), ('하', 'NNG'), ('ㄹ', 'NA'), ('수', 'NNB'), ('있', 'VV'), ('늘', 'VV'), ('ㄴ', 'ETM'), ('건', 'NNB'), ('최선', 'NNP'), ('을', 'NNG'), ('다', 'MAG'), ('하', 'NNG'), ('아', 'IC'), ('이', 'MM'), ('멋', 'NNG'), ('지', 'NNB'), ('ㄴ', 'JX'), ('여행', 'NNG'), ('을', 'NNG'), ('만끽', 'NNP'), ('하', 'NNG'), ('늘', 'VV'), ('ㄴ', 'ETM'), ('것', 'NNB'), ('이', 'MM'), ('다', 'MAG'), ('.', 'SF')]\n"
     ]
    }
   ],
   "source": [
    "# 코모란\n",
    "komoranTag = []\n",
    "for token in komoran_tokens:\n",
    "    komoranTag += komoran.pos(token)\n",
    "print(komoranTag)"
   ]
  },
  {
   "cell_type": "code",
   "execution_count": 8,
   "metadata": {
    "colab": {
     "base_uri": "https://localhost:8080/",
     "height": 54
    },
    "colab_type": "code",
    "executionInfo": {
     "elapsed": 36973,
     "status": "ok",
     "timestamp": 1597721649837,
     "user": {
      "displayName": "김현진",
      "photoUrl": "",
      "userId": "10981707102385748924"
     },
     "user_tz": -540
    },
    "id": "MEwRuTGhmrk4",
    "outputId": "96aa0228-a20d-4543-aaea-3f76e5e3b228"
   },
   "outputs": [
    {
     "name": "stdout",
     "output_type": "stream",
     "text": [
      "[('인생', 'N'), ('은', 'N'), ('모두', 'M'), ('가', 'J'), ('함께하', 'P'), ('어', 'E'), ('늘', 'P'), ('ㄴ', 'E'), ('여행', 'N'), ('이', 'M'), ('다', 'M'), ('.', 'S'), ('매일매일', 'M'), ('사', 'N'), ('늘', 'P'), ('ㄴ', 'E'), ('동안', 'N'), ('우리', 'N'), ('가', 'J'), ('하', 'I'), ('ㄹ', 'N'), ('수', 'N'), ('있', 'N'), ('늘', 'P'), ('ㄴ', 'E'), ('것', 'N'), ('은', 'N'), ('최선', 'N'), ('을', 'N'), ('다하', 'P'), ('어', 'E'), ('어', 'N'), ('이', 'M'), ('멋지', 'N'), ('ㄴ', 'N'), ('여행', 'N'), ('을', 'N'), ('만끽', 'N'), ('하', 'I'), ('늘', 'P'), ('ㄴ', 'E'), ('것', 'N'), ('이', 'M'), ('다', 'M'), ('.', 'S')]\n"
     ]
    }
   ],
   "source": [
    "# 한나눔\n",
    "hannanumTag = []\n",
    "for token in hannanum_tokens:\n",
    "    hannanumTag += hannanum.pos(token)\n",
    "print(hannanumTag)"
   ]
  },
  {
   "cell_type": "code",
   "execution_count": 8,
   "metadata": {
    "colab": {
     "base_uri": "https://localhost:8080/",
     "height": 54
    },
    "colab_type": "code",
    "executionInfo": {
     "elapsed": 36817,
     "status": "ok",
     "timestamp": 1597721649838,
     "user": {
      "displayName": "김현진",
      "photoUrl": "",
      "userId": "10981707102385748924"
     },
     "user_tz": -540
    },
    "id": "PbcZXz--mrk7",
    "outputId": "93963a66-b0b7-4d7b-b157-30045e5b7c50"
   },
   "outputs": [
    {
     "name": "stdout",
     "output_type": "stream",
     "text": [
      "[('인생', 'Noun'), ('은', 'Noun'), ('모두', 'Noun'), ('가', 'Verb'), ('함께', 'Adverb'), ('하는', 'Verb'), ('여행', 'Noun'), ('이다', 'Josa'), ('.', 'Punctuation'), ('매', 'Noun'), ('일', 'Noun'), ('매일', 'Noun'), ('사는', 'Verb'), ('동안', 'Noun'), ('우리', 'Noun'), ('가', 'Verb'), ('할', 'Verb'), ('수', 'Noun'), ('있는', 'Adjective'), ('건', 'Noun'), ('최선', 'Noun'), ('을', 'Josa'), ('다해', 'Noun'), ('이', 'Noun'), ('멋진', 'Adjective'), ('여행', 'Noun'), ('을', 'Josa'), ('만끽', 'Noun'), ('하는', 'Verb'), ('것', 'Noun'), ('이다', 'Josa'), ('.', 'Punctuation')]\n"
     ]
    }
   ],
   "source": [
    "#Okt\n",
    "oktTag = []\n",
    "for token in okt_tokens:\n",
    "    oktTag += okt.pos(token)\n",
    "print(oktTag)"
   ]
  },
  {
   "cell_type": "code",
   "execution_count": 10,
   "metadata": {
    "colab": {
     "base_uri": "https://localhost:8080/",
     "height": 54
    },
    "colab_type": "code",
    "executionInfo": {
     "elapsed": 36598,
     "status": "ok",
     "timestamp": 1597721649838,
     "user": {
      "displayName": "김현진",
      "photoUrl": "",
      "userId": "10981707102385748924"
     },
     "user_tz": -540
    },
    "id": "I7EdxGLrmrk8",
    "outputId": "3a65427e-e8c2-49c7-8e1e-0be5b4f5db90"
   },
   "outputs": [
    {
     "name": "stdout",
     "output_type": "stream",
     "text": [
      "[('인생', 'NNG'), ('은', 'NNG'), ('모두', 'MAG'), ('가', 'NNG'), ('함께', 'MAG'), ('하', 'NNG'), ('늘', 'VA'), ('ㄴ', 'ETD'), ('여행', 'NNG'), ('이', 'NNG'), ('다', 'NNG'), ('.', 'SF'), ('매일', 'MAG'), ('매일', 'MAG'), ('살', 'NNG'), ('늘', 'VA'), ('ㄴ', 'ETD'), ('동안', 'NNG'), ('우리', 'NP'), ('가', 'NNG'), ('하', 'NNG'), ('ㄹ', 'NNG'), ('수', 'NNG'), ('있', 'VA'), ('늘', 'VA'), ('ㄴ', 'ETD'), ('것', 'NNB'), ('은', 'NNG'), ('최선', 'NNG'), ('을', 'NNG'), ('다하', 'VV'), ('어', 'NNG'), ('이', 'NNG'), ('멋지', 'VA'), ('ㄴ', 'NNG'), ('여행', 'NNG'), ('을', 'NNG'), ('만끽', 'NNG'), ('하', 'NNG'), ('늘', 'VA'), ('ㄴ', 'ETD'), ('것', 'NNB'), ('이', 'NNG'), ('다', 'NNG'), ('.', 'SF')]\n"
     ]
    }
   ],
   "source": [
    "# Kkma\n",
    "kkmaTag = []\n",
    "for token in kkma_tokens:\n",
    "    kkmaTag += kkma.pos(token)\n",
    "print(kkmaTag)"
   ]
  },
  {
   "cell_type": "markdown",
   "metadata": {
    "colab_type": "text",
    "id": "nk__aWETmrk-"
   },
   "source": [
    "# 3) 불용어 처리 (Stopword)\n",
    "- 자연어 처리를 위해 불필요한 요소를 제거하는 작업\n",
    "- 불필요한 품사를 제거하는 작업과 불필요한 단어를 제거하는 작업으로 구성\n",
    "- 불필요한 토큰을 제거함으로써 연산의 효율성을 높임\n",
    "\n",
    "참고 : https://konlpy-ko.readthedocs.io/ko/v0.4.3/morph/"
   ]
  },
  {
   "cell_type": "code",
   "execution_count": 11,
   "metadata": {
    "colab": {
     "base_uri": "https://localhost:8080/",
     "height": 454
    },
    "colab_type": "code",
    "executionInfo": {
     "elapsed": 36133,
     "status": "ok",
     "timestamp": 1597721649839,
     "user": {
      "displayName": "김현진",
      "photoUrl": "",
      "userId": "10981707102385748924"
     },
     "user_tz": -540
    },
    "id": "HDU0XnLhmrk_",
    "outputId": "b0771210-1812-4ed8-9dc6-bb77756f92da",
    "scrolled": false
   },
   "outputs": [
    {
     "data": {
      "text/plain": [
       "[(('가', 'Verb'), 2),\n",
       " (('하는', 'Verb'), 2),\n",
       " (('여행', 'Noun'), 2),\n",
       " (('이다', 'Josa'), 2),\n",
       " (('.', 'Punctuation'), 2),\n",
       " (('을', 'Josa'), 2),\n",
       " (('인생', 'Noun'), 1),\n",
       " (('은', 'Noun'), 1),\n",
       " (('모두', 'Noun'), 1),\n",
       " (('함께', 'Adverb'), 1),\n",
       " (('매', 'Noun'), 1),\n",
       " (('일', 'Noun'), 1),\n",
       " (('매일', 'Noun'), 1),\n",
       " (('사는', 'Verb'), 1),\n",
       " (('동안', 'Noun'), 1),\n",
       " (('우리', 'Noun'), 1),\n",
       " (('할', 'Verb'), 1),\n",
       " (('수', 'Noun'), 1),\n",
       " (('있는', 'Adjective'), 1),\n",
       " (('건', 'Noun'), 1),\n",
       " (('최선', 'Noun'), 1),\n",
       " (('다해', 'Noun'), 1),\n",
       " (('이', 'Noun'), 1),\n",
       " (('멋진', 'Adjective'), 1),\n",
       " (('만끽', 'Noun'), 1),\n",
       " (('것', 'Noun'), 1)]"
      ]
     },
     "execution_count": 11,
     "metadata": {},
     "output_type": "execute_result"
    }
   ],
   "source": [
    "# Okt\n",
    "# 최빈어 조회. 최빈어를 조회하여 불용어 제거 대상을 선정\n",
    "from collections import Counter\n",
    "Counter(oktTag).most_common()"
   ]
  },
  {
   "cell_type": "code",
   "execution_count": 9,
   "metadata": {},
   "outputs": [
    {
     "data": {
      "text/plain": [
       "[('인생', 'Noun'),\n",
       " ('은', 'Noun'),\n",
       " ('모두', 'Noun'),\n",
       " ('가', 'Verb'),\n",
       " ('함께', 'Adverb'),\n",
       " ('하는', 'Verb'),\n",
       " ('여행', 'Noun'),\n",
       " ('이다', 'Josa'),\n",
       " ('.', 'Punctuation'),\n",
       " ('매', 'Noun'),\n",
       " ('일', 'Noun'),\n",
       " ('매일', 'Noun'),\n",
       " ('사는', 'Verb'),\n",
       " ('동안', 'Noun'),\n",
       " ('우리', 'Noun'),\n",
       " ('가', 'Verb'),\n",
       " ('할', 'Verb'),\n",
       " ('수', 'Noun'),\n",
       " ('있는', 'Adjective'),\n",
       " ('건', 'Noun'),\n",
       " ('최선', 'Noun'),\n",
       " ('을', 'Josa'),\n",
       " ('다해', 'Noun'),\n",
       " ('이', 'Noun'),\n",
       " ('멋진', 'Adjective'),\n",
       " ('여행', 'Noun'),\n",
       " ('을', 'Josa'),\n",
       " ('만끽', 'Noun'),\n",
       " ('하는', 'Verb'),\n",
       " ('것', 'Noun'),\n",
       " ('이다', 'Josa'),\n",
       " ('.', 'Punctuation')]"
      ]
     },
     "execution_count": 9,
     "metadata": {},
     "output_type": "execute_result"
    }
   ],
   "source": [
    "oktTag"
   ]
  },
  {
   "cell_type": "code",
   "execution_count": 13,
   "metadata": {
    "colab": {
     "base_uri": "https://localhost:8080/",
     "height": 54
    },
    "colab_type": "code",
    "executionInfo": {
     "elapsed": 36501,
     "status": "ok",
     "timestamp": 1597721650403,
     "user": {
      "displayName": "김현진",
      "photoUrl": "",
      "userId": "10981707102385748924"
     },
     "user_tz": -540
    },
    "id": "aRdmIXHOmrlC",
    "outputId": "8db70c9f-8d1e-4ebc-d428-76ce6121d7f1"
   },
   "outputs": [
    {
     "name": "stdout",
     "output_type": "stream",
     "text": [
      "['인생', '모두', '하는', '여행', '매', '일', '매일', '사는', '동안', '우리', '있는', '최선', '다해', '이', '멋진', '여행', '만끽', '하는']\n"
     ]
    }
   ],
   "source": [
    "#불용어 처리\n",
    "stopPos = ['Determiner','Adverb','Conjunction','Josa','PreEomi','Eomi','Suffix',\n",
    "           'Punctuation','Foreign','Alpha','Number','Unknown']\n",
    "stopWord = ['을','은','가','할','수','건','것']\n",
    "word = []\n",
    "for tag in oktTag:\n",
    "    if tag[1] not in stopPos:\n",
    "        if tag[0] not in stopWord:\n",
    "            word.append(tag[0])         \n",
    "print(word)"
   ]
  },
  {
   "cell_type": "code",
   "execution_count": 11,
   "metadata": {
    "colab": {
     "base_uri": "https://localhost:8080/",
     "height": 54
    },
    "colab_type": "code",
    "executionInfo": {
     "elapsed": 36278,
     "status": "ok",
     "timestamp": 1597721650403,
     "user": {
      "displayName": "김현진",
      "photoUrl": "",
      "userId": "10981707102385748924"
     },
     "user_tz": -540
    },
    "id": "hTbHjWNjmrlE",
    "outputId": "38811f4d-9b9b-46f1-9b67-60c3b03331be"
   },
   "outputs": [
    {
     "name": "stdout",
     "output_type": "stream",
     "text": [
      "['인생', '은', '모두', '가', '함께', '하는', '여행', '이다', '.', '매', '일', '매일', '사는', '동안', '우리', '가', '할', '수', '있는', '건', '최선', '을', '다해', '이', '멋진', '여행', '을', '만끽', '하는', '것', '이다', '.']\n"
     ]
    }
   ],
   "source": [
    "print(okt_tokens)"
   ]
  },
  {
   "cell_type": "code",
   "execution_count": 14,
   "metadata": {
    "colab": {},
    "colab_type": "code",
    "executionInfo": {
     "elapsed": 36087,
     "status": "ok",
     "timestamp": 1597721650404,
     "user": {
      "displayName": "김현진",
      "photoUrl": "",
      "userId": "10981707102385748924"
     },
     "user_tz": -540
    },
    "id": "MX9hn7AhmrlG"
   },
   "outputs": [],
   "source": [
    "from konlpy.tag import Mecab"
   ]
  },
  {
   "cell_type": "code",
   "execution_count": 15,
   "metadata": {},
   "outputs": [],
   "source": [
    "mecab = Mecab()"
   ]
  },
  {
   "cell_type": "code",
   "execution_count": null,
   "metadata": {},
   "outputs": [],
   "source": []
  }
 ],
 "metadata": {
  "colab": {
   "name": "0_텍스트마이닝_실습2_한글 전처리.ipynb",
   "provenance": []
  },
  "kernelspec": {
   "display_name": "Python 3",
   "language": "python",
   "name": "python3"
  },
  "language_info": {
   "codemirror_mode": {
    "name": "ipython",
    "version": 3
   },
   "file_extension": ".py",
   "mimetype": "text/x-python",
   "name": "python",
   "nbconvert_exporter": "python",
   "pygments_lexer": "ipython3",
   "version": "3.6.10"
  }
 },
 "nbformat": 4,
 "nbformat_minor": 1
}
