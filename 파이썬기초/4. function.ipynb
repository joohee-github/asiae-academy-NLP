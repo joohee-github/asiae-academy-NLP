{
 "cells": [
  {
   "cell_type": "code",
   "execution_count": 1,
   "metadata": {},
   "outputs": [],
   "source": [
    "def add_num(num1, num2):\n",
    "    print(\"add.num 함수 실행\") #출력\n",
    "    return num1 + num2    #반환"
   ]
  },
  {
   "cell_type": "code",
   "execution_count": 2,
   "metadata": {},
   "outputs": [
    {
     "name": "stdout",
     "output_type": "stream",
     "text": [
      "add.num 함수 실행\n"
     ]
    },
    {
     "data": {
      "text/plain": [
       "8"
      ]
     },
     "execution_count": 2,
     "metadata": {},
     "output_type": "execute_result"
    }
   ],
   "source": [
    "add_num(3,5)"
   ]
  },
  {
   "cell_type": "code",
   "execution_count": 5,
   "metadata": {},
   "outputs": [
    {
     "name": "stdout",
     "output_type": "stream",
     "text": [
      "add.num 함수 실행\n"
     ]
    },
    {
     "data": {
      "text/plain": [
       "8"
      ]
     },
     "execution_count": 5,
     "metadata": {},
     "output_type": "execute_result"
    }
   ],
   "source": [
    "output = add_num(3,5)   #return변수가 assign됨\n",
    "output"
   ]
  },
  {
   "cell_type": "markdown",
   "metadata": {},
   "source": [
    "## 인자, 반환값"
   ]
  },
  {
   "cell_type": "code",
   "execution_count": 10,
   "metadata": {},
   "outputs": [],
   "source": [
    "#인자 x return x\n",
    "\n",
    "def func1():\n",
    "    print(\"Hello world\")"
   ]
  },
  {
   "cell_type": "code",
   "execution_count": 17,
   "metadata": {},
   "outputs": [
    {
     "name": "stdout",
     "output_type": "stream",
     "text": [
      "Hello world\n"
     ]
    }
   ],
   "source": [
    "func1()"
   ]
  },
  {
   "cell_type": "code",
   "execution_count": 18,
   "metadata": {},
   "outputs": [
    {
     "name": "stdout",
     "output_type": "stream",
     "text": [
      "Hello world\n",
      "None\n"
     ]
    }
   ],
   "source": [
    "a = func1()\n",
    "print(a)  # 반환값이 없으므로 None 출력"
   ]
  },
  {
   "cell_type": "code",
   "execution_count": 13,
   "metadata": {},
   "outputs": [],
   "source": [
    "#인자 x return o\n",
    "def func2():\n",
    "           return(\"Hello World\")\n",
    "            "
   ]
  },
  {
   "cell_type": "code",
   "execution_count": 23,
   "metadata": {},
   "outputs": [
    {
     "name": "stdout",
     "output_type": "stream",
     "text": [
      "Hello World\n"
     ]
    }
   ],
   "source": [
    "a = func2()\n",
    "print(a)"
   ]
  },
  {
   "cell_type": "code",
   "execution_count": 19,
   "metadata": {},
   "outputs": [],
   "source": [
    "#인자 o return o\n",
    "def func3(name):\n",
    "    return \"Hello %s\" % name\n",
    "    "
   ]
  },
  {
   "cell_type": "code",
   "execution_count": 21,
   "metadata": {},
   "outputs": [
    {
     "data": {
      "text/plain": [
       "'Hello python'"
      ]
     },
     "execution_count": 21,
     "metadata": {},
     "output_type": "execute_result"
    }
   ],
   "source": [
    "a = func3('python')\n",
    "a"
   ]
  },
  {
   "cell_type": "code",
   "execution_count": 15,
   "metadata": {},
   "outputs": [],
   "source": [
    "#인자 o return x\n",
    "def func4(name):\n",
    "    print(\"Hello %s\" % name)"
   ]
  },
  {
   "cell_type": "code",
   "execution_count": 22,
   "metadata": {},
   "outputs": [
    {
     "name": "stdout",
     "output_type": "stream",
     "text": [
      "Hello python\n",
      "None\n"
     ]
    }
   ],
   "source": [
    "a = func4('python')\n",
    "print(a)    # 반환값이 없으므로 None 출력"
   ]
  },
  {
   "cell_type": "markdown",
   "metadata": {},
   "source": [
    "### 전역변수, 지역변수"
   ]
  },
  {
   "cell_type": "code",
   "execution_count": 26,
   "metadata": {},
   "outputs": [],
   "source": [
    "a, b, c = 1, 2, 5"
   ]
  },
  {
   "cell_type": "code",
   "execution_count": 27,
   "metadata": {},
   "outputs": [],
   "source": [
    "def func1():\n",
    "    a = 3\n",
    "    b = 4\n",
    "    print(a,b,c)\n",
    "    return"
   ]
  },
  {
   "cell_type": "code",
   "execution_count": 28,
   "metadata": {},
   "outputs": [
    {
     "name": "stdout",
     "output_type": "stream",
     "text": [
      "3 4 5\n"
     ]
    }
   ],
   "source": [
    "func1()"
   ]
  },
  {
   "cell_type": "code",
   "execution_count": 29,
   "metadata": {},
   "outputs": [
    {
     "data": {
      "text/plain": [
       "(1, 2, 5)"
      ]
     },
     "execution_count": 29,
     "metadata": {},
     "output_type": "execute_result"
    }
   ],
   "source": [
    "a,b,c"
   ]
  },
  {
   "cell_type": "code",
   "execution_count": 30,
   "metadata": {},
   "outputs": [],
   "source": [
    "def func2():\n",
    "    a = 5\n",
    "    b = 6\n",
    "    \n",
    "    func1()      # 3,4,5\n",
    "    \n",
    "    print(a,b)  # 5, 6"
   ]
  },
  {
   "cell_type": "code",
   "execution_count": 31,
   "metadata": {},
   "outputs": [
    {
     "name": "stdout",
     "output_type": "stream",
     "text": [
      "3 4 5\n",
      "5 6\n"
     ]
    }
   ],
   "source": [
    "func2()"
   ]
  },
  {
   "cell_type": "code",
   "execution_count": 32,
   "metadata": {},
   "outputs": [],
   "source": [
    "a = 5\n",
    "\n",
    "def func3():\n",
    "    global a\n",
    "    a = 1\n",
    "    print(a)"
   ]
  },
  {
   "cell_type": "code",
   "execution_count": 33,
   "metadata": {},
   "outputs": [
    {
     "name": "stdout",
     "output_type": "stream",
     "text": [
      "1\n"
     ]
    }
   ],
   "source": [
    "func3()"
   ]
  },
  {
   "cell_type": "code",
   "execution_count": 34,
   "metadata": {},
   "outputs": [
    {
     "data": {
      "text/plain": [
       "1"
      ]
     },
     "execution_count": 34,
     "metadata": {},
     "output_type": "execute_result"
    }
   ],
   "source": [
    "a"
   ]
  },
  {
   "cell_type": "markdown",
   "metadata": {},
   "source": [
    "## 연습문제1\n",
    "\n",
    "사칙연산 함수만들기\n",
    "ex)\n",
    "calc(5, 6)\n",
    "덧셈: 11, 뺄셈: -1, 곱셈: 30, 나눗셈: 0.8333333333333334\n",
    "\n",
    "a= calc(5,6)\n",
    "\n",
    "\n",
    "return Type: (덧셈결과, 뺄셈결과, 곱셈결과, 나눗셈결과)\n",
    "\n",
    "\n",
    "\n"
   ]
  },
  {
   "cell_type": "code",
   "execution_count": 94,
   "metadata": {},
   "outputs": [],
   "source": [
    "def calc(a,b):\n",
    "    result = (a+b, a-b, a*b, a/b)\n",
    "    #print(\"덧셈 : {}, 뺄셈 : {}. 곱셈 : {}. 나눗셈 : {}\".format(result[0],result[1],result[2],result[3]))\n",
    "    print(\"덧셈 : {}, 뺄셈 : {}. 곱셈 : {}. 나눗셈 : {}\".format(*result))\n",
    "    return result\n"
   ]
  },
  {
   "cell_type": "code",
   "execution_count": 95,
   "metadata": {},
   "outputs": [
    {
     "name": "stdout",
     "output_type": "stream",
     "text": [
      "덧셈 : 11, 뺄셈 : -1. 곱셈 : 30. 나눗셈 : 0.8333333333333334\n"
     ]
    },
    {
     "data": {
      "text/plain": [
       "(11, -1, 30, 0.8333333333333334)"
      ]
     },
     "execution_count": 95,
     "metadata": {},
     "output_type": "execute_result"
    }
   ],
   "source": [
    "calc(5,6)"
   ]
  },
  {
   "cell_type": "markdown",
   "metadata": {},
   "source": [
    "\n",
    "## 연습문제2\n",
    "해당값을 모두 찾아 위치를 리턴해주는 함수만들기\n",
    "ex)\n",
    "\n",
    "\n",
    "lis = [1, 2, 3, 1, 4, 2, 1]\n",
    "\n",
    "\n",
    "allindex(lis, 1)\n",
    "\n",
    "[0, 3, 6]\n",
    "\n",
    "def allinedx(a, b):\n"
   ]
  },
  {
   "cell_type": "code",
   "execution_count": 88,
   "metadata": {},
   "outputs": [],
   "source": [
    "# 내가 한 것\n",
    "def allindex(a,b):\n",
    "    for i in a:     \n",
    "        if i == b:\n",
    "            return print(a[b])        \n",
    "      "
   ]
  },
  {
   "cell_type": "code",
   "execution_count": 90,
   "metadata": {},
   "outputs": [
    {
     "name": "stdout",
     "output_type": "stream",
     "text": [
      "1\n"
     ]
    }
   ],
   "source": [
    "lis = [1,2,3,1,4,2,1]\n",
    "allindex(lis, 3)"
   ]
  },
  {
   "cell_type": "code",
   "execution_count": 100,
   "metadata": {},
   "outputs": [],
   "source": [
    "# 답\n",
    "\n",
    "def allindex(l,target):\n",
    "    result = []\n",
    "    for idx, value in enumerate(l):\n",
    "        if value == target:\n",
    "            result.append(idx)\n",
    "    return result\n",
    "    "
   ]
  },
  {
   "cell_type": "code",
   "execution_count": 101,
   "metadata": {},
   "outputs": [
    {
     "data": {
      "text/plain": [
       "[0, 3, 6]"
      ]
     },
     "execution_count": 101,
     "metadata": {},
     "output_type": "execute_result"
    }
   ],
   "source": [
    "lis = [1,2,3,1,4,2,1]\n",
    "allindex(lis, 1)"
   ]
  },
  {
   "cell_type": "code",
   "execution_count": null,
   "metadata": {},
   "outputs": [],
   "source": []
  },
  {
   "cell_type": "markdown",
   "metadata": {},
   "source": [
    "# lambda 함수"
   ]
  },
  {
   "cell_type": "code",
   "execution_count": 102,
   "metadata": {},
   "outputs": [
    {
     "data": {
      "text/plain": [
       "25"
      ]
     },
     "execution_count": 102,
     "metadata": {},
     "output_type": "execute_result"
    }
   ],
   "source": [
    "(lambda x:x**2)(5)   #5의 2승"
   ]
  },
  {
   "cell_type": "code",
   "execution_count": 103,
   "metadata": {},
   "outputs": [
    {
     "data": {
      "text/plain": [
       "(7, -1)"
      ]
     },
     "execution_count": 103,
     "metadata": {},
     "output_type": "execute_result"
    }
   ],
   "source": [
    "(lambda x,y:(x+y, x-y))(3,4)"
   ]
  },
  {
   "cell_type": "code",
   "execution_count": 104,
   "metadata": {},
   "outputs": [],
   "source": [
    "add = lambda x,y:x+y"
   ]
  },
  {
   "cell_type": "code",
   "execution_count": 105,
   "metadata": {},
   "outputs": [
    {
     "data": {
      "text/plain": [
       "7"
      ]
     },
     "execution_count": 105,
     "metadata": {},
     "output_type": "execute_result"
    }
   ],
   "source": [
    "add(3,4)"
   ]
  },
  {
   "cell_type": "code",
   "execution_count": 126,
   "metadata": {},
   "outputs": [],
   "source": [
    "lis = [1, 2, 3, 1, 4, 2, 1]"
   ]
  },
  {
   "cell_type": "code",
   "execution_count": 219,
   "metadata": {},
   "outputs": [
    {
     "ename": "TypeError",
     "evalue": "'list' object is not callable",
     "output_type": "error",
     "traceback": [
      "\u001b[1;31m---------------------------------------------------------------------------\u001b[0m",
      "\u001b[1;31mTypeError\u001b[0m                                 Traceback (most recent call last)",
      "\u001b[1;32m<ipython-input-219-cc6cfb47be7b>\u001b[0m in \u001b[0;36m<module>\u001b[1;34m\u001b[0m\n\u001b[1;32m----> 1\u001b[1;33m \u001b[0mlist\u001b[0m\u001b[1;33m(\u001b[0m\u001b[0mmap\u001b[0m\u001b[1;33m(\u001b[0m\u001b[0mstr\u001b[0m\u001b[1;33m,\u001b[0m \u001b[0mlis\u001b[0m\u001b[1;33m)\u001b[0m\u001b[1;33m)\u001b[0m\u001b[1;33m\u001b[0m\u001b[1;33m\u001b[0m\u001b[0m\n\u001b[0m",
      "\u001b[1;31mTypeError\u001b[0m: 'list' object is not callable"
     ]
    }
   ],
   "source": [
    "list(map(str, lis))"
   ]
  },
  {
   "cell_type": "code",
   "execution_count": 128,
   "metadata": {},
   "outputs": [
    {
     "data": {
      "text/plain": [
       "[1, 2, 3, 1, 4, 2, 1]"
      ]
     },
     "execution_count": 128,
     "metadata": {},
     "output_type": "execute_result"
    }
   ],
   "source": [
    "lis = [1, 2, 3, 1, 4, 2, 1]\n",
    "lis"
   ]
  },
  {
   "cell_type": "code",
   "execution_count": 129,
   "metadata": {},
   "outputs": [
    {
     "ename": "TypeError",
     "evalue": "'list' object is not callable",
     "output_type": "error",
     "traceback": [
      "\u001b[1;31m---------------------------------------------------------------------------\u001b[0m",
      "\u001b[1;31mTypeError\u001b[0m                                 Traceback (most recent call last)",
      "\u001b[1;32m<ipython-input-129-35410ece9f82>\u001b[0m in \u001b[0;36m<module>\u001b[1;34m\u001b[0m\n\u001b[1;32m----> 1\u001b[1;33m \u001b[0mlist\u001b[0m\u001b[1;33m(\u001b[0m\u001b[0mmap\u001b[0m\u001b[1;33m(\u001b[0m\u001b[1;32mlambda\u001b[0m \u001b[0mx\u001b[0m\u001b[1;33m:\u001b[0m\u001b[0mx\u001b[0m\u001b[1;33m**\u001b[0m\u001b[1;36m2\u001b[0m\u001b[1;33m,\u001b[0m \u001b[0mlis\u001b[0m\u001b[1;33m)\u001b[0m\u001b[1;33m)\u001b[0m\u001b[1;33m\u001b[0m\u001b[1;33m\u001b[0m\u001b[0m\n\u001b[0m",
      "\u001b[1;31mTypeError\u001b[0m: 'list' object is not callable"
     ]
    }
   ],
   "source": [
    "list(map(lambda x:x**2, lis))"
   ]
  },
  {
   "cell_type": "markdown",
   "metadata": {},
   "source": [
    "# 인수 Arguments"
   ]
  },
  {
   "cell_type": "code",
   "execution_count": 135,
   "metadata": {},
   "outputs": [],
   "source": [
    "def make_profile(name,email,height):\n",
    "    return {\n",
    "        'name' : name,\n",
    "        'email' : email,\n",
    "        'height' : height\n",
    "    }"
   ]
  },
  {
   "cell_type": "code",
   "execution_count": 137,
   "metadata": {},
   "outputs": [
    {
     "data": {
      "text/plain": [
       "{'name': '김주희', 'email': 'zugigi@ndnj.com', 'height': 172}"
      ]
     },
     "execution_count": 137,
     "metadata": {},
     "output_type": "execute_result"
    }
   ],
   "source": [
    "make_profile(\"김주희\", 'zugigi@ndnj.com', 172)"
   ]
  },
  {
   "cell_type": "code",
   "execution_count": 142,
   "metadata": {},
   "outputs": [
    {
     "data": {
      "text/plain": [
       "{'name': '김주희', 'email': 'zugigi@ndnj.com', 'height': 172}"
      ]
     },
     "execution_count": 142,
     "metadata": {},
     "output_type": "execute_result"
    }
   ],
   "source": [
    "make_profile(\"김주희\",height = 172, email ='zugigi@ndnj.com')\n",
    "\n",
    "#이메일이랑 키랑 순서 바뀌어도 알아서 자리 찾음\n",
    "# 인자를 키워드로 주기 시작하면 뒤에 부분도 다 인자를 키워드로 지정해야 함\n",
    "# height에서 인자를 키워드로 주니 그 뒤, 이메일도 키워드로 지정해야함"
   ]
  },
  {
   "cell_type": "markdown",
   "metadata": {},
   "source": [
    "# 가변인수"
   ]
  },
  {
   "cell_type": "code",
   "execution_count": 143,
   "metadata": {},
   "outputs": [],
   "source": [
    "def add(*args):\n",
    "    print(args)\n",
    "    print(type(args))\n",
    "    return sum(args)\n",
    "        "
   ]
  },
  {
   "cell_type": "code",
   "execution_count": 146,
   "metadata": {},
   "outputs": [
    {
     "name": "stdout",
     "output_type": "stream",
     "text": [
      "(1,)\n",
      "<class 'tuple'>\n"
     ]
    }
   ],
   "source": [
    "a = add(1)  # a 변수에 add의 리턴값 저장\n",
    "            # 인자가 하나만 들어와도 '튜플'"
   ]
  },
  {
   "cell_type": "code",
   "execution_count": 148,
   "metadata": {},
   "outputs": [
    {
     "name": "stdout",
     "output_type": "stream",
     "text": [
      "(1, 2, 3, 4, 5)\n",
      "<class 'tuple'>\n"
     ]
    }
   ],
   "source": [
    "a = add(1,2,3,4,5)  #인자가 여러개 들어와도 '튜플'"
   ]
  },
  {
   "cell_type": "code",
   "execution_count": 149,
   "metadata": {},
   "outputs": [
    {
     "data": {
      "text/plain": [
       "15"
      ]
     },
     "execution_count": 149,
     "metadata": {},
     "output_type": "execute_result"
    }
   ],
   "source": [
    "a"
   ]
  },
  {
   "cell_type": "markdown",
   "metadata": {},
   "source": [
    "## 가변키워드인수(**kwargs)"
   ]
  },
  {
   "cell_type": "code",
   "execution_count": 152,
   "metadata": {},
   "outputs": [],
   "source": [
    "def make_profile(**kwargs):   # 별 두개\n",
    "    print(type(kwargs))\n",
    "    print(kwargs)\n",
    "    return kwargs\n",
    "    "
   ]
  },
  {
   "cell_type": "code",
   "execution_count": 154,
   "metadata": {},
   "outputs": [
    {
     "name": "stdout",
     "output_type": "stream",
     "text": [
      "<class 'dict'>\n",
      "{'name': '김주희', 'city': 'seoul', 'email': 'zuhigogo@naver.com'}\n"
     ]
    },
    {
     "data": {
      "text/plain": [
       "{'name': '김주희', 'city': 'seoul', 'email': 'zuhigogo@naver.com'}"
      ]
     },
     "execution_count": 154,
     "metadata": {},
     "output_type": "execute_result"
    }
   ],
   "source": [
    "make_profile(name = '김주희', city='seoul', email = 'zuhigogo@naver.com')\n",
    "# 딕셔너리 형태로 저장"
   ]
  },
  {
   "cell_type": "code",
   "execution_count": 159,
   "metadata": {},
   "outputs": [],
   "source": [
    "def make_profile(name, email, city = 'seoul', *friends, **kwargs): \n",
    "#city는 입력을 안받아도 되지만, 디폴트값은 서울\n",
    "# name 과 email은 초기값이 설정 안되어있어서 꼭 입력해 주어야 함    \n",
    "    result = {\n",
    "        'name' : name,\n",
    "        'email' : email,\n",
    "        'city' : city,\n",
    "        'friends' : friends\n",
    "    }\n",
    "    result.update(kwargs)\n",
    "    return result\n"
   ]
  },
  {
   "cell_type": "code",
   "execution_count": 160,
   "metadata": {},
   "outputs": [
    {
     "data": {
      "text/plain": [
       "{'name': '김주희', 'email': 'zuhigogo@naver.com', 'city': 'seoul', 'friends': ()}"
      ]
     },
     "execution_count": 160,
     "metadata": {},
     "output_type": "execute_result"
    }
   ],
   "source": [
    "make_profile('김주희','zuhigogo@naver.com')"
   ]
  },
  {
   "cell_type": "code",
   "execution_count": 161,
   "metadata": {},
   "outputs": [
    {
     "data": {
      "text/plain": [
       "{'name': '김주희',\n",
       " 'email': 'zuhigogo@naver.com',\n",
       " 'city': '부산',\n",
       " 'friends': ('mike', 'paul', 'judy'),\n",
       " 'intro': 'hi i am joohee'}"
      ]
     },
     "execution_count": 161,
     "metadata": {},
     "output_type": "execute_result"
    }
   ],
   "source": [
    "make_profile('김주희','zuhigogo@naver.com','부산','mike','paul','judy', intro = 'hi i am joohee')\n",
    "\n"
   ]
  },
  {
   "cell_type": "code",
   "execution_count": 166,
   "metadata": {},
   "outputs": [],
   "source": [
    "def func1(*args):\n",
    "    print(args)  #튜플\n",
    "    print(type(args))\n",
    "    return sum(args)"
   ]
  },
  {
   "cell_type": "code",
   "execution_count": 167,
   "metadata": {},
   "outputs": [],
   "source": [
    "list1 = [1, 2, 3, 5, 6]"
   ]
  },
  {
   "cell_type": "code",
   "execution_count": 202,
   "metadata": {},
   "outputs": [
    {
     "name": "stdout",
     "output_type": "stream",
     "text": [
      "([1, 2, 3, 5, 6], 2)\n",
      "<class 'tuple'>\n"
     ]
    },
    {
     "ename": "TypeError",
     "evalue": "unsupported operand type(s) for +: 'int' and 'list'",
     "output_type": "error",
     "traceback": [
      "\u001b[1;31m---------------------------------------------------------------------------\u001b[0m",
      "\u001b[1;31mTypeError\u001b[0m                                 Traceback (most recent call last)",
      "\u001b[1;32m<ipython-input-202-b09af022fed6>\u001b[0m in \u001b[0;36m<module>\u001b[1;34m\u001b[0m\n\u001b[1;32m----> 1\u001b[1;33m \u001b[0mfunc1\u001b[0m\u001b[1;33m(\u001b[0m\u001b[0mlist1\u001b[0m\u001b[1;33m,\u001b[0m\u001b[1;36m2\u001b[0m\u001b[1;33m)\u001b[0m \u001b[1;31m# list1이 튜플이라서 하나로 묶이고, 길이가 1\u001b[0m\u001b[1;33m\u001b[0m\u001b[1;33m\u001b[0m\u001b[0m\n\u001b[0m",
      "\u001b[1;32m<ipython-input-166-0ab9d6dcfd03>\u001b[0m in \u001b[0;36mfunc1\u001b[1;34m(*args)\u001b[0m\n\u001b[0;32m      2\u001b[0m     \u001b[0mprint\u001b[0m\u001b[1;33m(\u001b[0m\u001b[0margs\u001b[0m\u001b[1;33m)\u001b[0m\u001b[1;33m\u001b[0m\u001b[1;33m\u001b[0m\u001b[0m\n\u001b[0;32m      3\u001b[0m     \u001b[0mprint\u001b[0m\u001b[1;33m(\u001b[0m\u001b[0mtype\u001b[0m\u001b[1;33m(\u001b[0m\u001b[0margs\u001b[0m\u001b[1;33m)\u001b[0m\u001b[1;33m)\u001b[0m\u001b[1;33m\u001b[0m\u001b[1;33m\u001b[0m\u001b[0m\n\u001b[1;32m----> 4\u001b[1;33m     \u001b[1;32mreturn\u001b[0m \u001b[0msum\u001b[0m\u001b[1;33m(\u001b[0m\u001b[0margs\u001b[0m\u001b[1;33m)\u001b[0m\u001b[1;33m\u001b[0m\u001b[1;33m\u001b[0m\u001b[0m\n\u001b[0m",
      "\u001b[1;31mTypeError\u001b[0m: unsupported operand type(s) for +: 'int' and 'list'"
     ]
    }
   ],
   "source": [
    "func1(list1,2) # list1이 튜플이라서 하나로 묶이고, 길이가 1\n",
    "# 가변인수는 요소들을 튜플로 묶어서 하나로 출력하기 때문에\n",
    "# SUM 리턴값이 에러"
   ]
  },
  {
   "cell_type": "code",
   "execution_count": 169,
   "metadata": {},
   "outputs": [
    {
     "name": "stdout",
     "output_type": "stream",
     "text": [
      "(1, 2, 3, 5, 6)\n",
      "<class 'tuple'>\n"
     ]
    },
    {
     "data": {
      "text/plain": [
       "17"
      ]
     },
     "execution_count": 169,
     "metadata": {},
     "output_type": "execute_result"
    }
   ],
   "source": [
    "func1(*list1)  #리스트안에 있는 값을 요소로서 풀어서 전달"
   ]
  },
  {
   "cell_type": "code",
   "execution_count": 194,
   "metadata": {},
   "outputs": [],
   "source": [
    "def validate_profile(**profile): # 유효성 검사\n",
    "    print(profile)\n",
    "    print(type(profile))\n",
    "    if not profile.get('email'):\n",
    "        return False\n",
    "        \n",
    "    if not profile['email'].count('@'):\n",
    "        return False\n",
    "    \n",
    "    return True\n",
    "    "
   ]
  },
  {
   "cell_type": "code",
   "execution_count": 200,
   "metadata": {},
   "outputs": [],
   "source": [
    "profile = {\n",
    "    'name' : '김주희',\n",
    "    'city' : 'seoul',\n",
    "    'email' : 'zuhigogo@naver.com'\n",
    "}"
   ]
  },
  {
   "cell_type": "code",
   "execution_count": 201,
   "metadata": {},
   "outputs": [
    {
     "name": "stdout",
     "output_type": "stream",
     "text": [
      "{'name': '김주희', 'city': 'seoul', 'email': 'zuhigogo@naver.com'}\n",
      "<class 'dict'>\n"
     ]
    },
    {
     "data": {
      "text/plain": [
       "True"
      ]
     },
     "execution_count": 201,
     "metadata": {},
     "output_type": "execute_result"
    }
   ],
   "source": [
    "validate_profile(**profile)\n"
   ]
  },
  {
   "cell_type": "code",
   "execution_count": 196,
   "metadata": {},
   "outputs": [
    {
     "ename": "NameError",
     "evalue": "name 'profile' is not defined",
     "output_type": "error",
     "traceback": [
      "\u001b[1;31m---------------------------------------------------------------------------\u001b[0m",
      "\u001b[1;31mNameError\u001b[0m                                 Traceback (most recent call last)",
      "\u001b[1;32m<ipython-input-196-fc1bd026278d>\u001b[0m in \u001b[0;36m<module>\u001b[1;34m\u001b[0m\n\u001b[0;32m      1\u001b[0m \u001b[1;31m#키워드로 전달해야하는 인자를 하나로 전달해서 에러\u001b[0m\u001b[1;33m\u001b[0m\u001b[1;33m\u001b[0m\u001b[1;33m\u001b[0m\u001b[0m\n\u001b[0;32m      2\u001b[0m \u001b[1;33m\u001b[0m\u001b[0m\n\u001b[1;32m----> 3\u001b[1;33m \u001b[0mvalidate_profile\u001b[0m\u001b[1;33m(\u001b[0m\u001b[0mprofile\u001b[0m\u001b[1;33m)\u001b[0m\u001b[1;33m\u001b[0m\u001b[1;33m\u001b[0m\u001b[0m\n\u001b[0m",
      "\u001b[1;31mNameError\u001b[0m: name 'profile' is not defined"
     ]
    }
   ],
   "source": [
    "#키워드로 전달해야하는 인자를 하나로 전달해서 에러\n",
    "\n",
    "validate_profile(profile)\n"
   ]
  },
  {
   "cell_type": "markdown",
   "metadata": {},
   "source": [
    "# 연습문제 3\n",
    " \n",
    " 가변인수와 고정인수를 사용해 모든값을 더하거나 빼거나 곱하는 함수 작성\n",
    "\n",
    "\n",
    "ex)\n",
    "\n",
    "\n",
    "calc(\"+\", 1, 2, 3, 4, 5) # 1 + 2 + 3 + 4 + 5\n",
    "\n",
    "\n",
    "15\n",
    "\n",
    "\n",
    "calc(\"-\", 1, 2, 3, 4, 5) # 1 - 2 - 3 - 4 - 5\n",
    "\n",
    "\n",
    "-13\n",
    "\n",
    "\n",
    "calc(\"*\", 1, 2, 3, 4, 5) # 1 * 2 * 3 * 4 * 5\n",
    "\n",
    "\n",
    "120\n"
   ]
  },
  {
   "cell_type": "code",
   "execution_count": null,
   "metadata": {},
   "outputs": [],
   "source": [
    "def calc(operater,*args):\n",
    "    if operater == '+':\n",
    "        return sum(args)\n",
    "    elif operater == '-':\n",
    "        return arg[0]\n",
    "        for i in arg[1: ]:\n",
    "            result -= i\n",
    "        return result\n",
    "    elif operater == '*':\n",
    "        return arg[0]\n",
    "        for i in arg[1: ]:\n",
    "            result = result * 1\n",
    "        return result\n",
    "    \n",
    "    return result\n",
    "\n"
   ]
  },
  {
   "cell_type": "code",
   "execution_count": null,
   "metadata": {},
   "outputs": [],
   "source": []
  },
  {
   "cell_type": "code",
   "execution_count": 208,
   "metadata": {},
   "outputs": [],
   "source": [
    "def calc(operator, *args):\n",
    "    \n",
    "    if operator == '+':\n",
    "        return sum(args)\n",
    "    \n",
    "    elif operator == '-':\n",
    "        #return args[0] - sum(args[1:])\n",
    "        return args[0]\n",
    "        for i in arg[1: ]: #뒤에 입력안하면 끝까지\n",
    "            result -= i\n",
    "        return result\n",
    "   \n",
    "    elif operator == '*':\n",
    "         return args[0]\n",
    "         for i in arg[1: ]: #뒤에 입력안하면 끝까지\n",
    "            result = result * i #미리 변수 선언안해도???\n",
    "         return result\n",
    "    \n",
    "    return False\n"
   ]
  },
  {
   "cell_type": "code",
   "execution_count": 209,
   "metadata": {},
   "outputs": [
    {
     "data": {
      "text/plain": [
       "15"
      ]
     },
     "execution_count": 209,
     "metadata": {},
     "output_type": "execute_result"
    }
   ],
   "source": [
    "calc(\"+\", 1, 2, 3, 4, 5)"
   ]
  },
  {
   "cell_type": "code",
   "execution_count": 210,
   "metadata": {},
   "outputs": [
    {
     "data": {
      "text/plain": [
       "1"
      ]
     },
     "execution_count": 210,
     "metadata": {},
     "output_type": "execute_result"
    }
   ],
   "source": [
    "calc(\"-\", 1, 2, 3, 4, 5)"
   ]
  },
  {
   "cell_type": "code",
   "execution_count": 211,
   "metadata": {},
   "outputs": [
    {
     "data": {
      "text/plain": [
       "1"
      ]
     },
     "execution_count": 211,
     "metadata": {},
     "output_type": "execute_result"
    }
   ],
   "source": [
    "calc(\"*\", 1, 2, 3, 4, 5)"
   ]
  },
  {
   "cell_type": "markdown",
   "metadata": {},
   "source": [
    "# 연습문제4\n",
    "\n",
    "가변인수를 이용 가장 높은값, 낮은값, 평균값을 구하는 함수 작성\n",
    "\n",
    "\n",
    "ex)\n",
    "\n",
    "\n",
    "calc(1,2,3,4,5)\n",
    "\n",
    "\n",
    "최대값 : 5, 최소값 : 1, 평균값 : 3.0\n"
   ]
  },
  {
   "cell_type": "code",
   "execution_count": 212,
   "metadata": {},
   "outputs": [],
   "source": [
    "def calc(*args):\n",
    "    print(\"최대값: {}, 최소값: {}, 평균값: {}\".format(\n",
    "        max(args), min(args), sum(args)/len(args)\n",
    "    ))"
   ]
  },
  {
   "cell_type": "code",
   "execution_count": 213,
   "metadata": {},
   "outputs": [
    {
     "name": "stdout",
     "output_type": "stream",
     "text": [
      "최대값: 5, 최소값: 1, 평균값: 3.0\n"
     ]
    }
   ],
   "source": [
    "calc(1,2,3,4,5)"
   ]
  },
  {
   "cell_type": "markdown",
   "metadata": {},
   "source": [
    "# 객체와 클래스"
   ]
  },
  {
   "cell_type": "markdown",
   "metadata": {},
   "source": [
    " function 일정한 기능단위로 모듈화\n",
    " \n",
    "클래스는 기능+속성을 모듈화\n",
    " \n",
    " 클래스는 객체를 만들기 위한 도구이다.\n",
    " \n",
    " \n",
    " \n",
    " 클래스는 설계도\n",
    " \n",
    " \n",
    " (대상 하나하나를) 객체를 찍기위한 설계도? 정의서?\n",
    " \n",
    " "
   ]
  },
  {
   "cell_type": "code",
   "execution_count": 237,
   "metadata": {},
   "outputs": [],
   "source": [
    "\n",
    "class Dog:   \n",
    "    # 생성자\n",
    "    # method\n",
    "    def __init__(self, name, color):\n",
    "        self.__hungry = 0 # private \n",
    "        self.name = name  #인스턴스 속성\n",
    "        self.color = color\n",
    "    def eat(self): # 행동\n",
    "        self.__hungry -= 10\n",
    "        print(\"밥먹음\", self.__hungry)\n",
    "    def walk(self):\n",
    "        self.__hungry += 10\n",
    "        print(\"산책\", self.__hungry)\n",
    "    def get_hungry(self):\n",
    "        return self.__hungry  #클래스안에서 메소드를 정의함으로써 접근만 가능\n",
    "    \n",
    "        "
   ]
  },
  {
   "cell_type": "markdown",
   "metadata": {},
   "source": [
    "\n",
    "self 인자를 모두 처음으로 받고,\n",
    "init은 생성자\n",
    "파이썬 클래스에서 함수처럼 보이는 def는 메소드\n",
    "클래스 안에 있는 함수는 메소드\n",
    "\n",
    "모든 인스턴스 메소드는 첫번째인자로 self가 들어온다(넣어주어야 함)\n",
    "\n",
    "클래스내에서 호출시에 self는 클래스에서 객체 자기 자신을 의미\n",
    "추가하지않아도 알아서 들어감\n",
    "\n",
    "init이 생성자 self 자기자신\n",
    "\n",
    "자기자신의 hungry변수는 0\n",
    "init 객체를 초기화하는 \n",
    "\n",
    "클래스 내에 있는 변수는 attribute 속성이다.\n",
    "클래스 내에 있는 함수는 method\n",
    "\n",
    "클래스를 만들때 항상 __init__메소드를 정의해야한다. ?\n",
    "\n",
    "클래스는 재사용성을 위해 기능과 속성을 넣어 정의하는 것\n",
    "\n",
    "클래스 내에 정의된 객체는 인스터스\n",
    "\n",
    "list.append() =  list클래스안에 append함수\n",
    "\n",
    "def get_hungry(self):\n",
    "        return self.__hungry 을 만들어주면\n",
    "        \n",
    "        jjong.get_hungry() 접근만 가능\n",
    "        \n",
    "언더바 두개를 속성앞에 붙이면 private 접근과 수정모두안됨. 가져오기 XXX"
   ]
  },
  {
   "cell_type": "code",
   "execution_count": 232,
   "metadata": {},
   "outputs": [
    {
     "ename": "AttributeError",
     "evalue": "'Dog' object has no attribute 'hungry'",
     "output_type": "error",
     "traceback": [
      "\u001b[1;31m---------------------------------------------------------------------------\u001b[0m",
      "\u001b[1;31mAttributeError\u001b[0m                            Traceback (most recent call last)",
      "\u001b[1;32m<ipython-input-232-935e037486cc>\u001b[0m in \u001b[0;36m<module>\u001b[1;34m\u001b[0m\n\u001b[0;32m      2\u001b[0m \u001b[0mjjong\u001b[0m \u001b[1;33m=\u001b[0m \u001b[0mDog\u001b[0m\u001b[1;33m(\u001b[0m\u001b[1;34m'jjong'\u001b[0m\u001b[1;33m,\u001b[0m \u001b[1;34m'white'\u001b[0m\u001b[1;33m)\u001b[0m\u001b[1;33m\u001b[0m\u001b[1;33m\u001b[0m\u001b[0m\n\u001b[0;32m      3\u001b[0m \u001b[1;33m\u001b[0m\u001b[0m\n\u001b[1;32m----> 4\u001b[1;33m \u001b[0mchoco\u001b[0m\u001b[1;33m.\u001b[0m\u001b[0meat\u001b[0m\u001b[1;33m(\u001b[0m\u001b[1;33m)\u001b[0m\u001b[1;33m\u001b[0m\u001b[1;33m\u001b[0m\u001b[0m\n\u001b[0m\u001b[0;32m      5\u001b[0m \u001b[0mchoco\u001b[0m\u001b[1;33m.\u001b[0m\u001b[0meat\u001b[0m\u001b[1;33m(\u001b[0m\u001b[1;33m)\u001b[0m\u001b[1;33m\u001b[0m\u001b[1;33m\u001b[0m\u001b[0m\n\u001b[0;32m      6\u001b[0m \u001b[0mchoco\u001b[0m\u001b[1;33m.\u001b[0m\u001b[0mwalk\u001b[0m\u001b[1;33m(\u001b[0m\u001b[1;33m)\u001b[0m\u001b[1;33m\u001b[0m\u001b[1;33m\u001b[0m\u001b[0m\n",
      "\u001b[1;32m<ipython-input-231-32bbf3f0c951>\u001b[0m in \u001b[0;36meat\u001b[1;34m(self)\u001b[0m\n\u001b[0;32m      7\u001b[0m         \u001b[0mself\u001b[0m\u001b[1;33m.\u001b[0m\u001b[0mcolor\u001b[0m \u001b[1;33m=\u001b[0m \u001b[0mcolor\u001b[0m\u001b[1;33m\u001b[0m\u001b[1;33m\u001b[0m\u001b[0m\n\u001b[0;32m      8\u001b[0m     \u001b[1;32mdef\u001b[0m \u001b[0meat\u001b[0m\u001b[1;33m(\u001b[0m\u001b[0mself\u001b[0m\u001b[1;33m)\u001b[0m\u001b[1;33m:\u001b[0m \u001b[1;31m# 행동\u001b[0m\u001b[1;33m\u001b[0m\u001b[1;33m\u001b[0m\u001b[0m\n\u001b[1;32m----> 9\u001b[1;33m         \u001b[0mself\u001b[0m\u001b[1;33m.\u001b[0m\u001b[0mhungry\u001b[0m \u001b[1;33m-=\u001b[0m \u001b[1;36m10\u001b[0m\u001b[1;33m\u001b[0m\u001b[1;33m\u001b[0m\u001b[0m\n\u001b[0m\u001b[0;32m     10\u001b[0m         \u001b[0mprint\u001b[0m\u001b[1;33m(\u001b[0m\u001b[1;34m\"밥먹음\"\u001b[0m\u001b[1;33m,\u001b[0m \u001b[0mself\u001b[0m\u001b[1;33m.\u001b[0m\u001b[0mhungry\u001b[0m\u001b[1;33m)\u001b[0m\u001b[1;33m\u001b[0m\u001b[1;33m\u001b[0m\u001b[0m\n\u001b[0;32m     11\u001b[0m     \u001b[1;32mdef\u001b[0m \u001b[0mwalk\u001b[0m\u001b[1;33m(\u001b[0m\u001b[0mself\u001b[0m\u001b[1;33m)\u001b[0m\u001b[1;33m:\u001b[0m\u001b[1;33m\u001b[0m\u001b[1;33m\u001b[0m\u001b[0m\n",
      "\u001b[1;31mAttributeError\u001b[0m: 'Dog' object has no attribute 'hungry'"
     ]
    }
   ],
   "source": [
    "choco = Dog('choco', 'black')  # self클래스는 자기자신을 의미하므로 생략가능\n",
    "jjong = Dog('jjong', 'white')\n",
    "\n",
    "choco.eat() \n",
    "choco.eat()\n",
    "choco.walk()\n",
    "print(choco.hungry)\n",
    "print(jjong.hungry)\n"
   ]
  },
  {
   "cell_type": "code",
   "execution_count": 238,
   "metadata": {},
   "outputs": [
    {
     "ename": "AttributeError",
     "evalue": "'Dog' object has no attribute 'hungry'",
     "output_type": "error",
     "traceback": [
      "\u001b[1;31m---------------------------------------------------------------------------\u001b[0m",
      "\u001b[1;31mAttributeError\u001b[0m                            Traceback (most recent call last)",
      "\u001b[1;32m<ipython-input-238-c037a5449619>\u001b[0m in \u001b[0;36m<module>\u001b[1;34m\u001b[0m\n\u001b[0;32m      1\u001b[0m \u001b[0mjjong\u001b[0m \u001b[1;33m=\u001b[0m \u001b[0mDog\u001b[0m\u001b[1;33m(\u001b[0m\u001b[1;34m'jjong'\u001b[0m\u001b[1;33m,\u001b[0m \u001b[1;34m'white'\u001b[0m\u001b[1;33m)\u001b[0m\u001b[1;33m\u001b[0m\u001b[1;33m\u001b[0m\u001b[0m\n\u001b[1;32m----> 2\u001b[1;33m \u001b[0mprint\u001b[0m\u001b[1;33m(\u001b[0m\u001b[0mjjong\u001b[0m\u001b[1;33m.\u001b[0m\u001b[0mhungry\u001b[0m\u001b[1;33m)\u001b[0m\u001b[1;33m\u001b[0m\u001b[1;33m\u001b[0m\u001b[0m\n\u001b[0m\u001b[0;32m      3\u001b[0m \u001b[0mprint\u001b[0m\u001b[1;33m(\u001b[0m\u001b[0mjjong\u001b[0m\u001b[1;33m.\u001b[0m\u001b[0mname\u001b[0m\u001b[1;33m)\u001b[0m\u001b[1;33m\u001b[0m\u001b[1;33m\u001b[0m\u001b[0m\n\u001b[0;32m      4\u001b[0m \u001b[0mprint\u001b[0m\u001b[1;33m(\u001b[0m\u001b[0mjjong\u001b[0m\u001b[1;33m.\u001b[0m\u001b[0mcolor\u001b[0m\u001b[1;33m)\u001b[0m\u001b[1;33m\u001b[0m\u001b[1;33m\u001b[0m\u001b[0m\n",
      "\u001b[1;31mAttributeError\u001b[0m: 'Dog' object has no attribute 'hungry'"
     ]
    }
   ],
   "source": [
    "\n",
    "jjong = Dog('jjong', 'white')\n",
    "print(jjong.hungry) \n",
    "print(jjong.name)\n",
    "print(jjong.color)\n"
   ]
  },
  {
   "cell_type": "code",
   "execution_count": 227,
   "metadata": {},
   "outputs": [
    {
     "name": "stdout",
     "output_type": "stream",
     "text": [
      "-324\n"
     ]
    }
   ],
   "source": [
    "jjong.hungry = -324   #변수이기에  바꿀수있음\n",
    "print(jjong.hungry)    # 클래스 내에 인스턴스 속성도 바꿀 수 있음"
   ]
  },
  {
   "cell_type": "code",
   "execution_count": 229,
   "metadata": {},
   "outputs": [],
   "source": [
    "jjong = Dog(\"jjong\", \"white\")\n",
    "            "
   ]
  },
  {
   "cell_type": "code",
   "execution_count": 242,
   "metadata": {},
   "outputs": [
    {
     "data": {
      "text/plain": [
       "0"
      ]
     },
     "execution_count": 242,
     "metadata": {},
     "output_type": "execute_result"
    }
   ],
   "source": [
    "jjong.get_hungry()  \n",
    "#hungry속성앞에 언더바 두개를 붙이면 private속성이 되면서 \n",
    "#외부에서 접근할 수 없음 오직 클래스안에서만 접근이 가능하게 함"
   ]
  },
  {
   "cell_type": "markdown",
   "metadata": {},
   "source": [
    "# 클래스 속성\n",
    "클래스 속성은 클래스에만 속해있는 속성을 정의"
   ]
  },
  {
   "cell_type": "code",
   "execution_count": 271,
   "metadata": {},
   "outputs": [],
   "source": [
    "\n",
    "\n",
    "class Dog: \n",
    "    dog_count = 0  # 클래스 속성 \n",
    "    \n",
    "    # 생성자\n",
    "    # method\n",
    "    \n",
    "    def __init__(self, name, color):\n",
    "        self.__hungry = 0 # private \n",
    "        self.name = name  #인스턴스 속성\n",
    "        self.color = color\n",
    "        Dog.dog_count += 1   # class 속성 #init에 추가\n",
    "        \n",
    "    def eat(self): # 행동\n",
    "        self.__hungry -= 10\n",
    "        print(\"밥먹음\", self.__hungry)\n",
    "        \n",
    "    def walk(self):\n",
    "        self.__hungry += 10\n",
    "        print(\"산책\", self.__hungry)\n",
    "        \n",
    "    def get_hungry(self):\n",
    "        return self.__hungry \n",
    "\n",
    "    \n",
    "    @classmethod  #클래스메소드 정의\n",
    "    def create_black_dog(cls,name):  \n",
    "        #클래스 메소드는 클래스 자체가 인자로 들어오는 cls.\n",
    "        print(\"현재 강아지수\", cls.dog_count)\n",
    "        return cls(name, 'Black')  #cls는 Dog 자기자신\n",
    "    \n",
    "    @staticmethod  #정적클래스메소드 정의\n",
    "    def intro():\n",
    "        print(\"안녕하세요. 동물의 숲입니다.\")\n",
    "    \n",
    "    "
   ]
  },
  {
   "cell_type": "code",
   "execution_count": 261,
   "metadata": {},
   "outputs": [
    {
     "name": "stdout",
     "output_type": "stream",
     "text": [
      "현재 강아지수 0\n"
     ]
    }
   ],
   "source": [
    "choco = Dog.create_black_dog('초코')"
   ]
  },
  {
   "cell_type": "code",
   "execution_count": 262,
   "metadata": {},
   "outputs": [
    {
     "data": {
      "text/plain": [
       "'초코'"
      ]
     },
     "execution_count": 262,
     "metadata": {},
     "output_type": "execute_result"
    }
   ],
   "source": [
    "choco.name"
   ]
  },
  {
   "cell_type": "code",
   "execution_count": 273,
   "metadata": {},
   "outputs": [
    {
     "name": "stdout",
     "output_type": "stream",
     "text": [
      "안녕하세요. 동물의 숲입니다.\n"
     ]
    }
   ],
   "source": [
    "Dog.intro()"
   ]
  },
  {
   "cell_type": "code",
   "execution_count": 264,
   "metadata": {},
   "outputs": [
    {
     "data": {
      "text/plain": [
       "1"
      ]
     },
     "execution_count": 264,
     "metadata": {},
     "output_type": "execute_result"
    }
   ],
   "source": [
    "# 클래스 속성 접근\n",
    "\n",
    "Dog.dog_count"
   ]
  },
  {
   "cell_type": "markdown",
   "metadata": {},
   "source": [
    "클래스 속성,변수,메소드"
   ]
  },
  {
   "cell_type": "code",
   "execution_count": 275,
   "metadata": {
    "scrolled": true
   },
   "outputs": [
    {
     "data": {
      "text/plain": [
       "2"
      ]
     },
     "execution_count": 275,
     "metadata": {},
     "output_type": "execute_result"
    }
   ],
   "source": [
    "jjong = Dog('jjong','Black')\n",
    "Dog.dog_count"
   ]
  },
  {
   "cell_type": "code",
   "execution_count": 274,
   "metadata": {},
   "outputs": [
    {
     "data": {
      "text/plain": [
       "1"
      ]
     },
     "execution_count": 274,
     "metadata": {},
     "output_type": "execute_result"
    }
   ],
   "source": [
    "choco = Dog('choco','white')\n",
    "Dog.dog_count"
   ]
  },
  {
   "cell_type": "markdown",
   "metadata": {},
   "source": [
    "# 클래스 method"
   ]
  },
  {
   "cell_type": "code",
   "execution_count": null,
   "metadata": {},
   "outputs": [],
   "source": [
    "\n",
    "\n",
    "class Dog: #()생략가능 () = (object)\n",
    "    dog_count = 0  # 클래스 속성 \n",
    "    \n",
    "    # 생성자\n",
    "    # method\n",
    "    \n",
    "    def __init__(self, name, color):\n",
    "        self.__hungry = 0 # private \n",
    "        self.name = name  #인스턴스 속성\n",
    "        self.color = color\n",
    "        Dog.dog_count += 1   # class 속성 #init에 추가\n",
    "        \n",
    "    def eat(self): # 행동\n",
    "        self.__hungry -= 10\n",
    "        print(\"밥먹음\", self.__hungry)\n",
    "        \n",
    "    def walk(self):\n",
    "        self.__hungry += 10\n",
    "        print(\"산책\", self.__hungry)\n",
    "        \n",
    "    def get_hungry(self):\n",
    "        return self.__hungry \n",
    "\n",
    "    \n",
    "    #decorator \n",
    "    @classmethod  #클래스메소드 정의\n",
    "    def create_black_dog(cls,name):  \n",
    "        #클래스 메소드는 클래스 자체가 인자로 들어오는 cls.\n",
    "        print(\"현재 강아지수\", cls.dog_count)\n",
    "        return cls(name, 'Black')  #cls는 Dog 자기자신\n",
    "    \n",
    "    @staticmethod  #정적클래스메소드 정의\n",
    "    def intro():\n",
    "        print(\"안녕하세요. 동물의 숲입니다.\")\n",
    "        \n",
    "        "
   ]
  },
  {
   "cell_type": "markdown",
   "metadata": {},
   "source": [
    "정적메서드는 클래스에서 바로 호출 가능하다.\n",
    "\n",
    "인스턴스 속성, 인스턴스 메서드에 접근불가\n",
    "\n",
    "\n",
    "독립적으로 동작???\n",
    "\n",
    "클래스 메서드는 클래스 속성에 접근 가능하다."
   ]
  },
  {
   "cell_type": "code",
   "execution_count": 295,
   "metadata": {},
   "outputs": [],
   "source": [
    "\n",
    "\n",
    "class Dog: \n",
    "    dog_count = 0  # 클래스 속성 \n",
    "    \n",
    "    # 생성자\n",
    "    # method\n",
    "    \n",
    "    def __init__(self, name, color):\n",
    "        self.__hungry = 0 # private \n",
    "        self.name = name  #인스턴스 속성\n",
    "        self.color = color\n",
    "        Dog.dog_count += 1   # class 속성 #init에 추가\n",
    "        \n",
    "    def eat(self): # 행동\n",
    "        self.__hungry -= 10\n",
    "        print(\"밥먹음\", self.__hungry)\n",
    "        \n",
    "    def walk(self):\n",
    "        self.__hungry += 10\n",
    "        print(\"산책\", self.__hungry)\n",
    "        \n",
    "    def get_hungry(self):\n",
    "        return self.__hungry \n",
    "\n",
    "    \n",
    "    @classmethod  #클래스메소드 정의\n",
    "    def create_black_dog(cls,name):  \n",
    "        #클래스 메소드는 클래스 자체가 인자로 들어오는 cls.\n",
    "        print(\"현재 강아지수\", cls.dog_count)\n",
    "        return cls(name, 'Black')  #cls는 Dog 자기자신\n",
    "    \n",
    "    @staticmethod  #정적클래스메소드 정의\n",
    "    def intro():\n",
    "        print(\"안녕하세요. 동물의 숲입니다.\")\n",
    "        \n",
    "    def __str__(self):\n",
    "        return repr(self)\n",
    "    \n",
    "    def __repr(self):\n",
    "        return str({\n",
    "            'name' : self.name,\n",
    "            \"color\" : self.color\n",
    "        })\n",
    "        \n",
    "    "
   ]
  },
  {
   "cell_type": "code",
   "execution_count": 294,
   "metadata": {},
   "outputs": [
    {
     "name": "stdout",
     "output_type": "stream",
     "text": [
      "<__main__.Dog object at 0x0000015703206C10>\n"
     ]
    }
   ],
   "source": [
    "choco = Dog('초코', 'Black')\n",
    "print(choco)"
   ]
  },
  {
   "cell_type": "code",
   "execution_count": null,
   "metadata": {},
   "outputs": [],
   "source": []
  },
  {
   "cell_type": "code",
   "execution_count": null,
   "metadata": {},
   "outputs": [],
   "source": []
  },
  {
   "cell_type": "code",
   "execution_count": null,
   "metadata": {},
   "outputs": [],
   "source": []
  },
  {
   "cell_type": "code",
   "execution_count": null,
   "metadata": {},
   "outputs": [],
   "source": []
  },
  {
   "cell_type": "code",
   "execution_count": null,
   "metadata": {},
   "outputs": [],
   "source": []
  },
  {
   "cell_type": "code",
   "execution_count": null,
   "metadata": {},
   "outputs": [],
   "source": []
  },
  {
   "cell_type": "markdown",
   "metadata": {},
   "source": [
    "## 연습문제1\n",
    "\n",
    "\n",
    "\n",
    "Car 클래스를 만드세요\n",
    "\n",
    "\n",
    "객체 생성시 차이름, 배기량, 생산년도 입력받으세요\n",
    "\n",
    "\n",
    "객체 생성시 등록된 차이름, 배기량, 생산년도는 직접 변경하지 못합니다\n",
    "\n",
    "\n",
    "차 이름을 변경하는 함수를 만드세요\n",
    "\n",
    "\n",
    "배기량에 따라 1000CC 이하 소형\n",
    "                      \n",
    "                      \n",
    "                      1000CC 이상 2000CC 이하 중형\n",
    "                     \n",
    "                     \n",
    "                     2000CC 이상 대형을 출력하는 함수를 만드세요\n",
    "\n",
    "\n",
    "객체 생성시마다 등록된 차량 갯수를 기록해주세요\n",
    "\n",
    "\n",
    "총 등록된 차량개수를 출력하는 클래스 함수를 만드세요\n"
   ]
  },
  {
   "cell_type": "code",
   "execution_count": 300,
   "metadata": {},
   "outputs": [
    {
     "ename": "IndentationError",
     "evalue": "unindent does not match any outer indentation level (<tokenize>, line 26)",
     "output_type": "error",
     "traceback": [
      "\u001b[1;36m  File \u001b[1;32m\"<tokenize>\"\u001b[1;36m, line \u001b[1;32m26\u001b[0m\n\u001b[1;33m    return True\u001b[0m\n\u001b[1;37m    ^\u001b[0m\n\u001b[1;31mIndentationError\u001b[0m\u001b[1;31m:\u001b[0m unindent does not match any outer indentation level\n"
     ]
    }
   ],
   "source": [
    "\n",
    "class Car:\n",
    "    car_count = 0\n",
    "    \n",
    "    def __init__(self,name,cc,year):\n",
    "        self.__name = name\n",
    "        self.__cc = cc\n",
    "        self.__year = year\n",
    "        Car.car_count += 1\n",
    "    \n",
    "    def change_name(self,name):\n",
    "        num = input(\"차이름 : \")\n",
    "        name.update(num)\n",
    "        print(\"차 이름은 \",num)\n",
    "        \n",
    "    def size(self,cc,name):\n",
    "        \n",
    "        if cc <= 1000:\n",
    "            name = \"소형\"\n",
    "        elif cc <= 2000:\n",
    "            name = \"중형\"\n",
    "        elif cc >= 2000:\n",
    "            name = \"대형\"\n",
    "        else:\n",
    "            return False\n",
    "       \n",
    "       return True\n",
    "    \n",
    "  \n",
    "    \n",
    "        "
   ]
  },
  {
   "cell_type": "markdown",
   "metadata": {},
   "source": [
    "### 정답"
   ]
  },
  {
   "cell_type": "code",
   "execution_count": 317,
   "metadata": {},
   "outputs": [],
   "source": [
    "class Car(object):\n",
    "    count = 0\n",
    "    \n",
    "    def __init__(self, name, cc, year):\n",
    "        self.__name = name\n",
    "        self.__cc = cc\n",
    "        self.__year = year\n",
    "        \n",
    "        Car.count += 1\n",
    "    \n",
    " \n",
    "        \n",
    "    \n",
    "    @classmethod\n",
    "    def get_total_count(cls):\n",
    "        print(cls.count)\n",
    "        return(cls.count)\n",
    "    \n",
    "    \n",
    "    def set_name(self, name):\n",
    "        self.__name = name\n",
    "        return self.__name\n",
    "    \n",
    "    def get_name(self):\n",
    "        return self.__name\n",
    "    \n",
    "    def get_size(self):\n",
    "        size = None\n",
    "        if self.__cc < 1000:\n",
    "            size = '소형'\n",
    "        elif self.__cc >= 2000:\n",
    "            size = '중형'\n",
    "        else:\n",
    "            size = '대형'\n",
    "        print(size)\n",
    "        return size\n",
    "    "
   ]
  },
  {
   "cell_type": "code",
   "execution_count": 314,
   "metadata": {},
   "outputs": [
    {
     "data": {
      "text/plain": [
       "<__main__.Car at 0x157025dbfa0>"
      ]
     },
     "execution_count": 314,
     "metadata": {},
     "output_type": "execute_result"
    }
   ],
   "source": [
    "sonata1 = Car(\"소나타\", 2000, 2018)\n",
    "sonata1"
   ]
  },
  {
   "cell_type": "code",
   "execution_count": 315,
   "metadata": {},
   "outputs": [
    {
     "data": {
      "text/plain": [
       "'Audi'"
      ]
     },
     "execution_count": 315,
     "metadata": {},
     "output_type": "execute_result"
    }
   ],
   "source": [
    "sonata1.set_name('Audi')\n",
    "sonata1.get_name()"
   ]
  },
  {
   "cell_type": "code",
   "execution_count": 316,
   "metadata": {},
   "outputs": [
    {
     "name": "stdout",
     "output_type": "stream",
     "text": [
      "중형\n"
     ]
    },
    {
     "data": {
      "text/plain": [
       "'중형'"
      ]
     },
     "execution_count": 316,
     "metadata": {},
     "output_type": "execute_result"
    }
   ],
   "source": [
    "sonata1.get_size()"
   ]
  },
  {
   "cell_type": "markdown",
   "metadata": {},
   "source": [
    "** 조건 추가:\n",
    "객체의 name과 배기량, 생산년도를 반환하는 get 함수를 만드세요.  \n",
    " ex) def get_name(self)//def get_cc(self) // def get_prod_year(self)\n",
    "\n",
    "speed라는 인스턴스 속성 만드시고, excel이라는 메소드가 speed를 증가시키고, break_라는 메소드는 speed를 감소시키도록 하세요.\n"
   ]
  },
  {
   "cell_type": "markdown",
   "metadata": {},
   "source": [
    "### 조건추가"
   ]
  },
  {
   "cell_type": "code",
   "execution_count": 332,
   "metadata": {},
   "outputs": [],
   "source": [
    "class Car(object):\n",
    "    count = 0\n",
    "    \n",
    "    def __init__(self, name, cc, year):\n",
    "        self.__name = name\n",
    "        self.__cc = cc\n",
    "        self.__year = year\n",
    "        self.__speed = 0\n",
    "        \n",
    "        Car.count += 1\n",
    "    \n",
    "    def excel(self):\n",
    "        self.__speed += 4\n",
    "        \n",
    "    def _break(self):\n",
    "        if (self.__speed - 4) < 0:\n",
    "            self.__speed = 0\n",
    "        else:\n",
    "            self.__speed -= 4\n",
    "        \n",
    "    \n",
    "    @classmethod\n",
    "    def get_total_count(cls):\n",
    "        print(cls.count)\n",
    "        return(cls.count)\n",
    "    \n",
    "    \n",
    "    def set_name(self, name):\n",
    "        self.__name = name\n",
    "        return self.__name\n",
    "    \n",
    "    def get_name(self):\n",
    "        return self.__name\n",
    "    \n",
    "    def get_size(self):\n",
    "        size = None\n",
    "        if self.__cc < 1000:\n",
    "            size = '소형'\n",
    "        elif self.__cc <= 2000:\n",
    "            size = '중형'\n",
    "        else:\n",
    "            size = '대형'\n",
    "        print(size)\n",
    "        return size\n",
    "    \n",
    "    \n",
    "    # cc 반환\n",
    "    def get_cc(self):\n",
    "            return self.__cc\n",
    "    \n",
    "    # 생산년도 반환\n",
    "    def get_prod_year(self):\n",
    "            return self.__year\n",
    "    \n",
    "    def get_speed(self):\n",
    "            return self.__speed\n",
    "        "
   ]
  },
  {
   "cell_type": "code",
   "execution_count": 333,
   "metadata": {},
   "outputs": [
    {
     "data": {
      "text/plain": [
       "<__main__.Car at 0x157031d47f0>"
      ]
     },
     "execution_count": 333,
     "metadata": {},
     "output_type": "execute_result"
    }
   ],
   "source": [
    "sonata1 = Car(\"소나타\", 2000, 2018)\n",
    "sonata1"
   ]
  },
  {
   "cell_type": "code",
   "execution_count": 335,
   "metadata": {},
   "outputs": [
    {
     "data": {
      "text/plain": [
       "8"
      ]
     },
     "execution_count": 335,
     "metadata": {},
     "output_type": "execute_result"
    }
   ],
   "source": [
    "sonata1.excel()\n",
    "sonata1.get_speed()"
   ]
  },
  {
   "cell_type": "code",
   "execution_count": 338,
   "metadata": {},
   "outputs": [
    {
     "name": "stdout",
     "output_type": "stream",
     "text": [
      "중형\n"
     ]
    },
    {
     "data": {
      "text/plain": [
       "'중형'"
      ]
     },
     "execution_count": 338,
     "metadata": {},
     "output_type": "execute_result"
    }
   ],
   "source": [
    "sonata1.get_size()"
   ]
  },
  {
   "cell_type": "code",
   "execution_count": 341,
   "metadata": {},
   "outputs": [
    {
     "data": {
      "text/plain": [
       "2000"
      ]
     },
     "execution_count": 341,
     "metadata": {},
     "output_type": "execute_result"
    }
   ],
   "source": [
    "sonata1.get_cc()"
   ]
  },
  {
   "cell_type": "markdown",
   "metadata": {},
   "source": [
    "### property"
   ]
  },
  {
   "cell_type": "code",
   "execution_count": 330,
   "metadata": {},
   "outputs": [],
   "source": [
    "class Car(object):\n",
    "    count = 0\n",
    "    \n",
    "    def __init__(self, name, cc, year):\n",
    "        self.__name = name\n",
    "        self.__cc = cc\n",
    "        self.__year = year\n",
    "        self.__speed = 0\n",
    "        \n",
    "        Car.count += 1\n",
    "    \n",
    "    def excel(self):\n",
    "        self.__speed += 4\n",
    "        \n",
    "    def _break(self):\n",
    "        if (self.__speed - 4) < 0:\n",
    "                self.__speed = 0\n",
    "        else:\n",
    "            self.__speed -= 4\n",
    "        \n",
    "    \n",
    "    @classmethod\n",
    "    def get_total_count(cls):\n",
    "        print(cls.count)\n",
    "        return(cls.count)\n",
    "    \n",
    "    \n",
    "    def set_name(self, name):\n",
    "        self.__name = name\n",
    "        return self.__name\n",
    "    \n",
    "    def get_name(self):\n",
    "        return self.__name\n",
    "    \n",
    "    def get_size(self):\n",
    "        size = None\n",
    "        if self.__cc < 1000:\n",
    "            size = '소형'\n",
    "        elif self.__cc >= 2000:\n",
    "            size = '중형'\n",
    "        else:\n",
    "            size = '대형'\n",
    "        print(size)\n",
    "        return size\n",
    "    \n",
    "    \n",
    "    # cc 반환\n",
    "    def get_cc(self):\n",
    "            return self.__cc\n",
    "    \n",
    "    # 생산년도 반환\n",
    "    def get_prod_year(self):\n",
    "            return self.__year\n",
    "    \n",
    "    def get_speed(self):\n",
    "            return self.__speed\n",
    "        \n",
    "    @property  # 함수를 속성처럼 사용하게 해주는 데코레이터         \n",
    "    def speed(self):\n",
    "        return self.__speed"
   ]
  },
  {
   "cell_type": "markdown",
   "metadata": {},
   "source": [
    "# 상속"
   ]
  },
  {
   "cell_type": "markdown",
   "metadata": {},
   "source": [
    "\n",
    "\n",
    "\n",
    "\n",
    "\n",
    "\n",
    "\n"
   ]
  },
  {
   "cell_type": "markdown",
   "metadata": {},
   "source": [
    "동물의 숲"
   ]
  },
  {
   "cell_type": "code",
   "execution_count": null,
   "metadata": {},
   "outputs": [],
   "source": [
    "class Dog():\n",
    "    def intro(self):\n",
    "        print(\"안녕하세요. 동물의 숲입니다.\")"
   ]
  },
  {
   "cell_type": "code",
   "execution_count": null,
   "metadata": {},
   "outputs": [],
   "source": [
    "class Cat():\n",
    "    def intro(self):\n",
    "        print(\"안녕하세요. 동물의 숲입니다.\")"
   ]
  },
  {
   "cell_type": "code",
   "execution_count": null,
   "metadata": {},
   "outputs": [],
   "source": [
    "class Lion():\n",
    "    def intro(self):\n",
    "        print(\"안녕하세요. 동물의 숲입니다.\")"
   ]
  },
  {
   "cell_type": "code",
   "execution_count": null,
   "metadata": {},
   "outputs": [],
   "source": []
  },
  {
   "cell_type": "code",
   "execution_count": 364,
   "metadata": {},
   "outputs": [],
   "source": [
    "class Animal():\n",
    "    def __init__(self,name):\n",
    "        self.__hungry = 0\n",
    "        self.name = name\n",
    "        \n",
    "    def intro(self):\n",
    "        print(\"안녕하세요. 동물의 숲입니다.\")\n",
    "        \n",
    "    def eat(self):\n",
    "        self.__hungry -= 10\n",
    "        "
   ]
  },
  {
   "cell_type": "code",
   "execution_count": 365,
   "metadata": {},
   "outputs": [],
   "source": [
    "# Animal을 상속받음\n",
    "class Dog(Animal):  #object자리에 animal\n",
    "    def __init__(self, name, type_):\n",
    "        self.type_=type_\n",
    "        super().__init__(name)  #분모클래스 init 메소드에 접근해서 name을 가져옴\n",
    "    pass"
   ]
  },
  {
   "cell_type": "code",
   "execution_count": 351,
   "metadata": {},
   "outputs": [],
   "source": [
    "class Cat(Animal):\n",
    "    pass"
   ]
  },
  {
   "cell_type": "code",
   "execution_count": 352,
   "metadata": {},
   "outputs": [],
   "source": [
    "dog1 = Dog()\n",
    "cat1 = Cat()   #init에 아무것도 없음"
   ]
  },
  {
   "cell_type": "markdown",
   "metadata": {},
   "source": [
    "부모 클래스 Animal\n",
    "자식 클래스 Dog, Cat"
   ]
  },
  {
   "cell_type": "code",
   "execution_count": 354,
   "metadata": {
    "scrolled": true
   },
   "outputs": [
    {
     "name": "stdout",
     "output_type": "stream",
     "text": [
      "안녕하세요. 동물의 숲입니다.\n"
     ]
    }
   ],
   "source": [
    "dog1.intro()"
   ]
  },
  {
   "cell_type": "code",
   "execution_count": 355,
   "metadata": {},
   "outputs": [
    {
     "name": "stdout",
     "output_type": "stream",
     "text": [
      "안녕하세요. 동물의 숲입니다.\n"
     ]
    }
   ],
   "source": [
    "cat1.intro()"
   ]
  },
  {
   "cell_type": "code",
   "execution_count": 367,
   "metadata": {},
   "outputs": [],
   "source": [
    "class Bird(Animal):\n",
    "    def fly(self):  # fly 함수 추가 #Spec \n",
    "        pass\n",
    "\n",
    "class LandAnimal(Animal):\n",
    "    def __init__(self,name):\n",
    "            super().__init__(name)\n",
    "    \n",
    "    def walk(self): #Spec   \n",
    "        pass\n",
    "\n",
    "class SeaAnimal(Animal):\n",
    "    def swim(self):  #Spec \n",
    "        pass\n",
    "    \n",
    "    "
   ]
  },
  {
   "cell_type": "code",
   "execution_count": 368,
   "metadata": {},
   "outputs": [],
   "source": [
    "class Craw(Bird):\n",
    "    def cry(self):\n",
    "        print(\"까악 까악\")"
   ]
  },
  {
   "cell_type": "code",
   "execution_count": 374,
   "metadata": {},
   "outputs": [],
   "source": [
    "class Lion(LandAnimal):\n",
    "    def __init__(self, name, type_):\n",
    "        self.type_=type_\n",
    "        super().__init__(name)\n",
    "        \n",
    "    def intro(self):\n",
    "        # 메소드 오버라이딩\n",
    "        print(\"여기 선물상자가 있어요.\")\n",
    "        \n",
    "    def cry(self):\n",
    "        print(\"어흥\")"
   ]
  },
  {
   "cell_type": "code",
   "execution_count": 370,
   "metadata": {},
   "outputs": [
    {
     "name": "stdout",
     "output_type": "stream",
     "text": [
      "어흥\n",
      "안녕하세요. 동물의 숲입니다.\n"
     ]
    }
   ],
   "source": [
    "lion1 = Lion('어흥이', '아프리카사자')  #nit 없음\n",
    "             \n",
    "lion1.cry()\n",
    "lion1.intro()"
   ]
  },
  {
   "cell_type": "code",
   "execution_count": 371,
   "metadata": {},
   "outputs": [
    {
     "data": {
      "text/plain": [
       "'아프리카사자'"
      ]
     },
     "execution_count": 371,
     "metadata": {},
     "output_type": "execute_result"
    }
   ],
   "source": [
    "lion1.type_"
   ]
  },
  {
   "cell_type": "code",
   "execution_count": 372,
   "metadata": {},
   "outputs": [
    {
     "name": "stdout",
     "output_type": "stream",
     "text": [
      "안녕하세요. 동물의 숲입니다.\n"
     ]
    }
   ],
   "source": [
    "lion1.intro()"
   ]
  },
  {
   "cell_type": "code",
   "execution_count": 373,
   "metadata": {},
   "outputs": [
    {
     "name": "stdout",
     "output_type": "stream",
     "text": [
      "안녕하세요. 동물의 숲입니다.\n"
     ]
    }
   ],
   "source": [
    "cat1.intro()"
   ]
  },
  {
   "cell_type": "markdown",
   "metadata": {},
   "source": [
    "lion1의 인삿말만 특별하게 바꾸기\n",
    "\n",
    "\n",
    "메소드를 재정의 내가 원하는 함수로만 말하게\n",
    "\n",
    "\n",
    "자식클래스에 intro를 덮어씌움"
   ]
  },
  {
   "cell_type": "code",
   "execution_count": null,
   "metadata": {},
   "outputs": [],
   "source": [
    "class Lion(LandAnimal):\n",
    "    def __init__(self, name, type_):\n",
    "        self.type_=type_\n",
    "        super().__init__(name)\n",
    "        \n",
    "    def intro(self):\n",
    "        # 메소드 오버라이딩  #<-----------------\n",
    "        print(\"여기 선물상자가 있어요.\")\n",
    "        \n",
    "    def cry(self):\n",
    "        print(\"어흥\")"
   ]
  },
  {
   "cell_type": "markdown",
   "metadata": {},
   "source": [
    "### 부모클래스 접근"
   ]
  },
  {
   "cell_type": "code",
   "execution_count": 377,
   "metadata": {},
   "outputs": [],
   "source": [
    "class Lion(LandAnimal):\n",
    "    def __init__(self, name, type_):\n",
    "        self.type_=type_\n",
    "        super().__init__(name)\n",
    "        \n",
    "    def intro(self): #<-------------------\n",
    "        # 메소드 오버라이딩\n",
    "        print(\"여기 선물상자가 있어요.\")\n",
    "        \n",
    "    def cry(self):\n",
    "        print(\"어흥\")"
   ]
  },
  {
   "cell_type": "markdown",
   "metadata": {},
   "source": [
    "### 추상클래스\n",
    "\n",
    "실행전에 에러를 잡기 위해서\n",
    "\n",
    "1. 정의하지 않으면 raise NotImplementedError 호출\n",
    "\n",
    "2.  @abstractmethod"
   ]
  },
  {
   "cell_type": "code",
   "execution_count": null,
   "metadata": {},
   "outputs": [],
   "source": []
  },
  {
   "cell_type": "code",
   "execution_count": 380,
   "metadata": {},
   "outputs": [],
   "source": [
    "from abc import *\n"
   ]
  },
  {
   "cell_type": "code",
   "execution_count": 381,
   "metadata": {},
   "outputs": [],
   "source": [
    "class Bird(Animal):\n",
    "    def fly(self):  # fly 함수 추가 #Spec \n",
    "        pass\n",
    "\n",
    "class LandAnimal(Animal,metaclass=ABCMeta):\n",
    "    def __init__(self,name):\n",
    "            super().__init__(name)\n",
    "    \n",
    "#    def walk(self): #Spec   \n",
    "#        raise NotImplementedError\n",
    "        \n",
    "        \n",
    "    @abstractmethod\n",
    "    def walk():\n",
    "        pass\n",
    "    \n",
    "class SeaAnimal(Animal):\n",
    "    def swim(self):  #Spec \n",
    "        pass\n",
    "    "
   ]
  },
  {
   "cell_type": "markdown",
   "metadata": {},
   "source": [
    "지금 내가 뭘할지는 정하지않고\n",
    "\n",
    "\n",
    "이 메소드는 자식클래스에서는 정의를 해야됨\n",
    "\n",
    "\n",
    "정의되지 않으면 step에 문제가 있고 에러 발생\n",
    "\n",
    "\n",
    "-> 추상메소드 \n",
    "\n",
    "\n",
    "-> 추상클래스\n",
    "\n",
    "\n",
    "\n",
    "이 모듈은 abc모듈안에 있는 것들\n",
    "\n",
    "\n",
    "-> from abc import *\n"
   ]
  },
  {
   "cell_type": "code",
   "execution_count": 382,
   "metadata": {},
   "outputs": [
    {
     "name": "stdout",
     "output_type": "stream",
     "text": [
      "어흥\n",
      "여기 선물상자가 있어요.\n"
     ]
    }
   ],
   "source": [
    "lion1 = Lion('어흥이', '아프리카사자')  #nit 없음\n",
    "             \n",
    "lion1.cry()\n",
    "lion1.intro()\n"
   ]
  },
  {
   "cell_type": "code",
   "execution_count": null,
   "metadata": {},
   "outputs": [],
   "source": []
  },
  {
   "cell_type": "code",
   "execution_count": null,
   "metadata": {},
   "outputs": [],
   "source": []
  }
 ],
 "metadata": {
  "kernelspec": {
   "display_name": "Python 3",
   "language": "python",
   "name": "python3"
  },
  "language_info": {
   "codemirror_mode": {
    "name": "ipython",
    "version": 3
   },
   "file_extension": ".py",
   "mimetype": "text/x-python",
   "name": "python",
   "nbconvert_exporter": "python",
   "pygments_lexer": "ipython3",
   "version": "3.8.3"
  }
 },
 "nbformat": 4,
 "nbformat_minor": 4
}
