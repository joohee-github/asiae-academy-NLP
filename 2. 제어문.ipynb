{
 "cells": [
  {
   "cell_type": "code",
   "execution_count": 2,
   "metadata": {},
   "outputs": [],
   "source": [
    "x = 10"
   ]
  },
  {
   "cell_type": "code",
   "execution_count": 5,
   "metadata": {},
   "outputs": [
    {
     "name": "stdout",
     "output_type": "stream",
     "text": [
      "X는 10입니다.\n",
      "end code block\n"
     ]
    }
   ],
   "source": [
    "if x == 10:\n",
    "    print(\"X는 10입니다.\")  #같은 블록은 들여쓰기를 맞춰줘야함\n",
    "    print(\"end code block\")"
   ]
  },
  {
   "cell_type": "code",
   "execution_count": 6,
   "metadata": {},
   "outputs": [],
   "source": [
    "if x !=10:\n",
    "    print(\"x는 10이 아닙니다.\")"
   ]
  },
  {
   "cell_type": "code",
   "execution_count": 7,
   "metadata": {},
   "outputs": [],
   "source": [
    "if x == 10:\n",
    "    pass      # 아무행동을 하지 않으나, 에러는 나지 않음\n",
    "               # 나중에 코드를 작성하려할 때 사용."
   ]
  },
  {
   "cell_type": "code",
   "execution_count": 8,
   "metadata": {},
   "outputs": [
    {
     "name": "stdout",
     "output_type": "stream",
     "text": [
      "x는 3보다 크고 20보다 작습니다.\n"
     ]
    }
   ],
   "source": [
    "if x > 3 and x < 20:\n",
    "    print('x는 3보다 크고 20보다 작습니다.')"
   ]
  },
  {
   "cell_type": "code",
   "execution_count": 9,
   "metadata": {},
   "outputs": [
    {
     "name": "stdout",
     "output_type": "stream",
     "text": [
      "x는 3보다 큽니다.\n",
      "x는 10보다 크거나 같습니다.\n",
      "x는 20보다 작습니다.\n"
     ]
    }
   ],
   "source": [
    "if x > 3:\n",
    "    print(\"x는 3보다 큽니다.\")\n",
    "    if x >= 10:\n",
    "        print(\"x는 10보다 크거나 같습니다.\")\n",
    "    if x<20:\n",
    "        print(\"x는 20보다 작습니다.\")   # 같은 인덴테이션 레벨이면 한 블록이다."
   ]
  },
  {
   "cell_type": "code",
   "execution_count": 11,
   "metadata": {},
   "outputs": [],
   "source": [
    "x = 3"
   ]
  },
  {
   "cell_type": "code",
   "execution_count": 12,
   "metadata": {},
   "outputs": [
    {
     "name": "stdout",
     "output_type": "stream",
     "text": [
      "x는 5보다 작거나 같습니다.\n"
     ]
    }
   ],
   "source": [
    "if x>5:\n",
    "    print(\"x는 5보다 큽니다.\")\n",
    "else:\n",
    "    print(\"x는 5보다 작거나 같습니다.\")"
   ]
  },
  {
   "cell_type": "code",
   "execution_count": 13,
   "metadata": {},
   "outputs": [
    {
     "name": "stdout",
     "output_type": "stream",
     "text": [
      "x는 2보다 큽니다.\n"
     ]
    }
   ],
   "source": [
    "if x>5:\n",
    "    print(\"x는 5보다 큽니다.\")\n",
    "elif x>2:\n",
    "    print(\"x는 2보다 큽니다.\")\n",
    "elif x>0:\n",
    "    print(\"x는 0보다 큽니다.\")\n",
    "else:\n",
    "    print(\"x는 음수입니다.\")"
   ]
  },
  {
   "cell_type": "code",
   "execution_count": 14,
   "metadata": {},
   "outputs": [],
   "source": [
    "x = 10"
   ]
  },
  {
   "cell_type": "code",
   "execution_count": 16,
   "metadata": {},
   "outputs": [
    {
     "name": "stdout",
     "output_type": "stream",
     "text": [
      "x는 0보다 큽니다.\n"
     ]
    }
   ],
   "source": [
    "if x >0 :\n",
    "    print(\"x는 0보다 큽니다.\")\n",
    "elif x>3:\n",
    "    print(\"x는 3보다 큽니다.\")\n",
    "elif x >8:\n",
    "    print(\"x는 8보다 큽니다.\")  # 조건은 처음에 좁은부분부터 적어야 힘\n",
    "    "
   ]
  },
  {
   "cell_type": "markdown",
   "metadata": {},
   "source": [
    "# 연습문제1\n",
    "\n",
    "사용자로부터 점수를 3개 입력받아\n",
    "모든 점수가 65점보다 클 경우 합격 아닐경우 불합격을 출력하세요\n",
    "단, 0~100 이 아닌 숫자가 입력된경우 잘못된 “잘못된 점수가 입력되었습니다\" 를 출력하세요\n"
   ]
  },
  {
   "cell_type": "code",
   "execution_count": 28,
   "metadata": {},
   "outputs": [
    {
     "name": "stdout",
     "output_type": "stream",
     "text": [
      "점수1 65\n",
      "점수2 65\n",
      "점수3 65\n",
      "합격\n"
     ]
    }
   ],
   "source": [
    "score1 = int(input(\"점수1 \"))\n",
    "score2 = int(input(\"점수2 \"))\n",
    "score3 = int(input(\"점수3 \"))\n",
    "\n",
    "if 100 > score1 >= 65 and 100 > score2 >= 65 and 100 > score3 >= 65:\n",
    "    print(\"합격\")\n",
    "elif 0 < score1 < 65 or 0 < score2 < 65 or 0 < score3 < 65:\n",
    "    print(\"불합격\")\n",
    "else:\n",
    "    print(\"잘못된 점수가 입력되었습니다.\")"
   ]
  },
  {
   "cell_type": "code",
   "execution_count": null,
   "metadata": {},
   "outputs": [],
   "source": [
    "a = input(\"점수1 \")\n",
    "b = input(\"점수2 \")\n",
    "c = input(\"점수3 \")\n",
    "\n",
    "a, b, c = mpa(int, [a,b,c])\n",
    "\n",
    "\n",
    "# if (not (0 <= a <= 100)) or (not (0<=b<=100) or (not (0<=c<=100))) \n",
    "if (a not in range(101)) or (b not in range(101) or (c not in range(101))):\n",
    "    print(\"잘못된 점수가 입력되었습니다.\")\n",
    "elif a>65 and b>65 and c>65:\n",
    "    print(\"합격\")\n",
    "else\n",
    "    print(\"불합격\")"
   ]
  },
  {
   "cell_type": "markdown",
   "metadata": {},
   "source": [
    "# 연습문제 2\n",
    "   \n",
    "   [홀수 짝수 판별기]\n",
    "사용자로부터 정수를 하나 입력받아  \n",
    "입력한 정수가 홀수인지 짝수인지 판별하여라.  \n",
    "(** 0은 짝수라 하자.)\n"
   ]
  },
  {
   "cell_type": "code",
   "execution_count": 39,
   "metadata": {},
   "outputs": [
    {
     "name": "stdout",
     "output_type": "stream",
     "text": [
      "정수를 입력해주세요: 5\n",
      "입력하신 5는 홀수입니다.\n",
      "정수를 입력해주세요: 10\n",
      "입력하신 10는 짝수입니다.\n"
     ]
    }
   ],
   "source": [
    "a = int(input(\"정수를 입력해주세요: \"))\n",
    "if (a % 2) == 1:\n",
    "    print(\"입력하신 {}는 홀수입니다.\".format(a))\n",
    "    \n",
    "b = int(input(\"정수를 입력해주세요: \")) \n",
    "if (b % 2) == 0: \n",
    "    print(\"입력하신 {}는 짝수입니다.\".format(b))\n",
    "\n"
   ]
  },
  {
   "cell_type": "markdown",
   "metadata": {},
   "source": [
    "# for문"
   ]
  },
  {
   "cell_type": "code",
   "execution_count": 40,
   "metadata": {},
   "outputs": [
    {
     "name": "stdout",
     "output_type": "stream",
     "text": [
      "0\n",
      "1\n",
      "2\n",
      "3\n",
      "4\n",
      "5\n",
      "6\n",
      "7\n",
      "8\n",
      "9\n"
     ]
    }
   ],
   "source": [
    "for i in range(10):\n",
    "    print(i)"
   ]
  },
  {
   "cell_type": "code",
   "execution_count": 42,
   "metadata": {},
   "outputs": [
    {
     "name": "stdout",
     "output_type": "stream",
     "text": [
      "a\n",
      "b\n",
      "c\n"
     ]
    }
   ],
   "source": [
    "for i in ['a', 'b', 'c']:\n",
    "    print(i)"
   ]
  },
  {
   "cell_type": "code",
   "execution_count": 44,
   "metadata": {},
   "outputs": [],
   "source": [
    "profile = {\n",
    "    \"name\" : \"김주희\",\n",
    "    \"height\" : 182,\n",
    "    \"city\" : \"seoul\"\n",
    "}"
   ]
  },
  {
   "cell_type": "code",
   "execution_count": 45,
   "metadata": {},
   "outputs": [
    {
     "name": "stdout",
     "output_type": "stream",
     "text": [
      "name\n",
      "height\n",
      "city\n"
     ]
    }
   ],
   "source": [
    "for i in profile:\n",
    "    print(i)   #key값이 출력"
   ]
  },
  {
   "cell_type": "code",
   "execution_count": 47,
   "metadata": {},
   "outputs": [
    {
     "name": "stdout",
     "output_type": "stream",
     "text": [
      "O\n",
      "r\n",
      "a\n",
      "n\n",
      "g\n",
      "e\n"
     ]
    }
   ],
   "source": [
    "for i in \"Orange\":\n",
    "    print(i)"
   ]
  },
  {
   "cell_type": "markdown",
   "metadata": {},
   "source": [
    "# 연습문제"
   ]
  },
  {
   "cell_type": "code",
   "execution_count": 56,
   "metadata": {},
   "outputs": [
    {
     "name": "stdout",
     "output_type": "stream",
     "text": [
      "정수를 입력해주세요: 5\n",
      "안녕\n",
      "안녕\n",
      "안녕\n",
      "안녕\n",
      "안녕\n"
     ]
    }
   ],
   "source": [
    "i = int(input(\"정수를 입력해주세요: \"))\n",
    "\n",
    "for i in range(i):\n",
    "    print(\"안녕\")"
   ]
  },
  {
   "cell_type": "code",
   "execution_count": 58,
   "metadata": {},
   "outputs": [
    {
     "name": "stdout",
     "output_type": "stream",
     "text": [
      "정수를 입력해주세요: 5\n",
      "\n",
      "*\n",
      "**\n",
      "***\n",
      "****\n",
      "*****\n"
     ]
    }
   ],
   "source": [
    "i = int(input(\"정수를 입력해주세요: \"))\n",
    "\n",
    "for i in range(i+1):\n",
    "    print(\"*\"* i)"
   ]
  },
  {
   "cell_type": "code",
   "execution_count": null,
   "metadata": {},
   "outputs": [],
   "source": []
  },
  {
   "cell_type": "code",
   "execution_count": null,
   "metadata": {},
   "outputs": [],
   "source": []
  },
  {
   "cell_type": "code",
   "execution_count": null,
   "metadata": {},
   "outputs": [],
   "source": []
  },
  {
   "cell_type": "code",
   "execution_count": null,
   "metadata": {},
   "outputs": [],
   "source": []
  }
 ],
 "metadata": {
  "kernelspec": {
   "display_name": "Python 3",
   "language": "python",
   "name": "python3"
  },
  "language_info": {
   "codemirror_mode": {
    "name": "ipython",
    "version": 3
   },
   "file_extension": ".py",
   "mimetype": "text/x-python",
   "name": "python",
   "nbconvert_exporter": "python",
   "pygments_lexer": "ipython3",
   "version": "3.8.3"
  }
 },
 "nbformat": 4,
 "nbformat_minor": 4
}
