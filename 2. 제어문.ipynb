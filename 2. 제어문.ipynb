{
 "cells": [
  {
   "cell_type": "code",
   "execution_count": 2,
   "metadata": {},
   "outputs": [],
   "source": [
    "x = 10"
   ]
  },
  {
   "cell_type": "code",
   "execution_count": 5,
   "metadata": {},
   "outputs": [
    {
     "name": "stdout",
     "output_type": "stream",
     "text": [
      "X는 10입니다.\n",
      "end code block\n"
     ]
    }
   ],
   "source": [
    "if x == 10:\n",
    "    print(\"X는 10입니다.\")  #같은 블록은 들여쓰기를 맞춰줘야함\n",
    "    print(\"end code block\")"
   ]
  },
  {
   "cell_type": "code",
   "execution_count": 6,
   "metadata": {},
   "outputs": [],
   "source": [
    "if x !=10:\n",
    "    print(\"x는 10이 아닙니다.\")"
   ]
  },
  {
   "cell_type": "code",
   "execution_count": 7,
   "metadata": {},
   "outputs": [],
   "source": [
    "if x == 10:\n",
    "    pass      # 아무행동을 하지 않으나, 에러는 나지 않음\n",
    "               # 나중에 코드를 작성하려할 때 사용."
   ]
  },
  {
   "cell_type": "code",
   "execution_count": 8,
   "metadata": {},
   "outputs": [
    {
     "name": "stdout",
     "output_type": "stream",
     "text": [
      "x는 3보다 크고 20보다 작습니다.\n"
     ]
    }
   ],
   "source": [
    "if x > 3 and x < 20:\n",
    "    print('x는 3보다 크고 20보다 작습니다.')"
   ]
  },
  {
   "cell_type": "code",
   "execution_count": 9,
   "metadata": {},
   "outputs": [
    {
     "name": "stdout",
     "output_type": "stream",
     "text": [
      "x는 3보다 큽니다.\n",
      "x는 10보다 크거나 같습니다.\n",
      "x는 20보다 작습니다.\n"
     ]
    }
   ],
   "source": [
    "if x > 3:\n",
    "    print(\"x는 3보다 큽니다.\")\n",
    "    if x >= 10:\n",
    "        print(\"x는 10보다 크거나 같습니다.\")\n",
    "    if x<20:\n",
    "        print(\"x는 20보다 작습니다.\")   # 같은 인덴테이션 레벨이면 한 블록이다."
   ]
  },
  {
   "cell_type": "code",
   "execution_count": 11,
   "metadata": {},
   "outputs": [],
   "source": [
    "x = 3"
   ]
  },
  {
   "cell_type": "code",
   "execution_count": 12,
   "metadata": {},
   "outputs": [
    {
     "name": "stdout",
     "output_type": "stream",
     "text": [
      "x는 5보다 작거나 같습니다.\n"
     ]
    }
   ],
   "source": [
    "if x>5:\n",
    "    print(\"x는 5보다 큽니다.\")\n",
    "else:\n",
    "    print(\"x는 5보다 작거나 같습니다.\")"
   ]
  },
  {
   "cell_type": "code",
   "execution_count": 13,
   "metadata": {},
   "outputs": [
    {
     "name": "stdout",
     "output_type": "stream",
     "text": [
      "x는 2보다 큽니다.\n"
     ]
    }
   ],
   "source": [
    "if x>5:\n",
    "    print(\"x는 5보다 큽니다.\")\n",
    "elif x>2:\n",
    "    print(\"x는 2보다 큽니다.\")\n",
    "elif x>0:\n",
    "    print(\"x는 0보다 큽니다.\")\n",
    "else:\n",
    "    print(\"x는 음수입니다.\")"
   ]
  },
  {
   "cell_type": "code",
   "execution_count": 14,
   "metadata": {},
   "outputs": [],
   "source": [
    "x = 10"
   ]
  },
  {
   "cell_type": "code",
   "execution_count": 16,
   "metadata": {},
   "outputs": [
    {
     "name": "stdout",
     "output_type": "stream",
     "text": [
      "x는 0보다 큽니다.\n"
     ]
    }
   ],
   "source": [
    "if x >0 :\n",
    "    print(\"x는 0보다 큽니다.\")\n",
    "elif x>3:\n",
    "    print(\"x는 3보다 큽니다.\")\n",
    "elif x >8:\n",
    "    print(\"x는 8보다 큽니다.\")  # 조건은 처음에 좁은부분부터 적어야 힘\n",
    "    "
   ]
  },
  {
   "cell_type": "markdown",
   "metadata": {},
   "source": [
    "# 연습문제1\n",
    "\n",
    "사용자로부터 점수를 3개 입력받아\n",
    "모든 점수가 65점보다 클 경우 합격 아닐경우 불합격을 출력하세요\n",
    "단, 0~100 이 아닌 숫자가 입력된경우 잘못된 “잘못된 점수가 입력되었습니다\" 를 출력하세요\n"
   ]
  },
  {
   "cell_type": "code",
   "execution_count": 28,
   "metadata": {},
   "outputs": [
    {
     "name": "stdout",
     "output_type": "stream",
     "text": [
      "점수1 65\n",
      "점수2 65\n",
      "점수3 65\n",
      "합격\n"
     ]
    }
   ],
   "source": [
    "score1 = int(input(\"점수1 \"))\n",
    "score2 = int(input(\"점수2 \"))\n",
    "score3 = int(input(\"점수3 \"))\n",
    "\n",
    "if 100 > score1 >= 65 and 100 > score2 >= 65 and 100 > score3 >= 65:\n",
    "    print(\"합격\")\n",
    "elif 0 < score1 < 65 or 0 < score2 < 65 or 0 < score3 < 65:\n",
    "    print(\"불합격\")\n",
    "else:\n",
    "    print(\"잘못된 점수가 입력되었습니다.\")"
   ]
  },
  {
   "cell_type": "code",
   "execution_count": null,
   "metadata": {},
   "outputs": [],
   "source": [
    "a = input(\"점수1 \")\n",
    "b = input(\"점수2 \")\n",
    "c = input(\"점수3 \")\n",
    "\n",
    "a, b, c = mpa(int, [a,b,c])\n",
    "\n",
    "\n",
    "# if (not (0 <= a <= 100)) or (not (0<=b<=100) or (not (0<=c<=100))) \n",
    "if (a not in range(101)) or (b not in range(101) or (c not in range(101))):\n",
    "    print(\"잘못된 점수가 입력되었습니다.\")\n",
    "elif a>65 and b>65 and c>65:\n",
    "    print(\"합격\")\n",
    "else\n",
    "    print(\"불합격\")"
   ]
  },
  {
   "cell_type": "markdown",
   "metadata": {},
   "source": [
    "# 연습문제 2\n",
    "   \n",
    "   [홀수 짝수 판별기]\n",
    "사용자로부터 정수를 하나 입력받아  \n",
    "입력한 정수가 홀수인지 짝수인지 판별하여라.  \n",
    "(** 0은 짝수라 하자.)\n"
   ]
  },
  {
   "cell_type": "code",
   "execution_count": 39,
   "metadata": {},
   "outputs": [
    {
     "name": "stdout",
     "output_type": "stream",
     "text": [
      "정수를 입력해주세요: 5\n",
      "입력하신 5는 홀수입니다.\n",
      "정수를 입력해주세요: 10\n",
      "입력하신 10는 짝수입니다.\n"
     ]
    }
   ],
   "source": [
    "a = int(input(\"정수를 입력해주세요: \"))\n",
    "if (a % 2) == 1:\n",
    "    print(\"입력하신 {}는 홀수입니다.\".format(a))\n",
    "    \n",
    "b = int(input(\"정수를 입력해주세요: \")) \n",
    "if (b % 2) == 0: \n",
    "    print(\"입력하신 {}는 짝수입니다.\".format(b))\n",
    "\n"
   ]
  },
  {
   "cell_type": "markdown",
   "metadata": {},
   "source": [
    "# for문"
   ]
  },
  {
   "cell_type": "code",
   "execution_count": 40,
   "metadata": {},
   "outputs": [
    {
     "name": "stdout",
     "output_type": "stream",
     "text": [
      "0\n",
      "1\n",
      "2\n",
      "3\n",
      "4\n",
      "5\n",
      "6\n",
      "7\n",
      "8\n",
      "9\n"
     ]
    }
   ],
   "source": [
    "for i in range(10):\n",
    "    print(i)"
   ]
  },
  {
   "cell_type": "code",
   "execution_count": 42,
   "metadata": {},
   "outputs": [
    {
     "name": "stdout",
     "output_type": "stream",
     "text": [
      "a\n",
      "b\n",
      "c\n"
     ]
    }
   ],
   "source": [
    "for i in ['a', 'b', 'c']:\n",
    "    print(i)"
   ]
  },
  {
   "cell_type": "code",
   "execution_count": 44,
   "metadata": {},
   "outputs": [],
   "source": [
    "profile = {\n",
    "    \"name\" : \"김주희\",\n",
    "    \"height\" : 182,\n",
    "    \"city\" : \"seoul\"\n",
    "}"
   ]
  },
  {
   "cell_type": "code",
   "execution_count": 45,
   "metadata": {},
   "outputs": [
    {
     "name": "stdout",
     "output_type": "stream",
     "text": [
      "name\n",
      "height\n",
      "city\n"
     ]
    }
   ],
   "source": [
    "for i in profile:\n",
    "    print(i)   #key값이 출력"
   ]
  },
  {
   "cell_type": "code",
   "execution_count": 47,
   "metadata": {},
   "outputs": [
    {
     "name": "stdout",
     "output_type": "stream",
     "text": [
      "O\n",
      "r\n",
      "a\n",
      "n\n",
      "g\n",
      "e\n"
     ]
    }
   ],
   "source": [
    "for i in \"Orange\":\n",
    "    print(i)"
   ]
  },
  {
   "cell_type": "markdown",
   "metadata": {},
   "source": [
    "# 연습문제"
   ]
  },
  {
   "cell_type": "code",
   "execution_count": 1,
   "metadata": {},
   "outputs": [
    {
     "name": "stdout",
     "output_type": "stream",
     "text": [
      "정수를 입력해주세요: 5\n",
      "안녕\n",
      "안녕\n",
      "안녕\n",
      "안녕\n",
      "안녕\n"
     ]
    }
   ],
   "source": [
    "num = int(input(\"정수를 입력해주세요: \"))\n",
    "\n",
    "for i in range(num):\n",
    "    print(\"안녕\")"
   ]
  },
  {
   "cell_type": "markdown",
   "metadata": {},
   "source": [
    "사용자로부터 정수를 입력받아 입력된 정수만큼 별 찍기"
   ]
  },
  {
   "cell_type": "code",
   "execution_count": 30,
   "metadata": {},
   "outputs": [
    {
     "name": "stdout",
     "output_type": "stream",
     "text": [
      "정수를 입력해주세요: 5\n",
      "*\n",
      "**\n",
      "***\n",
      "****\n",
      "*****\n"
     ]
    }
   ],
   "source": [
    "i = int(input(\"정수를 입력해주세요: \"))\n",
    "\n",
    "for i in range(i):      # range(i+1)시 0~5까지 출력\n",
    "    print(\"*\"* (i+1))    "
   ]
  },
  {
   "cell_type": "markdown",
   "metadata": {},
   "source": [
    "사용자로부터 정수를 입력받아 입력된 정수만큼 별 찍기(역순)"
   ]
  },
  {
   "cell_type": "code",
   "execution_count": 40,
   "metadata": {},
   "outputs": [
    {
     "ename": "SyntaxError",
     "evalue": "invalid syntax (<ipython-input-40-4d9d0cf8c791>, line 6)",
     "output_type": "error",
     "traceback": [
      "\u001b[1;36m  File \u001b[1;32m\"<ipython-input-40-4d9d0cf8c791>\"\u001b[1;36m, line \u001b[1;32m6\u001b[0m\n\u001b[1;33m    for j in range(num)\u001b[0m\n\u001b[1;37m                       ^\u001b[0m\n\u001b[1;31mSyntaxError\u001b[0m\u001b[1;31m:\u001b[0m invalid syntax\n"
     ]
    }
   ],
   "source": [
    "num = int(input(\"정수를 입력해주세요: \"))\n",
    "\n",
    "for i in range(num,0,-1): # 0부터 num까지 역순출력\n",
    "    print(\"*\"* i)"
   ]
  },
  {
   "cell_type": "code",
   "execution_count": 41,
   "metadata": {},
   "outputs": [
    {
     "name": "stdout",
     "output_type": "stream",
     "text": [
      "정수를 입력해주세요: 5\n",
      "*****\n",
      "****\n",
      "***\n",
      "**\n",
      "*\n"
     ]
    }
   ],
   "source": [
    "num = int(input(\"정수를 입력해주세요: \"))\n",
    "\n",
    "\n",
    "for i in range(num): \n",
    "    print(\"*\"*(num-i))"
   ]
  },
  {
   "cell_type": "markdown",
   "metadata": {},
   "source": [
    "# for문 중첩"
   ]
  },
  {
   "cell_type": "code",
   "execution_count": 43,
   "metadata": {},
   "outputs": [
    {
     "name": "stdout",
     "output_type": "stream",
     "text": [
      "i:  0\n",
      "j:  0\n",
      "j:  1\n",
      "j:  2\n",
      "j:  3\n",
      "j:  4\n",
      "----------\n",
      "i:  1\n",
      "j:  0\n",
      "j:  1\n",
      "j:  2\n",
      "j:  3\n",
      "j:  4\n",
      "----------\n",
      "i:  2\n",
      "j:  0\n",
      "j:  1\n",
      "j:  2\n",
      "j:  3\n",
      "j:  4\n",
      "----------\n",
      "i:  3\n",
      "j:  0\n",
      "j:  1\n",
      "j:  2\n",
      "j:  3\n",
      "j:  4\n",
      "----------\n",
      "i:  4\n",
      "j:  0\n",
      "j:  1\n",
      "j:  2\n",
      "j:  3\n",
      "j:  4\n",
      "----------\n"
     ]
    }
   ],
   "source": [
    "for i in range(5):\n",
    "    print(\"i: \", i)\n",
    "    for j in range(5):\n",
    "        print(\"j: \", j)      # i와  j같이 사용가능\n",
    "    print(\"-\"*10)"
   ]
  },
  {
   "cell_type": "code",
   "execution_count": 44,
   "metadata": {},
   "outputs": [
    {
     "name": "stdout",
     "output_type": "stream",
     "text": [
      "(0, 'a')\n",
      "(1, 'b')\n",
      "(2, 'c')\n",
      "(3, 'd')\n"
     ]
    }
   ],
   "source": [
    "l1 = ['a','b','c','d']\n",
    "for i in enumerate(l1): #길이가 2인 튜플 \n",
    "                        # 0 번째요소는 인덱스\n",
    "    print(i)"
   ]
  },
  {
   "cell_type": "code",
   "execution_count": 45,
   "metadata": {},
   "outputs": [
    {
     "name": "stdout",
     "output_type": "stream",
     "text": [
      "10\n",
      "20\n"
     ]
    }
   ],
   "source": [
    "a, b = (10, 20)\n",
    "print(a)\n",
    "print(b)"
   ]
  },
  {
   "cell_type": "code",
   "execution_count": 46,
   "metadata": {},
   "outputs": [
    {
     "name": "stdout",
     "output_type": "stream",
     "text": [
      "0 a\n",
      "1 b\n",
      "2 c\n",
      "3 d\n"
     ]
    }
   ],
   "source": [
    "l1 = ['a','b','c','d']\n",
    "for idx, value in enumerate(l1):  \n",
    "        print(idx, value)     #unpacked"
   ]
  },
  {
   "cell_type": "code",
   "execution_count": 47,
   "metadata": {},
   "outputs": [],
   "source": [
    "for idx, value in enumerate(l1):\n",
    "    if idx>= 2:          #인덱스 값이 2보다 크면, 0으로 출력\n",
    "        l1[idx] = 0 "
   ]
  },
  {
   "cell_type": "code",
   "execution_count": 48,
   "metadata": {},
   "outputs": [
    {
     "data": {
      "text/plain": [
       "['a', 'b', 0, 0]"
      ]
     },
     "execution_count": 48,
     "metadata": {},
     "output_type": "execute_result"
    }
   ],
   "source": [
    "l1"
   ]
  },
  {
   "cell_type": "markdown",
   "metadata": {},
   "source": [
    "# 연습문제2"
   ]
  },
  {
   "cell_type": "markdown",
   "metadata": {},
   "source": [
    "(1)  x = [3, 6, 9, 20, -7, 5] 의 값의 모든 요소에 10을 곱한뒤 출력하세요"
   ]
  },
  {
   "cell_type": "code",
   "execution_count": 4,
   "metadata": {},
   "outputs": [
    {
     "name": "stdout",
     "output_type": "stream",
     "text": [
      "30\n",
      "60\n",
      "90\n",
      "200\n",
      "-70\n",
      "50\n"
     ]
    }
   ],
   "source": [
    "x = [3, 6, 9, 20, -7, 5]\n",
    "for i in x:\n",
    "    print(10 * i)"
   ]
  },
  {
   "cell_type": "markdown",
   "metadata": {},
   "source": [
    "### 심화문제"
   ]
  },
  {
   "cell_type": "code",
   "execution_count": 10,
   "metadata": {},
   "outputs": [
    {
     "data": {
      "text/plain": [
       "[3, 6, 9, 20, -7, 5]"
      ]
     },
     "execution_count": 10,
     "metadata": {},
     "output_type": "execute_result"
    }
   ],
   "source": [
    "x"
   ]
  },
  {
   "cell_type": "markdown",
   "metadata": {},
   "source": [
    "심화 : 출력과 리스트 x 의 값에도 모두 10을 곱해주세요"
   ]
  },
  {
   "cell_type": "code",
   "execution_count": 12,
   "metadata": {},
   "outputs": [
    {
     "name": "stdout",
     "output_type": "stream",
     "text": [
      "300\n",
      "600\n",
      "900\n",
      "2000\n",
      "-700\n",
      "500\n"
     ]
    },
    {
     "data": {
      "text/plain": [
       "[300, 600, 900, 2000, -700, 500]"
      ]
     },
     "execution_count": 12,
     "metadata": {},
     "output_type": "execute_result"
    }
   ],
   "source": [
    "for idx, value in enumerate(x):\n",
    "    x[idx] = value * 10\n",
    "    print(x[idx])\n",
    "x"
   ]
  },
  {
   "cell_type": "markdown",
   "metadata": {},
   "source": [
    "(2)  y = {“math”: 70, “science”: 80, “english”: 20} 의 값의 모든 요소에 10을 더한뒤 출력하세요"
   ]
  },
  {
   "cell_type": "code",
   "execution_count": 8,
   "metadata": {},
   "outputs": [
    {
     "name": "stdout",
     "output_type": "stream",
     "text": [
      "80\n",
      "90\n",
      "30\n",
      "math 80\n",
      "science 90\n",
      "english 30\n"
     ]
    }
   ],
   "source": [
    "y = {\"math\":70, \"science\":80, \"english\":20}\n",
    "for i in y.values():\n",
    "    print(i + 10)\n",
    "   \n",
    "y = {\"math\":70, \"science\":80, \"english\":20}\n",
    "for i in y:\n",
    "    print(i, y[i]+10)"
   ]
  },
  {
   "cell_type": "markdown",
   "metadata": {},
   "source": [
    "심화 : 출력과 리스트 x 의 값에도 모두 10을 곱해주세요"
   ]
  },
  {
   "cell_type": "code",
   "execution_count": 14,
   "metadata": {},
   "outputs": [
    {
     "name": "stdout",
     "output_type": "stream",
     "text": [
      "7000\n",
      "8000\n",
      "2000\n"
     ]
    },
    {
     "data": {
      "text/plain": [
       "{'math': 7000, 'science': 8000, 'english': 2000}"
      ]
     },
     "execution_count": 14,
     "metadata": {},
     "output_type": "execute_result"
    }
   ],
   "source": [
    "for k in y:\n",
    "    y[k] = y[k] * 10 \n",
    "    print(y[k])\n",
    "y"
   ]
  },
  {
   "cell_type": "code",
   "execution_count": null,
   "metadata": {},
   "outputs": [],
   "source": []
  },
  {
   "cell_type": "code",
   "execution_count": null,
   "metadata": {},
   "outputs": [],
   "source": []
  },
  {
   "cell_type": "code",
   "execution_count": null,
   "metadata": {},
   "outputs": [],
   "source": []
  },
  {
   "cell_type": "markdown",
   "metadata": {},
   "source": [
    "3) 숫자를 입력받고 입력받은 정수의 구구단을 출력하세요"
   ]
  },
  {
   "cell_type": "code",
   "execution_count": 97,
   "metadata": {},
   "outputs": [
    {
     "name": "stdout",
     "output_type": "stream",
     "text": [
      "정수를 입력해주세요: 5\n",
      "5 * 1  =  5\n",
      "5 * 2  =  10\n",
      "5 * 3  =  15\n",
      "5 * 4  =  20\n",
      "5 * 5  =  25\n",
      "5 * 6  =  30\n",
      "5 * 7  =  35\n",
      "5 * 8  =  40\n",
      "5 * 9  =  45\n"
     ]
    }
   ],
   "source": [
    "num = int(input(\"정수를 입력해주세요: \"))\n",
    "for i in range(1,10):\n",
    "    print(num,'*',i,' = ',num*i)"
   ]
  },
  {
   "cell_type": "code",
   "execution_count": 17,
   "metadata": {},
   "outputs": [
    {
     "name": "stdout",
     "output_type": "stream",
     "text": [
      "정수를 입력해주세요: 5\n",
      "5 * 1 = 5\n",
      "5 * 2 = 10\n",
      "5 * 3 = 15\n",
      "5 * 4 = 20\n",
      "5 * 5 = 25\n",
      "5 * 6 = 30\n",
      "5 * 7 = 35\n",
      "5 * 8 = 40\n",
      "5 * 9 = 45\n"
     ]
    }
   ],
   "source": [
    "num = int(input(\"정수를 입력해주세요: \"))\n",
    "for i in range(1,10):\n",
    "    print(\"{} * {} = {}\".format(num, i, num*i))"
   ]
  },
  {
   "cell_type": "markdown",
   "metadata": {},
   "source": [
    "## 연습문제3"
   ]
  },
  {
   "cell_type": "markdown",
   "metadata": {},
   "source": [
    "(1) word = [“school”, “game”, “piano”, “science”, “hotel”, “mountain”] 중 글자수가 6글자 이상인 문자를 모아 새로운 리스트를 생성하세요"
   ]
  },
  {
   "cell_type": "code",
   "execution_count": 56,
   "metadata": {},
   "outputs": [
    {
     "data": {
      "text/plain": [
       "['school', 'science', 'mountain']"
      ]
     },
     "execution_count": 56,
     "metadata": {},
     "output_type": "execute_result"
    }
   ],
   "source": [
    "word = [\"school\",\"game\",\"piano\",\"science\",\"hotel\",\"mountain\"]\n",
    "new_word = []  #새로운 리스트 만들기\n",
    "\n",
    "for i in word:\n",
    "    if len(i) >= 6:\n",
    "        new_word.append(i) # 새로운 리스트에 6글자 이상 word 넣기\n",
    "\n",
    "new_word"
   ]
  },
  {
   "cell_type": "markdown",
   "metadata": {},
   "source": [
    "(2) 구구단을 1단부터 9단까지 출력하세요"
   ]
  },
  {
   "cell_type": "code",
   "execution_count": 46,
   "metadata": {},
   "outputs": [
    {
     "name": "stdout",
     "output_type": "stream",
     "text": [
      "1\n",
      "1 * 1  =  1\n",
      "1 * 2  =  2\n",
      "1 * 3  =  3\n",
      "1 * 4  =  4\n",
      "1 * 5  =  5\n",
      "1 * 6  =  6\n",
      "1 * 7  =  7\n",
      "1 * 8  =  8\n",
      "1 * 9  =  9\n",
      "2\n",
      "2 * 1  =  2\n",
      "2 * 2  =  4\n",
      "2 * 3  =  6\n",
      "2 * 4  =  8\n",
      "2 * 5  =  10\n",
      "2 * 6  =  12\n",
      "2 * 7  =  14\n",
      "2 * 8  =  16\n",
      "2 * 9  =  18\n",
      "3\n",
      "3 * 1  =  3\n",
      "3 * 2  =  6\n",
      "3 * 3  =  9\n",
      "3 * 4  =  12\n",
      "3 * 5  =  15\n",
      "3 * 6  =  18\n",
      "3 * 7  =  21\n",
      "3 * 8  =  24\n",
      "3 * 9  =  27\n",
      "4\n",
      "4 * 1  =  4\n",
      "4 * 2  =  8\n",
      "4 * 3  =  12\n",
      "4 * 4  =  16\n",
      "4 * 5  =  20\n",
      "4 * 6  =  24\n",
      "4 * 7  =  28\n",
      "4 * 8  =  32\n",
      "4 * 9  =  36\n",
      "5\n",
      "5 * 1  =  5\n",
      "5 * 2  =  10\n",
      "5 * 3  =  15\n",
      "5 * 4  =  20\n",
      "5 * 5  =  25\n",
      "5 * 6  =  30\n",
      "5 * 7  =  35\n",
      "5 * 8  =  40\n",
      "5 * 9  =  45\n",
      "6\n",
      "6 * 1  =  6\n",
      "6 * 2  =  12\n",
      "6 * 3  =  18\n",
      "6 * 4  =  24\n",
      "6 * 5  =  30\n",
      "6 * 6  =  36\n",
      "6 * 7  =  42\n",
      "6 * 8  =  48\n",
      "6 * 9  =  54\n",
      "7\n",
      "7 * 1  =  7\n",
      "7 * 2  =  14\n",
      "7 * 3  =  21\n",
      "7 * 4  =  28\n",
      "7 * 5  =  35\n",
      "7 * 6  =  42\n",
      "7 * 7  =  49\n",
      "7 * 8  =  56\n",
      "7 * 9  =  63\n",
      "8\n",
      "8 * 1  =  8\n",
      "8 * 2  =  16\n",
      "8 * 3  =  24\n",
      "8 * 4  =  32\n",
      "8 * 5  =  40\n",
      "8 * 6  =  48\n",
      "8 * 7  =  56\n",
      "8 * 8  =  64\n",
      "8 * 9  =  72\n",
      "9\n",
      "9 * 1  =  9\n",
      "9 * 2  =  18\n",
      "9 * 3  =  27\n",
      "9 * 4  =  36\n",
      "9 * 5  =  45\n",
      "9 * 6  =  54\n",
      "9 * 7  =  63\n",
      "9 * 8  =  72\n",
      "9 * 9  =  81\n"
     ]
    }
   ],
   "source": [
    "for i in range(1,10):\n",
    "    print(i)\n",
    "    for j in range(1,10):\n",
    "        print(i,'*',j,' = ',i*j)"
   ]
  },
  {
   "cell_type": "code",
   "execution_count": 60,
   "metadata": {},
   "outputs": [
    {
     "name": "stdout",
     "output_type": "stream",
     "text": [
      "[1단]\n",
      "1 * 1 = 1\n",
      "1 * 2 = 2\n",
      "1 * 3 = 3\n",
      "1 * 4 = 4\n",
      "1 * 5 = 5\n",
      "1 * 6 = 6\n",
      "1 * 7 = 7\n",
      "1 * 8 = 8\n",
      "1 * 9 = 9\n",
      "[2단]\n",
      "2 * 1 = 2\n",
      "2 * 2 = 4\n",
      "2 * 3 = 6\n",
      "2 * 4 = 8\n",
      "2 * 5 = 10\n",
      "2 * 6 = 12\n",
      "2 * 7 = 14\n",
      "2 * 8 = 16\n",
      "2 * 9 = 18\n",
      "[3단]\n",
      "3 * 1 = 3\n",
      "3 * 2 = 6\n",
      "3 * 3 = 9\n",
      "3 * 4 = 12\n",
      "3 * 5 = 15\n",
      "3 * 6 = 18\n",
      "3 * 7 = 21\n",
      "3 * 8 = 24\n",
      "3 * 9 = 27\n",
      "[4단]\n",
      "4 * 1 = 4\n",
      "4 * 2 = 8\n",
      "4 * 3 = 12\n",
      "4 * 4 = 16\n",
      "4 * 5 = 20\n",
      "4 * 6 = 24\n",
      "4 * 7 = 28\n",
      "4 * 8 = 32\n",
      "4 * 9 = 36\n",
      "[5단]\n",
      "5 * 1 = 5\n",
      "5 * 2 = 10\n",
      "5 * 3 = 15\n",
      "5 * 4 = 20\n",
      "5 * 5 = 25\n",
      "5 * 6 = 30\n",
      "5 * 7 = 35\n",
      "5 * 8 = 40\n",
      "5 * 9 = 45\n",
      "[6단]\n",
      "6 * 1 = 6\n",
      "6 * 2 = 12\n",
      "6 * 3 = 18\n",
      "6 * 4 = 24\n",
      "6 * 5 = 30\n",
      "6 * 6 = 36\n",
      "6 * 7 = 42\n",
      "6 * 8 = 48\n",
      "6 * 9 = 54\n",
      "[7단]\n",
      "7 * 1 = 7\n",
      "7 * 2 = 14\n",
      "7 * 3 = 21\n",
      "7 * 4 = 28\n",
      "7 * 5 = 35\n",
      "7 * 6 = 42\n",
      "7 * 7 = 49\n",
      "7 * 8 = 56\n",
      "7 * 9 = 63\n",
      "[8단]\n",
      "8 * 1 = 8\n",
      "8 * 2 = 16\n",
      "8 * 3 = 24\n",
      "8 * 4 = 32\n",
      "8 * 5 = 40\n",
      "8 * 6 = 48\n",
      "8 * 7 = 56\n",
      "8 * 8 = 64\n",
      "8 * 9 = 72\n",
      "[9단]\n",
      "9 * 1 = 9\n",
      "9 * 2 = 18\n",
      "9 * 3 = 27\n",
      "9 * 4 = 36\n",
      "9 * 5 = 45\n",
      "9 * 6 = 54\n",
      "9 * 7 = 63\n",
      "9 * 8 = 72\n",
      "9 * 9 = 81\n",
      "----------\n"
     ]
    }
   ],
   "source": [
    "for i in range(1,10):\n",
    "    print(\"[%s단]\" % i)\n",
    "    for j in range(1,10):\n",
    "        print(\"{} * {} = {}\".format(i, j, i*j))\n",
    "print(\"-\"*10)"
   ]
  },
  {
   "cell_type": "markdown",
   "metadata": {},
   "source": [
    "# 연습문제 4\n",
    "1-100 까지 숫자중\n",
    "3과 5의 공배수일경우 “3과 5의 공배수”\n",
    "나머지 숫자중 3의배수일경우 “3의배수”\n",
    "나머지 숫자중 5의배수일경우 “5의배수”\n",
    "모두 해당되지 않을경우 그냥숫자\n",
    "를 출력하세요\n"
   ]
  },
  {
   "cell_type": "code",
   "execution_count": 64,
   "metadata": {},
   "outputs": [
    {
     "name": "stdout",
     "output_type": "stream",
     "text": [
      "1\n",
      "2\n",
      "3의 배수\n",
      "4\n",
      "5의 배수\n",
      "3의 배수\n",
      "7\n",
      "8\n",
      "3의 배수\n",
      "5의 배수\n",
      "11\n",
      "3의 배수\n",
      "13\n",
      "14\n",
      "3과 5의 공배수\n",
      "16\n",
      "17\n",
      "3의 배수\n",
      "19\n",
      "5의 배수\n",
      "3의 배수\n",
      "22\n",
      "23\n",
      "3의 배수\n",
      "5의 배수\n",
      "26\n",
      "3의 배수\n",
      "28\n",
      "29\n",
      "3과 5의 공배수\n",
      "31\n",
      "32\n",
      "3의 배수\n",
      "34\n",
      "5의 배수\n",
      "3의 배수\n",
      "37\n",
      "38\n",
      "3의 배수\n",
      "5의 배수\n",
      "41\n",
      "3의 배수\n",
      "43\n",
      "44\n",
      "3과 5의 공배수\n",
      "46\n",
      "47\n",
      "3의 배수\n",
      "49\n",
      "5의 배수\n",
      "3의 배수\n",
      "52\n",
      "53\n",
      "3의 배수\n",
      "5의 배수\n",
      "56\n",
      "3의 배수\n",
      "58\n",
      "59\n",
      "3과 5의 공배수\n",
      "61\n",
      "62\n",
      "3의 배수\n",
      "64\n",
      "5의 배수\n",
      "3의 배수\n",
      "67\n",
      "68\n",
      "3의 배수\n",
      "5의 배수\n",
      "71\n",
      "3의 배수\n",
      "73\n",
      "74\n",
      "3과 5의 공배수\n",
      "76\n",
      "77\n",
      "3의 배수\n",
      "79\n",
      "5의 배수\n",
      "3의 배수\n",
      "82\n",
      "83\n",
      "3의 배수\n",
      "5의 배수\n",
      "86\n",
      "3의 배수\n",
      "88\n",
      "89\n",
      "3과 5의 공배수\n",
      "91\n",
      "92\n",
      "3의 배수\n",
      "94\n",
      "5의 배수\n",
      "3의 배수\n",
      "97\n",
      "98\n",
      "3의 배수\n",
      "5의 배수\n"
     ]
    }
   ],
   "source": [
    "n = 101\n",
    "\n",
    "for i in range(1,n):\n",
    "    if (i % 3 == 0) and (i % 5 == 0):\n",
    "        print(\"3과 5의 공배수\")\n",
    "    elif i % 3 == 0:\n",
    "        print(\"3의 배수\")\n",
    "    elif i % 5 == 0:\n",
    "        print(\"5의 배수\")\n",
    "    else:\n",
    "        print(i)"
   ]
  },
  {
   "cell_type": "code",
   "execution_count": 65,
   "metadata": {},
   "outputs": [
    {
     "name": "stdout",
     "output_type": "stream",
     "text": [
      "숫자입력: 10\n",
      "1\n",
      "2\n",
      "3의 배수\n",
      "4\n",
      "5의 배수\n",
      "3의 배수\n",
      "7\n",
      "8\n",
      "3의 배수\n"
     ]
    }
   ],
   "source": [
    "n = int(input(\"숫자입력: \"))\n",
    "\n",
    "for i in range(1,n):\n",
    "    if (i % 3 == 0) and (i % 5 == 0):\n",
    "        print(\"3과 5의 공배수\")\n",
    "    elif i % 3 == 0:\n",
    "        print(\"3의 배수\")\n",
    "    elif i % 5 == 0:\n",
    "        print(\"5의 배수\")\n",
    "    else:\n",
    "        print(i)"
   ]
  },
  {
   "cell_type": "code",
   "execution_count": 86,
   "metadata": {
    "scrolled": false
   },
   "outputs": [
    {
     "name": "stdout",
     "output_type": "stream",
     "text": [
      "tom\n",
      "80\n",
      "70\n"
     ]
    }
   ],
   "source": [
    "a = {\"name\":\"tom\", \"math\":80,\"english\":70}\n",
    "for i in a:\n",
    "    print(a[i])    "
   ]
  },
  {
   "cell_type": "code",
   "execution_count": 85,
   "metadata": {},
   "outputs": [
    {
     "name": "stdout",
     "output_type": "stream",
     "text": [
      "70\n"
     ]
    }
   ],
   "source": [
    "print(i, end=\" \")\n",
    "\n",
    "print(a[i])"
   ]
  },
  {
   "cell_type": "markdown",
   "metadata": {},
   "source": [
    "# While문"
   ]
  },
  {
   "cell_type": "code",
   "execution_count": 87,
   "metadata": {
    "scrolled": true
   },
   "outputs": [
    {
     "name": "stdout",
     "output_type": "stream",
     "text": [
      "i: 0\n",
      "i: 1\n",
      "i: 2\n",
      "i: 3\n",
      "i: 4\n"
     ]
    }
   ],
   "source": [
    "i = 0\n",
    "while i<5:\n",
    "    print(\"i:\",i)\n",
    "    i += 1\n",
    "    # i = i + 1"
   ]
  },
  {
   "cell_type": "code",
   "execution_count": 89,
   "metadata": {},
   "outputs": [
    {
     "name": "stdout",
     "output_type": "stream",
     "text": [
      "s가 입력되면 멈춥니다.ㄴ\n",
      "프로세스 동작중\n",
      "S가 입력되면 멈춥니다.s\n"
     ]
    }
   ],
   "source": [
    "i = input(\"s가 입력되면 멈춥니다.\")\n",
    "while i.upper() != 'S': # 조건이 false가 되면 멈춘다.\n",
    "    print(\"프로세스 동작중\")\n",
    "    i = input(\"S가 입력되면 멈춥니다.\")"
   ]
  },
  {
   "cell_type": "markdown",
   "metadata": {},
   "source": [
    "# 연습문제 5\n",
    "사용자로부터 숫자를 계속 입력받다가\n",
    "s or S 를 입력하면 합계출력\n"
   ]
  },
  {
   "cell_type": "code",
   "execution_count": 132,
   "metadata": {},
   "outputs": [
    {
     "name": "stdout",
     "output_type": "stream",
     "text": [
      "값을 입력해주세요 3\n",
      "값을 입력해주세요 4\n",
      "값을 입력해주세요 5\n",
      "값을 입력해주세요 s\n"
     ]
    },
    {
     "data": {
      "text/plain": [
       "12"
      ]
     },
     "execution_count": 132,
     "metadata": {},
     "output_type": "execute_result"
    }
   ],
   "source": [
    "\n",
    "num = input(\"값을 입력해주세요 \")\n",
    "\n",
    "result = 0    # 합계를 저장할 변수가 필요함!!!!!!!!\n",
    "\n",
    "while num.upper() != 'S':\n",
    "    result += int(num)\n",
    "    num = input(\"값을 입력해주세요 \")\n",
    "    \n",
    "result\n",
    "\n",
    "# 라인의 순서가 중요\n"
   ]
  },
  {
   "cell_type": "markdown",
   "metadata": {},
   "source": [
    "# random"
   ]
  },
  {
   "cell_type": "code",
   "execution_count": 134,
   "metadata": {},
   "outputs": [],
   "source": [
    "import random   #라이브러리에서 가져옴"
   ]
  },
  {
   "cell_type": "code",
   "execution_count": 135,
   "metadata": {},
   "outputs": [
    {
     "data": {
      "text/plain": [
       "1244"
      ]
     },
     "execution_count": 135,
     "metadata": {},
     "output_type": "execute_result"
    }
   ],
   "source": [
    "random.randint(1,5000)"
   ]
  },
  {
   "cell_type": "markdown",
   "metadata": {},
   "source": [
    "## 연습문제 가위바위보 게임만들기\n",
    "\n",
    "가위(1), 바위(2), 보(3) 을 입력해주세요! : 3\n",
    "\n",
    "\n",
    "유저 : 보, 컴퓨터 : 보\n",
    "\n",
    "\n",
    "가위(1), 바위(2), 보(3) 을 입력해주세요! : 2\n",
    "\n",
    "\n",
    "유저 : 바위, 컴퓨터 : 보\n",
    "\n",
    "\n",
    "가위(1), 바위(2), 보(3) 을 입력해주세요! : 1\n",
    "\n",
    "\n",
    "유저 : 가위, 컴퓨터 : 보\n",
    "\n",
    "\n",
    "가위(1), 바위(2), 보(3) 을 입력해주세요! : 4\n",
    "\n",
    "게임종료 (전체:3 ,승리:1)\n",
    "\n",
    "\n",
    "\n",
    "1~3 을 입력하면 게임진행 이외의 숫자를 입력하면 게임종료\n",
    "심화 : 비긴숫자도 출력하세요 (전체:3, 승리:1, 비김:1)"
   ]
  },
  {
   "cell_type": "code",
   "execution_count": 185,
   "metadata": {
    "scrolled": true
   },
   "outputs": [
    {
     "name": "stdout",
     "output_type": "stream",
     "text": [
      "가위(1), 바위(2), 보(3) 을 입력해주세요! : 1\n",
      "유저: 가위, 컴퓨터: 바위\n",
      "가위(1), 바위(2), 보(3) 을 입력해주세요! : 2\n",
      "유저: 바위, 컴퓨터: 바위\n",
      "가위(1), 바위(2), 보(3) 을 입력해주세요! : 3\n",
      "유저: 보, 컴퓨터: 가위\n",
      "가위(1), 바위(2), 보(3) 을 입력해주세요! : 4\n",
      "게임종료(전체: 3, 승리: 2, 비김: 1 )\n"
     ]
    }
   ],
   "source": [
    "\n",
    "\n",
    "\n",
    "user = int(input(\"가위(1), 바위(2), 보(3) 을 입력해주세요! : \"))\n",
    "com = random.randint(1,3)\n",
    "\n",
    "rsp_list = [None, \"가위\", \"바위\", \"보\"]\n",
    "total = 0\n",
    "win = 0\n",
    "draw = 0\n",
    "\n",
    "while user in [1,2,3]:\n",
    "    user = int(user)\n",
    "    print(\"유저: {}, 컴퓨터: {}\".format(rsp_list[user], rsp_list[com]))\n",
    "    \n",
    "    ##비긴경우\n",
    "    if user == com:\n",
    "        draw += 1\n",
    "    \n",
    "    \n",
    "    ##이긴경우\n",
    "    elif (user == 1 and com == 3) or (user ==2 and com == 1) or (user ==3, com ==2):\n",
    "        win += 1\n",
    "    \n",
    "    \n",
    "    ## 진경우 => 전체 - (승리+비김)\n",
    "    total += 1\n",
    "    \n",
    "    \n",
    "    \n",
    "    user = int(input(\"가위(1), 바위(2), 보(3) 을 입력해주세요! : \"))\n",
    "    com = random.randint(1,3)\n",
    "\n",
    "\n",
    "\n",
    "print(\"게임종료(전체: {}, 승리: {}, 비김: {} )\".format(total,win,draw))\n",
    "\n",
    "\n",
    "\n",
    "\n",
    "\n"
   ]
  },
  {
   "cell_type": "markdown",
   "metadata": {},
   "source": [
    "user = int(input(\"가위(1), 바위(2), 보(3) 을 입력해주세요! : \"))\n",
    "com = random.randint(1,3)\n",
    "\n",
    "rsp_dict = {\n",
    "    1 : \"가위\",\n",
    "    2 : \"바위\",\n",
    "    3 : \"보\"\n",
    "}\n",
    "total = 0\n",
    "win = 0\n",
    "draw = 0\n",
    "\n",
    "while user in [1,2,3]:\n",
    "    user = int(user)\n",
    "    print(\"유저: {}, 컴퓨터: {}\".format(rsp_dict[user], rsp_dict[com]))\n",
    "    \n",
    "    ##비긴경우\n",
    "    if user == com:\n",
    "        draw += 1\n",
    "    \n",
    "    \n",
    "    ##이긴경우\n",
    "    elif (user == 1 and com == 3) or (user ==2 and com == 1) or (user ==3, com ==2):\n",
    "        win += 1\n",
    "    \n",
    "    \n",
    "    ## 진경우 => 전체 - (승리+비김)\n",
    "    total += 1\n",
    "    \n",
    "    \n",
    "    \n",
    "    user = int(input(\"가위(1), 바위(2), 보(3) 을 입력해주세요! : \"))\n",
    "    com = random.randint(1,3)\n",
    "\n",
    "\n",
    "\n",
    "print(\"게임종료(전체: {}, 승리: {}, 비김: {} )\".format(total,win,draw))\n"
   ]
  },
  {
   "cell_type": "markdown",
   "metadata": {},
   "source": [
    "# -----------------------------------------------------------"
   ]
  },
  {
   "cell_type": "code",
   "execution_count": 163,
   "metadata": {},
   "outputs": [
    {
     "ename": "SyntaxError",
     "evalue": "invalid syntax (<ipython-input-163-9199518379bd>, line 11)",
     "output_type": "error",
     "traceback": [
      "\u001b[1;36m  File \u001b[1;32m\"<ipython-input-163-9199518379bd>\"\u001b[1;36m, line \u001b[1;32m11\u001b[0m\n\u001b[1;33m    num = input(\"가위(1), 바위(2), 보(3)을 입력해주세요!: \")\u001b[0m\n\u001b[1;37m    ^\u001b[0m\n\u001b[1;31mSyntaxError\u001b[0m\u001b[1;31m:\u001b[0m invalid syntax\n"
     ]
    }
   ],
   "source": [
    "game = {\"가위\":1,\"바위\":2,\"보\":3}\n",
    "\n",
    "total = 0\n",
    "win = 0\n",
    "\n",
    "\n",
    "num = input(\"가위(1), 바위(2), 보(3)을 입력해주세요!: \")\n",
    "\n",
    "while num == range(1,4):\n",
    "    total += count(num)\n",
    "    \n",
    "    print(\"유저 : {}, 컴퓨터 : {}\".format(\n",
    "    num = input(\"가위(1), 바위(2), 보(3)을 입력해주세요!: \")\n",
    "        \n",
    "        \n",
    "        \n",
    "        "
   ]
  },
  {
   "cell_type": "code",
   "execution_count": 177,
   "metadata": {},
   "outputs": [
    {
     "name": "stdout",
     "output_type": "stream",
     "text": [
      "1\n",
      "2\n",
      "3\n"
     ]
    }
   ],
   "source": [
    "game = {\"가위\":1,\"바위\":2,\"보\":3}\n",
    "for i in game:\n",
    "    print(game[i])"
   ]
  },
  {
   "cell_type": "code",
   "execution_count": 182,
   "metadata": {},
   "outputs": [
    {
     "ename": "TypeError",
     "evalue": "randint() missing 1 required positional argument: 'b'",
     "output_type": "error",
     "traceback": [
      "\u001b[1;31m---------------------------------------------------------------------------\u001b[0m",
      "\u001b[1;31mTypeError\u001b[0m                                 Traceback (most recent call last)",
      "\u001b[1;32m<ipython-input-182-96aa1ed55f3e>\u001b[0m in \u001b[0;36m<module>\u001b[1;34m\u001b[0m\n\u001b[0;32m      2\u001b[0m \u001b[1;33m\u001b[0m\u001b[0m\n\u001b[0;32m      3\u001b[0m \u001b[1;32mimport\u001b[0m \u001b[0mrandom\u001b[0m\u001b[1;33m\u001b[0m\u001b[1;33m\u001b[0m\u001b[0m\n\u001b[1;32m----> 4\u001b[1;33m \u001b[0mrandom\u001b[0m\u001b[1;33m.\u001b[0m\u001b[0mrandint\u001b[0m\u001b[1;33m(\u001b[0m\u001b[0mgame\u001b[0m\u001b[1;33m)\u001b[0m\u001b[1;33m\u001b[0m\u001b[1;33m\u001b[0m\u001b[0m\n\u001b[0m",
      "\u001b[1;31mTypeError\u001b[0m: randint() missing 1 required positional argument: 'b'"
     ]
    }
   ],
   "source": [
    "game = [\"가위\",\"바위\",\"보\"]\n",
    "\n",
    "import random\n",
    "random.randint(game)"
   ]
  },
  {
   "cell_type": "code",
   "execution_count": 164,
   "metadata": {},
   "outputs": [
    {
     "ename": "TypeError",
     "evalue": "'list' object is not callable",
     "output_type": "error",
     "traceback": [
      "\u001b[1;31m---------------------------------------------------------------------------\u001b[0m",
      "\u001b[1;31mTypeError\u001b[0m                                 Traceback (most recent call last)",
      "\u001b[1;32m<ipython-input-164-a9b914a52caf>\u001b[0m in \u001b[0;36m<module>\u001b[1;34m\u001b[0m\n\u001b[0;32m      1\u001b[0m \u001b[0mgame\u001b[0m \u001b[1;33m=\u001b[0m \u001b[1;33m[\u001b[0m\u001b[1;34m\"가위\"\u001b[0m\u001b[1;33m,\u001b[0m\u001b[1;34m\"바위\"\u001b[0m\u001b[1;33m,\u001b[0m\u001b[1;34m\"보\"\u001b[0m\u001b[1;33m]\u001b[0m\u001b[1;33m\u001b[0m\u001b[1;33m\u001b[0m\u001b[0m\n\u001b[1;32m----> 2\u001b[1;33m \u001b[1;32mfor\u001b[0m \u001b[0mi\u001b[0m \u001b[1;32min\u001b[0m \u001b[0mgame\u001b[0m\u001b[1;33m(\u001b[0m\u001b[1;33m)\u001b[0m\u001b[1;33m:\u001b[0m\u001b[1;33m\u001b[0m\u001b[1;33m\u001b[0m\u001b[0m\n\u001b[0m\u001b[0;32m      3\u001b[0m     \u001b[1;32mimport\u001b[0m \u001b[0mrandom\u001b[0m\u001b[1;33m\u001b[0m\u001b[1;33m\u001b[0m\u001b[0m\n\u001b[0;32m      4\u001b[0m     \u001b[0mrandom\u001b[0m\u001b[1;33m.\u001b[0m\u001b[0mrandint\u001b[0m\u001b[1;33m(\u001b[0m\u001b[0mgame\u001b[0m\u001b[1;33m)\u001b[0m\u001b[1;33m\u001b[0m\u001b[1;33m\u001b[0m\u001b[0m\n",
      "\u001b[1;31mTypeError\u001b[0m: 'list' object is not callable"
     ]
    }
   ],
   "source": [
    "game = [\"가위\",\"바위\",\"보\"]\n",
    "for i in game():\n",
    "    import random\n",
    "    random.randint(game)"
   ]
  },
  {
   "cell_type": "code",
   "execution_count": null,
   "metadata": {},
   "outputs": [],
   "source": []
  },
  {
   "cell_type": "code",
   "execution_count": null,
   "metadata": {},
   "outputs": [],
   "source": []
  },
  {
   "cell_type": "code",
   "execution_count": null,
   "metadata": {},
   "outputs": [],
   "source": [
    "y = {\"math\":70, \"science\":80, \"english\":20}\n",
    "for i in y.values():\n",
    "    print(i + 10)\n",
    "   \n",
    "y = {\"math\":70, \"science\":80, \"english\":20}\n",
    "for i in y:\n",
    "    print(i, y[i]+10)"
   ]
  },
  {
   "cell_type": "markdown",
   "metadata": {},
   "source": [
    "# -------------------------------------------------------------"
   ]
  },
  {
   "cell_type": "markdown",
   "metadata": {},
   "source": [
    "# break, continue\n",
    "\n",
    "   조건절과 같이 사용"
   ]
  },
  {
   "cell_type": "code",
   "execution_count": 191,
   "metadata": {},
   "outputs": [
    {
     "name": "stdout",
     "output_type": "stream",
     "text": [
      "0\n",
      "1\n",
      "2\n"
     ]
    }
   ],
   "source": [
    "\n",
    "for i in range(5):\n",
    "    if i == 3:\n",
    "        break   # 반복문 멈춤\n",
    "    print(i)     # 0,1,2 출력\n",
    "    "
   ]
  },
  {
   "cell_type": "code",
   "execution_count": 192,
   "metadata": {},
   "outputs": [
    {
     "name": "stdout",
     "output_type": "stream",
     "text": [
      "0\n",
      "1\n",
      "2\n",
      "3\n",
      "4\n",
      "5\n",
      "9\n"
     ]
    }
   ],
   "source": [
    "\n",
    "for i in range(10):\n",
    "    if 5< i <=8:\n",
    "        continue  #6은 호출안되고 다시 for문으로\n",
    "    print(i)\n",
    "\n"
   ]
  },
  {
   "cell_type": "code",
   "execution_count": 196,
   "metadata": {},
   "outputs": [
    {
     "name": "stdout",
     "output_type": "stream",
     "text": [
      "Hello\n",
      "s입력시 멈춥니다.s\n"
     ]
    }
   ],
   "source": [
    "# loop\n",
    "\n",
    "while True:\n",
    "    print(\"Hello\")\n",
    "    num = input('s입력시 멈춥니다.')\n",
    "    if num.lower() == 's':\n",
    "        break \n",
    "        "
   ]
  },
  {
   "cell_type": "markdown",
   "metadata": {},
   "source": [
    "# 연습문제11\n",
    "(1) while 문과 break 문을 사용하여 사용자가 입력한 숫자만큼 반복하여 ‘hi’ 출력하기"
   ]
  },
  {
   "cell_type": "code",
   "execution_count": 210,
   "metadata": {},
   "outputs": [
    {
     "name": "stdout",
     "output_type": "stream",
     "text": [
      "입력 3\n",
      "hi\n",
      "hi\n",
      "hi\n"
     ]
    }
   ],
   "source": [
    "\n",
    "\n",
    "num = int(input(\"입력 \"))\n",
    "count = 0\n",
    "\n",
    "while True:\n",
    "    if count < num:\n",
    "            print('hi')\n",
    "    else:\n",
    "            break\n",
    "    count += 1\n",
    "        \n",
    "               "
   ]
  },
  {
   "cell_type": "markdown",
   "metadata": {},
   "source": [
    "(2) for 문과 continue 문을 사용하여 사용자가 입력한 숫자까지의 짝수를 출력하기"
   ]
  },
  {
   "cell_type": "code",
   "execution_count": 206,
   "metadata": {},
   "outputs": [
    {
     "name": "stdout",
     "output_type": "stream",
     "text": [
      "입력 3\n",
      "0\n",
      "2\n"
     ]
    }
   ],
   "source": [
    "num = int(input(\"입력 \"))\n",
    "\n",
    "for i in range(num):\n",
    "        if not (i % 2 == 0):\n",
    "            continue\n",
    "        print(i)\n",
    "    "
   ]
  },
  {
   "cell_type": "markdown",
   "metadata": {},
   "source": [
    "# 연습문제 7\n",
    "\n",
    "randint함수를 사용하여 정수(1~1000)로 이루어진 길이가 100개인 리스트 a를 만들고 \n",
    "\n",
    "\n",
    "\n",
    "가장 큰 수를 구하는 코드를 작성하시오.\n",
    "\n",
    "\n",
    "\n",
    "예) a=[32, 45, 2, 5, 76] 일때, 출력결과는 76이 나와야 함.\n"
   ]
  },
  {
   "cell_type": "code",
   "execution_count": 257,
   "metadata": {
    "scrolled": true
   },
   "outputs": [
    {
     "name": "stdout",
     "output_type": "stream",
     "text": [
      "[993, 587, 821, 701, 457, 390, 155, 591, 136, 523, 269, 36, 655, 324, 971, 19, 513, 843, 308, 780, 388, 824, 684, 680, 940, 348, 817, 412, 943, 506, 926, 107, 506, 272, 785, 995, 894, 182, 316, 2, 886, 852, 567, 77, 586, 581, 603, 681, 519, 833, 372, 945, 320, 54, 548, 51, 992, 458, 122, 366, 841, 937, 874, 63, 659, 935, 698, 336, 937, 221, 764, 623, 516, 814, 690, 159, 39, 488, 626, 221, 982, 90, 473, 483, 933, 507, 477, 211, 501, 978, 277, 115, 295, 74, 630, 134, 418, 920, 355, 374, 261]\n"
     ]
    },
    {
     "data": {
      "text/plain": [
       "995"
      ]
     },
     "execution_count": 257,
     "metadata": {},
     "output_type": "execute_result"
    }
   ],
   "source": [
    "i = 0\n",
    "a = []\n",
    "\n",
    "while True:\n",
    "    if i <= 100:\n",
    "        a.append(random.randint(1,1000))\n",
    "    else:\n",
    "        break\n",
    "    i += 1\n",
    "print(a)\n",
    "\n",
    "max(a)\n"
   ]
  },
  {
   "cell_type": "code",
   "execution_count": 260,
   "metadata": {},
   "outputs": [],
   "source": [
    "new_list = []\n",
    "rand_num = 0\n",
    "max_num = 0\n",
    "\n",
    "# 리스트 만들기\n",
    "\n",
    "for i in range(100):   # i부터 100까지 반복\n",
    "    rand_num = random.randint(1,1000)\n",
    "    new_list.append(rand_num)\n",
    "    \n",
    "    if max_num < rand_num:\n",
    "        max_num = rand_num\n",
    "    "
   ]
  },
  {
   "cell_type": "code",
   "execution_count": 263,
   "metadata": {},
   "outputs": [
    {
     "name": "stdout",
     "output_type": "stream",
     "text": [
      "[505, 873, 205, 237, 103, 799, 992, 136, 307, 927, 120, 782, 581, 888, 144, 745, 309, 898, 97, 579, 514, 714, 218, 211, 640, 711, 926, 636, 554, 947, 220, 893, 64, 978, 219, 429, 48, 699, 589, 436, 268, 889, 990, 116, 880, 450, 980, 854, 858, 314, 502, 238, 130, 571, 739, 224, 808, 273, 737, 449, 433, 248, 479, 270, 159, 297, 633, 977, 793, 353, 657, 886, 779, 787, 131, 475, 766, 756, 124, 771, 734, 439, 282, 390, 820, 767, 518, 77, 676, 341, 834, 600, 928, 540, 376, 591, 238, 133, 546, 459]\n"
     ]
    }
   ],
   "source": [
    "print(new_list)"
   ]
  },
  {
   "cell_type": "code",
   "execution_count": 266,
   "metadata": {},
   "outputs": [
    {
     "data": {
      "text/plain": [
       "992"
      ]
     },
     "execution_count": 266,
     "metadata": {},
     "output_type": "execute_result"
    }
   ],
   "source": [
    "max_num"
   ]
  },
  {
   "cell_type": "markdown",
   "metadata": {},
   "source": [
    "# 연습문제8\n",
    "\n",
    "randint함수를 사용하여 정수(1~1000)로 이루어진 길이가 100개인 리스트 a를 만들고 \n",
    "리스트의 모든 요소의 합계를 구하는 코드를 작성하시오.\n",
    "\n",
    "예) a=[32, 45, 2, 5, 76] 일때, 출력결과는 160이 나와야 함.\n"
   ]
  },
  {
   "cell_type": "code",
   "execution_count": 255,
   "metadata": {},
   "outputs": [
    {
     "name": "stdout",
     "output_type": "stream",
     "text": [
      "[204, 259, 907, 739, 299, 85, 961, 269, 811, 238, 175, 932, 502, 950, 224, 574, 439, 269, 317, 73, 49, 219, 613, 929, 619, 604, 348, 451, 367, 503, 944, 964, 265, 435, 507, 391, 334, 516, 116, 217, 610, 202, 831, 158, 435, 426, 953, 152, 436, 976, 633, 187, 869, 905, 798, 351, 96, 332, 889, 420, 178, 749, 824, 952, 796, 732, 393, 635, 399, 824, 204, 958, 230, 528, 296, 263, 867, 313, 944, 929, 901, 627, 66, 629, 522, 63, 370, 234, 558, 556, 276, 911, 362, 410, 553, 369, 912, 203, 822, 544, 920]\n"
     ]
    },
    {
     "data": {
      "text/plain": [
       "52099"
      ]
     },
     "execution_count": 255,
     "metadata": {},
     "output_type": "execute_result"
    }
   ],
   "source": [
    "\n",
    "i = 0\n",
    "b = []\n",
    "\n",
    "while True:\n",
    "    if i <= 100:\n",
    "        b.append(random.randint(1,1000))\n",
    "    else:\n",
    "        break\n",
    "    i += 1\n",
    "print(b)\n",
    "\n",
    "sum(b)\n"
   ]
  },
  {
   "cell_type": "markdown",
   "metadata": {},
   "source": [
    "# 리스트 컴프리핸션(list comprehension)"
   ]
  },
  {
   "cell_type": "code",
   "execution_count": 267,
   "metadata": {},
   "outputs": [
    {
     "data": {
      "text/plain": [
       "[1, 2, 3, 4]"
      ]
     },
     "execution_count": 267,
     "metadata": {},
     "output_type": "execute_result"
    }
   ],
   "source": [
    "list(range(1,5))"
   ]
  },
  {
   "cell_type": "code",
   "execution_count": 269,
   "metadata": {},
   "outputs": [
    {
     "data": {
      "text/plain": [
       "[10, 20, 30, 40]"
      ]
     },
     "execution_count": 269,
     "metadata": {},
     "output_type": "execute_result"
    }
   ],
   "source": [
    "# 리스트 값마다 10씩 곱하기\n",
    "new_list = []\n",
    "for i in range(1, 5):\n",
    "    new_list.append(i*10)\n",
    "new_list"
   ]
  },
  {
   "cell_type": "code",
   "execution_count": 273,
   "metadata": {},
   "outputs": [
    {
     "data": {
      "text/plain": [
       "[8.5, 9.5, 10.5, 11.5]"
      ]
     },
     "execution_count": 273,
     "metadata": {},
     "output_type": "execute_result"
    }
   ],
   "source": [
    "#syntax\n",
    "# 리스트 값마다 7.5씩 더하기\n",
    "new_list = [i+7.5 for i in range(1,5)]    # 문법\n",
    "new_list\n"
   ]
  },
  {
   "cell_type": "code",
   "execution_count": 275,
   "metadata": {},
   "outputs": [
    {
     "name": "stdout",
     "output_type": "stream",
     "text": [
      "[3, 6, 9, 12, 15, 18, 21, 24, 27, 30, 33, 36, 39, 42, 45, 48, 51, 54, 57, 60, 63, 66, 69, 72, 75, 78, 81, 84, 87, 90, 93, 96, 99]\n"
     ]
    }
   ],
   "source": [
    "# 1부터 100까지의 숫자중에서 3의 배수만 모아서 새로운 리스트를 만드시오.\n",
    "new_list = []\n",
    "for i in range(1,100):\n",
    "    if i %3 == 0:\n",
    "        new_list.append(i) #********** append()안에 지정 수 넣기\n",
    "print(new_list)"
   ]
  },
  {
   "cell_type": "code",
   "execution_count": 277,
   "metadata": {},
   "outputs": [
    {
     "name": "stdout",
     "output_type": "stream",
     "text": [
      "[3, 6, 9, 12, 15, 18, 21, 24, 27, 30, 33, 36, 39, 42, 45, 48, 51, 54, 57, 60, 63, 66, 69, 72, 75, 78, 81, 84, 87, 90, 93, 96, 99]\n"
     ]
    }
   ],
   "source": [
    "# 리스트 검프리핸션 사용\n",
    "\n",
    "new_list = [i for i in range(1,101) if i%3==0]\n",
    "print(new_list)\n"
   ]
  },
  {
   "cell_type": "code",
   "execution_count": 280,
   "metadata": {},
   "outputs": [
    {
     "name": "stdout",
     "output_type": "stream",
     "text": [
      "100\n",
      "[1, 2, 3, 4, 5, 6, 7, 8, 9, 10, 2, 4, 6, 8, 10, 12, 14, 16, 18, 20, 3, 6, 9, 12, 15, 18, 21, 24, 27, 30, 4, 8, 12, 16, 20, 24, 28, 32, 36, 40, 5, 10, 15, 20, 25, 30, 35, 40, 45, 50, 6, 12, 18, 24, 30, 36, 42, 48, 54, 60, 7, 14, 21, 28, 35, 42, 49, 56, 63, 70, 8, 16, 24, 32, 40, 48, 56, 64, 72, 80, 9, 18, 27, 36, 45, 54, 63, 72, 81, 90, 10, 20, 30, 40, 50, 60, 70, 80, 90, 100]\n"
     ]
    }
   ],
   "source": [
    "# 리스트 컴프리핸션 사용, 이중 for문\n",
    "\n",
    "new_list = [ i*j for i in range(1,11) for j in range(1,11)]\n",
    "print(len(new_list))\n",
    "print(new_list)"
   ]
  },
  {
   "cell_type": "code",
   "execution_count": 282,
   "metadata": {},
   "outputs": [
    {
     "data": {
      "text/plain": [
       "{'city': 'seoul', 'name': '김주희', 'height': 172}"
      ]
     },
     "execution_count": 282,
     "metadata": {},
     "output_type": "execute_result"
    }
   ],
   "source": [
    "#리스트 딕셔너리로 변경하기\n",
    "\n",
    "keys = ['city', 'name', 'height']\n",
    "value = ['seoul', '김주희', 172]\n",
    "\n",
    "new_dict = {keys[i]:value[i] for i in range(len(keys))} #len(keys) keys의 개수까지\n",
    "\n",
    "new_dict\n"
   ]
  },
  {
   "cell_type": "markdown",
   "metadata": {},
   "source": [
    "# zip\n",
    "zip(*iterable)은 동일한 개수로 이루어진 자료형을 묶어 주는 역할을 하는 함수이다."
   ]
  },
  {
   "cell_type": "code",
   "execution_count": 283,
   "metadata": {},
   "outputs": [
    {
     "name": "stdout",
     "output_type": "stream",
     "text": [
      "city seoul\n",
      "name 김주희\n",
      "height 172\n"
     ]
    }
   ],
   "source": [
    "for i in range(len(keys)):\n",
    "    k = keys[i]\n",
    "    v = value[i]\n",
    "    print(k,v)"
   ]
  },
  {
   "cell_type": "code",
   "execution_count": 287,
   "metadata": {
    "scrolled": true
   },
   "outputs": [
    {
     "data": {
      "text/plain": [
       "[('city', 'seoul'), ('name', '김주희'), ('height', 172)]"
      ]
     },
     "execution_count": 287,
     "metadata": {},
     "output_type": "execute_result"
    }
   ],
   "source": [
    "list(zip(keys, value)) # zip은 list로 묶을 수 있음 # 튜플"
   ]
  },
  {
   "cell_type": "code",
   "execution_count": 290,
   "metadata": {},
   "outputs": [
    {
     "name": "stdout",
     "output_type": "stream",
     "text": [
      "city seoul\n",
      "name 김주희\n",
      "height 172\n"
     ]
    }
   ],
   "source": [
    "for k, v in zip(keys, value):        #뭐여\n",
    "    print(k, v)"
   ]
  },
  {
   "cell_type": "code",
   "execution_count": 291,
   "metadata": {},
   "outputs": [
    {
     "data": {
      "text/plain": [
       "[('city', 'seoul', 'a'), ('name', '김주희', 'b'), ('height', 172, 'c')]"
      ]
     },
     "execution_count": 291,
     "metadata": {},
     "output_type": "execute_result"
    }
   ],
   "source": [
    "# 3개도 가능\n",
    "\n",
    "keys = ['city', 'name', 'height']\n",
    "value = ['seoul', '김주희', 172]\n",
    "sample = ['a','b','c']\n",
    "\n",
    "list(zip(keys,value,sample))\n"
   ]
  },
  {
   "cell_type": "code",
   "execution_count": 292,
   "metadata": {},
   "outputs": [
    {
     "data": {
      "text/plain": [
       "{'city': 'seoul', 'name': '김주희', 'height': 172}"
      ]
     },
     "execution_count": 292,
     "metadata": {},
     "output_type": "execute_result"
    }
   ],
   "source": [
    "dict(zip(keys, value))"
   ]
  },
  {
   "cell_type": "markdown",
   "metadata": {},
   "source": [
    "# 연습문제9\n",
    "(1) word = [“school”, “game”, “piano”, “science”, “hotel”, “mountain”] 중 글자수가 6글자 이상인 문자를 모아 새로운 리스트를 생성하세요\n",
    "(리스트 컴프리핸션을 사용해주세요)\n",
    "\n"
   ]
  },
  {
   "cell_type": "code",
   "execution_count": 309,
   "metadata": {},
   "outputs": [
    {
     "data": {
      "text/plain": [
       "['school', 'science', 'mountain']"
      ]
     },
     "execution_count": 309,
     "metadata": {},
     "output_type": "execute_result"
    }
   ],
   "source": [
    "word = ['school','game','piano','science','hotel','mountain']\n",
    "new_list = [w for w in word if len(w)>=6]\n",
    "new_list"
   ]
  },
  {
   "cell_type": "markdown",
   "metadata": {},
   "source": [
    "(2) word = [“school”, “game”, “piano”, “science”, “hotel”, “mountain”] 리스트의 글자수가 들어가있는 새로운 리스트를 생성하세요\n",
    "(리스트 컴프리핸션을 사용해주세요)\n"
   ]
  },
  {
   "cell_type": "code",
   "execution_count": 310,
   "metadata": {},
   "outputs": [
    {
     "data": {
      "text/plain": [
       "[6, 4, 5, 7, 5, 8]"
      ]
     },
     "execution_count": 310,
     "metadata": {},
     "output_type": "execute_result"
    }
   ],
   "source": [
    "word = ['school','game','piano','science','hotel','mountain']\n",
    "new_list = [len(w) for w in word]\n",
    "new_list"
   ]
  },
  {
   "cell_type": "markdown",
   "metadata": {},
   "source": [
    "# 연습문제10\n",
    "\n",
    "\n",
    "(1) 아래 두 리스트를 각 요소들을 곱해 새로운 리스트 C 를 만드세요\n",
    "\n",
    "\n",
    "\n",
    "a = [[10, 20], [30, 40], [50, 60]]\n",
    "\n",
    "\n",
    "b = [[2, 3], [4, 5], [6, 7]]\n"
   ]
  },
  {
   "cell_type": "code",
   "execution_count": 337,
   "metadata": {
    "scrolled": true
   },
   "outputs": [],
   "source": [
    "a = [[10, 20], [30, 40], [50, 60]]\n",
    "b = [[2, 3], [4, 5], [6, 7]]\n"
   ]
  },
  {
   "cell_type": "code",
   "execution_count": 339,
   "metadata": {},
   "outputs": [
    {
     "data": {
      "text/plain": [
       "[[20, 60], [120, 200], [300, 420]]"
      ]
     },
     "execution_count": 339,
     "metadata": {},
     "output_type": "execute_result"
    }
   ],
   "source": [
    "\n",
    "new_list = []\n",
    "\n",
    "for i in range(len(a)): # a의 길이로 index값 출력\n",
    "    in_list = []\n",
    "    for j in range(len(a[i])):\n",
    "        in_list.append(a[i][j] * b[i][j])\n",
    "        \n",
    "    new_list.append(in_list)\n",
    "new_list\n",
    "    \n",
    "    \n"
   ]
  },
  {
   "cell_type": "markdown",
   "metadata": {},
   "source": [
    "# 연습문제11\n",
    "(1) 아래의 학습코드를 가지고 a 리스트가 [[1,2],[3,4],[5,6]] 와 같이 만들어지도록 수정하세요\n"
   ]
  },
  {
   "cell_type": "code",
   "execution_count": 336,
   "metadata": {},
   "outputs": [
    {
     "name": "stdout",
     "output_type": "stream",
     "text": [
      "[[0, 0], [0, 0], [0, 0]]\n"
     ]
    }
   ],
   "source": [
    ">>> a = []\n",
    ">>> for i in range(3):\n",
    ">>>     line = []\n",
    ">>>     for j in range(2):\n",
    ">>>        line.append(0)\n",
    ">>>     a.append(line)\n",
    ">>> print(a)\n"
   ]
  },
  {
   "cell_type": "code",
   "execution_count": null,
   "metadata": {},
   "outputs": [],
   "source": []
  },
  {
   "cell_type": "code",
   "execution_count": null,
   "metadata": {},
   "outputs": [],
   "source": []
  },
  {
   "cell_type": "code",
   "execution_count": null,
   "metadata": {},
   "outputs": [],
   "source": []
  },
  {
   "cell_type": "code",
   "execution_count": null,
   "metadata": {},
   "outputs": [],
   "source": []
  }
 ],
 "metadata": {
  "kernelspec": {
   "display_name": "Python 3",
   "language": "python",
   "name": "python3"
  },
  "language_info": {
   "codemirror_mode": {
    "name": "ipython",
    "version": 3
   },
   "file_extension": ".py",
   "mimetype": "text/x-python",
   "name": "python",
   "nbconvert_exporter": "python",
   "pygments_lexer": "ipython3",
   "version": "3.8.3"
  }
 },
 "nbformat": 4,
 "nbformat_minor": 4
}
