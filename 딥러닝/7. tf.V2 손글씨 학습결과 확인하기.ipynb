{
 "cells": [
  {
   "cell_type": "code",
   "execution_count": 4,
   "metadata": {},
   "outputs": [
    {
     "name": "stdout",
     "output_type": "stream",
     "text": [
      "Model: \"sequential_18\"\n",
      "_________________________________________________________________\n",
      "Layer (type)                 Output Shape              Param #   \n",
      "=================================================================\n",
      "dense_54 (Dense)             (None, 10)                7850      \n",
      "_________________________________________________________________\n",
      "dense_55 (Dense)             (None, 10)                110       \n",
      "_________________________________________________________________\n",
      "dense_56 (Dense)             (None, 10)                110       \n",
      "=================================================================\n",
      "Total params: 8,070\n",
      "Trainable params: 8,070\n",
      "Non-trainable params: 0\n",
      "_________________________________________________________________\n"
     ]
    }
   ],
   "source": [
    "from tensorflow.keras.models import load_model\n",
    "\n",
    "model = load_model('C:\\\\Users\\\\user\\\\study1\\\\머신러닝\\\\housing_model\\\\29-0.215844.hdf5')\n",
    "model.summary()\n",
    "\n",
    "from keras.datasets import mnist\n",
    "from keras.utils import np_utils\n",
    "\n",
    "import numpy\n",
    "import sys\n",
    "import tensorflow as tf\n",
    "import os\n",
    "import matplotlib.pyplot as plt\n",
    "\n",
    "\n"
   ]
  },
  {
   "cell_type": "code",
   "execution_count": 18,
   "metadata": {},
   "outputs": [
    {
     "name": "stdout",
     "output_type": "stream",
     "text": [
      "Collecting opencv--python\n",
      "  Downloading opencv_python-4.4.0.42-cp37-cp37m-win_amd64.whl (33.5 MB)\n",
      "Requirement already satisfied: numpy>=1.14.5 in c:\\programdata\\anaconda3\\envs\\test_envs\\lib\\site-packages (from opencv--python) (1.18.5)\n",
      "Installing collected packages: opencv-python\n",
      "Successfully installed opencv-python-4.4.0.42\n"
     ]
    }
   ],
   "source": [
    "! pip install opencv--python"
   ]
  },
  {
   "cell_type": "code",
   "execution_count": 27,
   "metadata": {
    "scrolled": true
   },
   "outputs": [
    {
     "data": {
      "image/png": "[encoded data removed]",
      "text/plain": [
       "<Figure size 432x288 with 1 Axes>"
      ]
     },
     "metadata": {
      "needs_background": "light"
     },
     "output_type": "display_data"
    },
    {
     "ename": "TypeError",
     "evalue": "%d format: a number is required, not numpy.ndarray",
     "output_type": "error",
     "traceback": [
      "\u001b[1;31m---------------------------------------------------------------------------\u001b[0m",
      "\u001b[1;31mTypeError\u001b[0m                                 Traceback (most recent call last)",
      "\u001b[1;32m<ipython-input-27-23f02f6ae054>\u001b[0m in \u001b[0;36m<module>\u001b[1;34m\u001b[0m\n\u001b[0;32m     17\u001b[0m \u001b[1;32mfor\u001b[0m \u001b[0mx\u001b[0m \u001b[1;32min\u001b[0m \u001b[0msample_img\u001b[0m\u001b[1;33m:\u001b[0m\u001b[1;33m\u001b[0m\u001b[1;33m\u001b[0m\u001b[0m\n\u001b[0;32m     18\u001b[0m     \u001b[1;32mfor\u001b[0m \u001b[0mi\u001b[0m \u001b[1;32min\u001b[0m \u001b[0mx\u001b[0m\u001b[1;33m:\u001b[0m\u001b[1;33m\u001b[0m\u001b[1;33m\u001b[0m\u001b[0m\n\u001b[1;32m---> 19\u001b[1;33m         \u001b[0msys\u001b[0m\u001b[1;33m.\u001b[0m\u001b[0mstdout\u001b[0m\u001b[1;33m.\u001b[0m\u001b[0mwrite\u001b[0m\u001b[1;33m(\u001b[0m\u001b[1;34m'%.3d'\u001b[0m \u001b[1;33m%\u001b[0m \u001b[0mi\u001b[0m\u001b[1;33m)\u001b[0m\u001b[1;33m\u001b[0m\u001b[1;33m\u001b[0m\u001b[0m\n\u001b[0m\u001b[0;32m     20\u001b[0m     \u001b[0msys\u001b[0m\u001b[1;33m.\u001b[0m\u001b[0mstdout\u001b[0m\u001b[1;33m.\u001b[0m\u001b[0mwrite\u001b[0m\u001b[1;33m(\u001b[0m\u001b[1;34m'\\n'\u001b[0m\u001b[1;33m)\u001b[0m\u001b[1;33m\u001b[0m\u001b[1;33m\u001b[0m\u001b[0m\n\u001b[0;32m     21\u001b[0m \u001b[1;33m\u001b[0m\u001b[0m\n",
      "\u001b[1;31mTypeError\u001b[0m: %d format: a number is required, not numpy.ndarray"
     ]
    }
   ],
   "source": [
    "import os, re, glob\n",
    "import numpy as np\n",
    "import shutil\n",
    "import cv2\n",
    "from numpy import argmax\n",
    "from keras.models import load_model\n",
    "import sys\n",
    "\n",
    "\n",
    "model = load_model('C:\\\\Users\\\\user\\\\study1\\\\머신러닝\\\\housing_model\\\\29-0.215844.hdf5')\n",
    "\n",
    "import matplotlib.pyplot as plt\n",
    "sample_img = plt.imread('C:\\\\Users\\\\user\\\\study1\\\\손글씨자료\\\\3.jpg')\n",
    "plt.imshow(sample_img, cmap = 'Greys')\n",
    "plt.show()\n",
    "\n",
    "for x in sample_img:\n",
    "    for i in x:\n",
    "        sys.stdout.write('%.3d' % i)\n",
    "    sys.stdout.write('\\n')\n",
    "    \n",
    "\n",
    "\n",
    "\n",
    "\n"
   ]
  },
  {
   "cell_type": "code",
   "execution_count": null,
   "metadata": {},
   "outputs": [],
   "source": []
  },
  {
   "cell_type": "code",
   "execution_count": 46,
   "metadata": {
    "scrolled": true
   },
   "outputs": [
    {
     "data": {
      "image/png": "[encoded data removed]",
      "text/plain": [
       "<Figure size 432x288 with 1 Axes>"
      ]
     },
     "metadata": {
      "needs_background": "light"
     },
     "output_type": "display_data"
    },
    {
     "data": {
      "image/png": "[encoded data removed]",
      "text/plain": [
       "<Figure size 432x288 with 1 Axes>"
      ]
     },
     "metadata": {
      "needs_background": "light"
     },
     "output_type": "display_data"
    },
    {
     "data": {
      "image/png": "[encoded data removed]",
      "text/plain": [
       "<Figure size 432x288 with 1 Axes>"
      ]
     },
     "metadata": {
      "needs_background": "light"
     },
     "output_type": "display_data"
    },
    {
     "name": "stdout",
     "output_type": "stream",
     "text": [
      "WARNING:tensorflow:5 out of the last 13 calls to <function Model.make_predict_function.<locals>.predict_function at 0x00000204F7593438> triggered tf.function retracing. Tracing is expensive and the excessive number of tracings could be due to (1) creating @tf.function repeatedly in a loop, (2) passing tensors with different shapes, (3) passing Python objects instead of tensors. For (1), please define your @tf.function outside of the loop. For (2), @tf.function has experimental_relax_shapes=True option that relaxes argument shapes that can avoid unnecessary retracing. For (3), please refer to https://www.tensorflow.org/tutorials/customization/performance#python_or_tensor_args and https://www.tensorflow.org/api_docs/python/tf/function for  more details.\n",
      "The Answer 3 is  [3]\n",
      "The Answer 5 is  [5]\n",
      "The Answer 8 is  [3]\n"
     ]
    }
   ],
   "source": [
    "\n",
    "\n",
    "import tensorflow as tf\n",
    "import sys\n",
    "import os\n",
    "from keras.models import load_model\n",
    "\n",
    "import numpy as np\n",
    "import matplotlib.pyplot as plt\n",
    "\n",
    "model = load_model('C:\\\\Users\\\\user\\\\study1\\\\머신러닝\\\\housing_model\\\\29-0.215844.hdf5')\n",
    "\n",
    "test_num1 = plt.imread('C:\\\\Users\\\\user\\\\study1\\\\손글씨자료\\\\3.jpg')\n",
    "test_num2 = plt.imread('C:\\\\Users\\\\user\\\\study1\\\\손글씨자료\\\\5.jpg')\n",
    "test_num3 = plt.imread('C:\\\\Users\\\\user\\\\study1\\\\손글씨자료\\\\8.jpg')\n",
    "\n",
    "\n",
    "import cv2 \n",
    "\n",
    "test_num1 = cv2.cvtColor(test_num1, cv2.COLOR_BGR2GRAY)\n",
    "test_num2 = cv2.cvtColor(test_num2, cv2.COLOR_BGR2GRAY)\n",
    "test_num3 = cv2.cvtColor(test_num3, cv2.COLOR_BGR2GRAY)\n",
    "\n",
    "\n",
    "plt.imshow(test_num1, cmap = 'Greys')\n",
    "plt.show()\n",
    "\n",
    "plt.imshow(test_num2, cmap = 'Greys')\n",
    "plt.show()\n",
    "\n",
    "plt.imshow(test_num3, cmap = 'Greys')\n",
    "plt.show()\n",
    "\n",
    "test_num1 = test_num1.reshape(1,784).astype('float64') / 255\n",
    "test_num2 = test_num2.reshape(1,784).astype('float64') / 255\n",
    "test_num3 = test_num3.reshape(1,784).astype('float64') / 255   #흰색 0, 검은색 255\n",
    "\n",
    "\n",
    "print('The Answer 3 is ', model.predict_classes(test_num1))\n",
    "print('The Answer 5 is ', model.predict_classes(test_num2))\n",
    "print('The Answer 8 is ', model.predict_classes(test_num3))\n",
    "\n",
    "\n"
   ]
  },
  {
   "cell_type": "code",
   "execution_count": 53,
   "metadata": {},
   "outputs": [
    {
     "data": {
      "image/png": "[encoded data removed]",
      "text/plain": [
       "<Figure size 432x288 with 1 Axes>"
      ]
     },
     "metadata": {
      "needs_background": "light"
     },
     "output_type": "display_data"
    },
    {
     "data": {
      "image/png": "[encoded data removed]",
      "text/plain": [
       "<Figure size 432x288 with 1 Axes>"
      ]
     },
     "metadata": {
      "needs_background": "light"
     },
     "output_type": "display_data"
    },
    {
     "data": {
      "image/png": "[encoded data removed]",
      "text/plain": [
       "<Figure size 432x288 with 1 Axes>"
      ]
     },
     "metadata": {
      "needs_background": "light"
     },
     "output_type": "display_data"
    },
    {
     "ename": "ValueError",
     "evalue": "cannot reshape array of size 2352 into shape (1,784)",
     "output_type": "error",
     "traceback": [
      "\u001b[1;31m---------------------------------------------------------------------------\u001b[0m",
      "\u001b[1;31mValueError\u001b[0m                                Traceback (most recent call last)",
      "\u001b[1;32m<ipython-input-53-55d4fad88c98>\u001b[0m in \u001b[0;36m<module>\u001b[1;34m\u001b[0m\n\u001b[0;32m     39\u001b[0m \u001b[1;33m\u001b[0m\u001b[0m\n\u001b[0;32m     40\u001b[0m \u001b[1;33m\u001b[0m\u001b[0m\n\u001b[1;32m---> 41\u001b[1;33m \u001b[0mtest_num1\u001b[0m \u001b[1;33m=\u001b[0m \u001b[0mtest_num1\u001b[0m\u001b[1;33m.\u001b[0m\u001b[0mreshape\u001b[0m\u001b[1;33m(\u001b[0m\u001b[1;36m1\u001b[0m\u001b[1;33m,\u001b[0m\u001b[1;36m784\u001b[0m\u001b[1;33m)\u001b[0m\u001b[1;33m.\u001b[0m\u001b[0mastype\u001b[0m\u001b[1;33m(\u001b[0m\u001b[1;34m'float64'\u001b[0m\u001b[1;33m)\u001b[0m \u001b[1;33m/\u001b[0m \u001b[1;36m255\u001b[0m\u001b[1;33m\u001b[0m\u001b[1;33m\u001b[0m\u001b[0m\n\u001b[0m\u001b[0;32m     42\u001b[0m \u001b[0mtest_num2\u001b[0m \u001b[1;33m=\u001b[0m \u001b[0mtest_num2\u001b[0m\u001b[1;33m.\u001b[0m\u001b[0mreshape\u001b[0m\u001b[1;33m(\u001b[0m\u001b[1;36m1\u001b[0m\u001b[1;33m,\u001b[0m\u001b[1;36m784\u001b[0m\u001b[1;33m)\u001b[0m\u001b[1;33m.\u001b[0m\u001b[0mastype\u001b[0m\u001b[1;33m(\u001b[0m\u001b[1;34m'float64'\u001b[0m\u001b[1;33m)\u001b[0m \u001b[1;33m/\u001b[0m \u001b[1;36m255\u001b[0m\u001b[1;33m\u001b[0m\u001b[1;33m\u001b[0m\u001b[0m\n\u001b[0;32m     43\u001b[0m \u001b[0mtest_num3\u001b[0m \u001b[1;33m=\u001b[0m \u001b[0mtest_num3\u001b[0m\u001b[1;33m.\u001b[0m\u001b[0mreshape\u001b[0m\u001b[1;33m(\u001b[0m\u001b[1;36m1\u001b[0m\u001b[1;33m,\u001b[0m\u001b[1;36m784\u001b[0m\u001b[1;33m)\u001b[0m\u001b[1;33m.\u001b[0m\u001b[0mastype\u001b[0m\u001b[1;33m(\u001b[0m\u001b[1;34m'float64'\u001b[0m\u001b[1;33m)\u001b[0m \u001b[1;33m/\u001b[0m \u001b[1;36m255\u001b[0m   \u001b[1;31m#흰색 0, 검은색 255\u001b[0m\u001b[1;33m\u001b[0m\u001b[1;33m\u001b[0m\u001b[0m\n",
      "\u001b[1;31mValueError\u001b[0m: cannot reshape array of size 2352 into shape (1,784)"
     ]
    }
   ],
   "source": [
    "\n",
    "import tensorflow as tf\n",
    "import sys\n",
    "import os\n",
    "from keras.models import load_model\n",
    "\n",
    "import numpy as np\n",
    "import matplotlib.pyplot as plt\n",
    "\n",
    "model = load_model('C:\\\\Users\\\\user\\\\study1\\\\머신러닝\\\\housing_model\\\\29-0.215844.hdf5')\n",
    "\n",
    "test_num1 = plt.imread('C:\\\\Users\\\\user\\\\study1\\\\손글씨자료\\\\7.jpg')\n",
    "test_num2 = plt.imread('C:\\\\Users\\\\user\\\\study1\\\\손글씨자료\\\\4.jpg')\n",
    "test_num3 = plt.imread('C:\\\\Users\\\\user\\\\study1\\\\손글씨자료\\\\2.jpg')\n",
    "\n",
    "\n",
    "import cv2 \n",
    "test_num1 = cv2.cvtColor(test_num1, cv2.COLOR_BGR2RGB)\n",
    "\n",
    "\n",
    "test_num2 = cv2.cvtColor(test_num2, cv2.COLOR_BGR2RGB)\n",
    "\n",
    "\n",
    "test_num3 = cv2.cvtColor(test_num3, cv2.COLOR_BGR2RGB)\n",
    "\n",
    "\n",
    "\n",
    "plt.imshow(test_num1, cmap = 'Greys')\n",
    "plt.show()\n",
    "\n",
    "plt.imshow(test_num2, cmap = 'Greys')\n",
    "plt.show()\n",
    "\n",
    "plt.imshow(test_num3, cmap = 'Greys')\n",
    "plt.show()\n",
    "\n",
    "\n",
    "\n",
    "test_num1 = test_num1.reshape(1,784).astype('float64') / 255\n",
    "test_num2 = test_num2.reshape(1,784).astype('float64') / 255\n",
    "test_num3 = test_num3.reshape(1,784).astype('float64') / 255   #흰색 0, 검은색 255\n",
    "\n",
    "\n",
    "print('The Answer 7 is ', model.predict_classes(test_num1))\n",
    "print('The Answer 4 is ', model.predict_classes(test_num2))\n",
    "print('The Answer 2 is ', model.predict_classes(test_num3))\n",
    "\n"
   ]
  },
  {
   "cell_type": "markdown",
   "metadata": {},
   "source": [
    "### CNN\n",
    "- 이미지를 대표할 수 있는 특성들을 도출해서 신경망에 넣어주는 것이 선호됨\n",
    "- 서브 샘플링층을 반복적으로 적용해서\n",
    "- 서로 다른 위치에 있는 컨볼루션 커널들의 가중치를 공유한다."
   ]
  },
  {
   "cell_type": "code",
   "execution_count": null,
   "metadata": {},
   "outputs": [],
   "source": []
  },
  {
   "cell_type": "code",
   "execution_count": null,
   "metadata": {},
   "outputs": [],
   "source": []
  }
 ],
 "metadata": {
  "kernelspec": {
   "display_name": "Python 3",
   "language": "python",
   "name": "python3"
  },
  "language_info": {
   "codemirror_mode": {
    "name": "ipython",
    "version": 3
   },
   "file_extension": ".py",
   "mimetype": "text/x-python",
   "name": "python",
   "nbconvert_exporter": "python",
   "pygments_lexer": "ipython3",
   "version": "3.7.7"
  }
 },
 "nbformat": 4,
 "nbformat_minor": 4
}
