{
 "cells": [
  {
   "cell_type": "code",
   "execution_count": 2,
   "metadata": {},
   "outputs": [],
   "source": [
    "import tensorflow as tf"
   ]
  },
  {
   "cell_type": "code",
   "execution_count": 2,
   "metadata": {},
   "outputs": [
    {
     "data": {
      "text/plain": [
       "'1.15.0'"
      ]
     },
     "execution_count": 2,
     "metadata": {},
     "output_type": "execute_result"
    }
   ],
   "source": [
    "tf.__version__"
   ]
  },
  {
   "cell_type": "markdown",
   "metadata": {},
   "source": [
    "## 오차 수정하기 : 경사하강법\n",
    "-  미분의 기울기를 이용해 오차를 비교해 가장 작은 방향으로 이동시킴\n",
    "-  (x에대한)미분값이 0인 지점/기울기가 0이 되는(오차값)을 찾는 것\n",
    "- 오차와 기울기 a로 이루어진 함수는 이차함수\n",
    "- a1에서 기울기를 구하고 반대의 a2의 기울기를 구할때 , 기울기가 0이되는 m의 값을 찾는다.\n",
    "- 학습률 runnning rate"
   ]
  },
  {
   "cell_type": "code",
   "execution_count": 4,
   "metadata": {},
   "outputs": [
    {
     "name": "stdout",
     "output_type": "stream",
     "text": [
      "(1, 3)\n",
      "(3, 1)\n",
      "(1, 1)\n",
      "Tensor(\"MatMul_1:0\", shape=(1, 1), dtype=float32)\n",
      "[[12.]]\n"
     ]
    }
   ],
   "source": [
    "x = tf.constant([[1.0,2.0,3.0]])  # 1*3 행렬만들기\n",
    "w = tf.constant([[2.0],[2.0],[2.0]]) # 3*1 행렬만들기\n",
    "y = tf.matmul(x,w)  # 행렬 곱\n",
    "\n",
    "print(x.get_shape()) \n",
    "print(w.get_shape())\n",
    "print(y.get_shape())\n",
    "print(y)  # 연산의 결과가 아닌, 연산을 할 수 있는 tensor\n",
    "\n",
    "sess = tf.Session()    # 실행시킬 수 있는 기계, session에 tensor를 집어넣고 실행시킴. 2.0버전에서는 없어짐\n",
    "init = tf.global_variables_initializer()\n",
    "sess.run(init)\n",
    "result = sess.run(y)\n",
    "print(result)"
   ]
  },
  {
   "cell_type": "code",
   "execution_count": 12,
   "metadata": {},
   "outputs": [
    {
     "name": "stdout",
     "output_type": "stream",
     "text": [
      "10.5\n",
      "<class 'tensorflow.python.framework.ops.Tensor'>\n"
     ]
    }
   ],
   "source": [
    "\n",
    " a = tf.constant(7.0,name = 'data1')  \n",
    " b = tf.constant(3.0,name = 'data2')  # tensor는 변수처럼 사용하는 개체\n",
    " c = tf.constant(2.0,name = 'data3')\n",
    "    \n",
    "v = a * b / c\n",
    "\n",
    "# with as 구문을 사용해, 자동으로 close\n",
    "with tf.Session() as sess: \n",
    "    # tensor 초기화  # 변수의 초기화\n",
    "    sess.run(tf.global_variables_initializer()) \n",
    "    # v tensor 가동\n",
    "    print(sess.run(v)) \n",
    "    \n",
    "print(type(v))"
   ]
  },
  {
   "cell_type": "markdown",
   "metadata": {},
   "source": [
    "tensorflow module을 import함\n",
    "\n",
    "이때 Defalut Graph가 생김"
   ]
  },
  {
   "cell_type": "code",
   "execution_count": 5,
   "metadata": {},
   "outputs": [],
   "source": [
    "a = tf.constant(7.0,name = 'data1')  \n",
    "# a (엣지) = operation\n",
    "b = tf.constant(3.0,name = 'data2')  # tensor는 변수처럼 사용하는 개체\n",
    "c = tf.constant(2.0,name = 'data3')"
   ]
  },
  {
   "cell_type": "code",
   "execution_count": 6,
   "metadata": {},
   "outputs": [
    {
     "data": {
      "text/plain": [
       "[<tf.Operation 'data1' type=Const>,\n",
       " <tf.Operation 'data2' type=Const>,\n",
       " <tf.Operation 'data3' type=Const>]"
      ]
     },
     "execution_count": 6,
     "metadata": {},
     "output_type": "execute_result"
    }
   ],
   "source": [
    "# 그래프 확인\n",
    "# kernel -> restart 로 위에 Session 닫기\n",
    "# const = 상수\n",
    "\n",
    "tf.get_default_graph().get_operations()  "
   ]
  },
  {
   "cell_type": "code",
   "execution_count": 7,
   "metadata": {
    "scrolled": true
   },
   "outputs": [
    {
     "name": "stdout",
     "output_type": "stream",
     "text": [
      "Tensor(\"data1:0\", shape=(), dtype=float32)\n",
      "name: \"data1\"\n",
      "op: \"Const\"\n",
      "attr {\n",
      "  key: \"dtype\"\n",
      "  value {\n",
      "    type: DT_FLOAT\n",
      "  }\n",
      "}\n",
      "attr {\n",
      "  key: \"value\"\n",
      "  value {\n",
      "    tensor {\n",
      "      dtype: DT_FLOAT\n",
      "      tensor_shape {\n",
      "      }\n",
      "      float_val: 7.0\n",
      "    }\n",
      "  }\n",
      "}\n",
      "\n"
     ]
    }
   ],
   "source": [
    "# a의 값을 확인\n",
    "# operation이 실행되기 전까지 텐서 a의 값이 결정되지 않은 상태\n",
    "print(a)\n",
    "# a에 연결된 operation을 확인\n",
    "print(a.op)"
   ]
  },
  {
   "cell_type": "code",
   "execution_count": 8,
   "metadata": {},
   "outputs": [
    {
     "name": "stdout",
     "output_type": "stream",
     "text": [
      "[<tf.Tensor 'data1:0' shape=() dtype=float32>]\n"
     ]
    }
   ],
   "source": [
    "print(a.op.outputs) #operation a의 출력에 접근하여 확인"
   ]
  },
  {
   "cell_type": "code",
   "execution_count": 12,
   "metadata": {},
   "outputs": [
    {
     "name": "stdout",
     "output_type": "stream",
     "text": [
      "True\n"
     ]
    }
   ],
   "source": [
    "print(a is a.op.outputs[0])  \n",
    "# a는 a.op.ouputs을 의미한다.\n",
    "# a는 클래스의 객체의 성격을 띈다.\n",
    "# float_val"
   ]
  },
  {
   "cell_type": "code",
   "execution_count": 13,
   "metadata": {},
   "outputs": [],
   "source": [
    "v = a * b / c"
   ]
  },
  {
   "cell_type": "code",
   "execution_count": 14,
   "metadata": {},
   "outputs": [
    {
     "data": {
      "text/plain": [
       "[<tf.Operation 'data1' type=Const>,\n",
       " <tf.Operation 'data2' type=Const>,\n",
       " <tf.Operation 'data3' type=Const>,\n",
       " <tf.Operation 'mul' type=Mul>,\n",
       " <tf.Operation 'truediv' type=RealDiv>]"
      ]
     },
     "execution_count": 14,
     "metadata": {},
     "output_type": "execute_result"
    }
   ],
   "source": [
    "tf.get_default_graph().get_operations()\n",
    "#  마지막에 텐서플로우의 연산 노드가 자동으로 추가됨\n",
    "# node에 이름을 붙이지 않았으므로 default 이름인 mul, truediv를 가짐"
   ]
  },
  {
   "cell_type": "code",
   "execution_count": 17,
   "metadata": {},
   "outputs": [
    {
     "name": "stdout",
     "output_type": "stream",
     "text": [
      "v.op.inputs= <tensorflow.python.framework.ops.Operation._InputList object at 0x000001DC3FBB05C8>\n"
     ]
    }
   ],
   "source": [
    "print('v.op.inputs=',v.op.inputs)\n",
    "# 리스트 객체의 id가 출력"
   ]
  },
  {
   "cell_type": "code",
   "execution_count": 18,
   "metadata": {},
   "outputs": [
    {
     "name": "stdout",
     "output_type": "stream",
     "text": [
      "v.op.outputs= [<tf.Tensor 'truediv:0' shape=() dtype=float32>]\n"
     ]
    }
   ],
   "source": [
    "print('v.op.outputs=',v.op.outputs)\n",
    "# 텐서 v의 operation의 출력을 확인"
   ]
  },
  {
   "cell_type": "markdown",
   "metadata": {},
   "source": [
    "텐서는 node와 edge를 가짐\n",
    "\n",
    "tensorflow a = 이라고 만들면\n",
    "\n",
    "뒤에는 edge\n",
    "\n",
    "a라는 텐서는 안에 여러가지 정보를 마치 클래스의 정보처럼 가지고 있음."
   ]
  },
  {
   "cell_type": "code",
   "execution_count": 20,
   "metadata": {},
   "outputs": [
    {
     "name": "stdout",
     "output_type": "stream",
     "text": [
      "name: \"truediv\"\n",
      "op: \"RealDiv\"\n",
      "input: \"mul\"\n",
      "input: \"data3\"\n",
      "attr {\n",
      "  key: \"T\"\n",
      "  value {\n",
      "    type: DT_FLOAT\n",
      "  }\n",
      "}\n",
      "\n"
     ]
    }
   ],
   "source": [
    "# v가 결과\n",
    "# 그래프의 정보를 가지고있는 v도 객체 . tensor가 된다.\n",
    "print(v.op)"
   ]
  },
  {
   "cell_type": "markdown",
   "metadata": {},
   "source": [
    "텐서는 다차원 배열을 의미하는데, Rank, Shape, Type의 3가지 구성요소를 가지고 있다.\n",
    "-  rank 0 텐서는 shpae[] 스칼라 ex,3\n",
    "-  rank 1 텐서는 벡터 ex) [1,2,3]\n",
    "-  rank 2 텐서는 행렬 ex [[1,2,3],[4,5,6]]\n",
    "-  그 이외는 n차원 텐서\n",
    "-  rank는 텐서의 차원을 의미한다.\n",
    "-  shape란 텐서가 몇개의 행과 열을 가지는 지를 의미\n",
    "-  텐서의 type이란 텐서가 담을 수 있는 데이터의 타입을 의미한다."
   ]
  },
  {
   "cell_type": "markdown",
   "metadata": {},
   "source": [
    "텐서플로우 자료형\n",
    "\n",
    "-  tf.constant 변하지 않는 수를 지정하는 자료형\n",
    "-  tf.Placeholder 먼저 만들고 값을 나중에 지정해주는 자료형\n",
    "-  x  = tf.Placeholder(tf.float32), 변수처럼 만들어놓고 필요할 때 객체에 필요한 데이터를 넣는다.\n",
    "-  tf.Variable 조건에 따라 값을 바꿔야 하는 경우 사용하는 자료형, 결과값을 설정할 때\n",
    "-  Placeholder와 Variable의 차이, 만들어 놓고 나중에 값이 할당된다는 기능이 같기 때문에 호환가능,,?\n"
   ]
  },
  {
   "cell_type": "markdown",
   "metadata": {},
   "source": [
    "텐서플로우의 상수 연산"
   ]
  },
  {
   "cell_type": "code",
   "execution_count": 27,
   "metadata": {},
   "outputs": [],
   "source": [
    "a = tf.constant(5)\n",
    "b = tf.constant(2)\n",
    "c = tf.constant(3)\n",
    "d = tf.multiply(a,b)   # a * b\n",
    "e = tf.add(c,d)        # c + d\n",
    "f = tf.subtract(d,e)   # d - e"
   ]
  },
  {
   "cell_type": "code",
   "execution_count": 28,
   "metadata": {},
   "outputs": [
    {
     "name": "stdout",
     "output_type": "stream",
     "text": [
      "Tensor(\"Const_7:0\", shape=(), dtype=int32)\n",
      "Tensor(\"Const_8:0\", shape=(), dtype=int32)\n",
      "Tensor(\"Const_9:0\", shape=(), dtype=int32)\n",
      "Tensor(\"Mul_2:0\", shape=(), dtype=int32)\n",
      "Tensor(\"Add_1:0\", shape=(), dtype=int32)\n",
      "Tensor(\"Sub:0\", shape=(), dtype=int32)\n"
     ]
    }
   ],
   "source": [
    "print(a)\n",
    "print(b)\n",
    "print(c)\n",
    "print(d)\n",
    "print(e)\n",
    "print(f)"
   ]
  },
  {
   "cell_type": "markdown",
   "metadata": {},
   "source": [
    "-  위의 상수들은 모두 텐서\n",
    "-  텐서를 만들었을 뿐, 실행을 하지않음\n",
    "-  그래프를 정의했을 뿌닝지, 실제로 연산이 일어난 것을 아님\n",
    "-  연산을 수행하기 위해서는 데이터를 넣어서 흐름이 이루어지게 하여야 함. (이러한 동작을 Session이 수행)"
   ]
  },
  {
   "cell_type": "code",
   "execution_count": 29,
   "metadata": {},
   "outputs": [
    {
     "name": "stdout",
     "output_type": "stream",
     "text": [
      "out =  -3\n"
     ]
    }
   ],
   "source": [
    "sess = tf.Session()\n",
    "outs = sess.run(f)\n",
    "sess.close()\n",
    "print('out = ',outs)"
   ]
  },
  {
   "cell_type": "markdown",
   "metadata": {},
   "source": [
    "### 그래프의 생성과 실행"
   ]
  },
  {
   "cell_type": "code",
   "execution_count": 31,
   "metadata": {},
   "outputs": [
    {
     "name": "stdout",
     "output_type": "stream",
     "text": [
      "b'Hello, Tensorflow!'\n"
     ]
    }
   ],
   "source": [
    "import tensorflow as tf\n",
    "\n",
    "# 문자열이 들어있는 node생성\n",
    "hello = tf.constant('Hello, Tensorflow!')\n",
    "\n",
    "# TF 세션 시작\n",
    "sess = tf.Session()\n",
    "\n",
    "# 특정 노드 세션 run\n",
    "print(sess.run(hello))"
   ]
  },
  {
   "cell_type": "markdown",
   "metadata": {},
   "source": [
    "변수의 초기화\n",
    "-  variable.이나 placeholder를 사용할때는 초기화?"
   ]
  },
  {
   "cell_type": "markdown",
   "metadata": {},
   "source": [
    "-  placeholder로 만들어준것은 feed.dict를 사용해서 값을 넣어준다."
   ]
  },
  {
   "cell_type": "code",
   "execution_count": 36,
   "metadata": {},
   "outputs": [
    {
     "name": "stdout",
     "output_type": "stream",
     "text": [
      "53.0\n"
     ]
    }
   ],
   "source": [
    "p_holder1 = tf.placeholder(dtype=tf.float32) # 변수 만들기 # placeholder는 초기에 값을 넣지 못함\n",
    "p_holder2 = tf.placeholder(dtype=tf.float32)\n",
    "p_holder3 = tf.placeholder(dtype=tf.float32)\n",
    "\n",
    "val1 = 5\n",
    "val2 = 10\n",
    "val3 = 3\n",
    "\n",
    "ret_val = p_holder1 * p_holder2 + p_holder3\n",
    "\n",
    "feed_dict_data = {p_holder1:val1, p_holder2:val2,p_holder3:val3}\n",
    "\n",
    "# placeholder로 만들어준것은 feed.dict를 사용해서 값을 넣어준다.\n",
    "result = sess.run(ret_val, feed_dict=feed_dict_data)\n",
    "\n",
    "print(result)"
   ]
  },
  {
   "cell_type": "markdown",
   "metadata": {},
   "source": [
    "### placeholder & feed_dict"
   ]
  },
  {
   "cell_type": "code",
   "execution_count": 39,
   "metadata": {},
   "outputs": [
    {
     "name": "stdout",
     "output_type": "stream",
     "text": [
      "[[30. 30.]\n",
      " [70. 70.]]\n"
     ]
    },
    {
     "data": {
      "text/plain": [
       "<bound method BaseSession.close of <tensorflow.python.client.session.Session object at 0x000001DC3A47F8C8>>"
      ]
     },
     "execution_count": 39,
     "metadata": {},
     "output_type": "execute_result"
    }
   ],
   "source": [
    "I = tf.placeholder(tf.float32,[2,4])\n",
    "i = [[1,2,3,4],[5,6,7,8]]  #데이터가 초기화 되어있는 배열 만들기\n",
    "\n",
    "W = tf.placeholder(tf.float32,[4,2])\n",
    "w = [[1,1],[2,2],[3,3],[4,4]]\n",
    "\n",
    "#input 데이터와 Weight를 행렬곱 수행\n",
    "node = tf.matmul(I,W)  \n",
    "\n",
    "sess = tf.Session()  #세션만들기\n",
    "\n",
    "print(sess.run(node,feed_dict={I:i,W:w}))  \n",
    "\n",
    "sess.close"
   ]
  },
  {
   "cell_type": "markdown",
   "metadata": {},
   "source": [
    "### placeholder & Variable"
   ]
  },
  {
   "cell_type": "code",
   "execution_count": 43,
   "metadata": {},
   "outputs": [
    {
     "name": "stdout",
     "output_type": "stream",
     "text": [
      "[[30 30]\n",
      " [70 70]]\n"
     ]
    }
   ],
   "source": [
    "\n",
    "I = tf.Variable([[1,2,3,4],[5,6,7,8]],tf.float32)\n",
    "\n",
    "W = tf.Variable([[1,1],[2,2],[3,3],[4,4]],tf.float32)\n",
    "\n",
    "# input 데이터와 weight 행렬곱 수행\n",
    "node = tf.matmul(I,W)\n",
    "\n",
    "sess = tf.Session()\n",
    "sess.run(tf.global_variables_initializer())\n",
    "\n",
    "print(sess.run(node))\n",
    "\n",
    "sess.close()\n",
    "\n"
   ]
  },
  {
   "cell_type": "markdown",
   "metadata": {},
   "source": [
    "### 변수를 재할당하는 방법"
   ]
  },
  {
   "cell_type": "markdown",
   "metadata": {},
   "source": [
    "변수 초기화\n",
    "-  변수초기화는 모델의 다른 연산을 실행하기 전에 반드시 명시적으로 실행해야 한다.\n",
    "-  모든 변수를 초기화 하는 연산을 모델 사용 전에 실핸한다.\n",
    "-  변수 초기화를 위한 작업(op)를 추가하기 위해 tf.global_variables_intializer()\n",
    "-  모델을 모두 만들고 세션에 올린 후 이 작업을 실핸한다.\n",
    "-  Variable은 반드시 초기화\n",
    "-  tensor에서 만드는 변수는 행렬의 형태를 띄기 때문에 메모리에 할당되었다가 지워진 변수를 초기화해주고 실행해야함.\n"
   ]
  },
  {
   "cell_type": "code",
   "execution_count": 51,
   "metadata": {},
   "outputs": [
    {
     "name": "stdout",
     "output_type": "stream",
     "text": [
      "<tf.Variable 'Variable_15:0' shape=() dtype=int32_ref>\n",
      "7\n"
     ]
    }
   ],
   "source": [
    "x = tf. Variable(5, dtype = tf.int32)\n",
    "print(x)\n",
    "\n",
    "x = tf.assign(x,7)\n",
    "z = tf.initialize_all_variables()     # 모든 변수 초기화\n",
    "sess = tf.Session()   # 세션에서 그래프 시작\n",
    "sess.run(z)    #  텐서 z를 계산\n",
    "y = sess.run(x)\n",
    "print(y)\n",
    "\n",
    "sess.close()"
   ]
  },
  {
   "cell_type": "markdown",
   "metadata": {},
   "source": [
    "### 코딩으로 확인하는 경사 확인법"
   ]
  },
  {
   "cell_type": "code",
   "execution_count": 52,
   "metadata": {},
   "outputs": [],
   "source": [
    "data = [[2,81],[4,93],[6,91],[8,97]]\n",
    "\n",
    "# x,y의 데이터 값\n",
    "x_data = [x_row[0] for x_row in data]\n",
    "y_data = [y_row[1] for y_row in data]\n",
    "\n",
    "# 기울기 a와 y절편 b의 값을 임의로 정한다.\n",
    "#단, 기울기의 범위는 0~10 사이이며, y절편은 0~100 사이에서 변하게 한다.\n",
    "# [1] 0에서 10사이에서 임의의 수 1개\n",
    "\n",
    "a = tf.Variable(tf.random_uniform([1],0,10, dtype = tf.float64,seed = 0)) # seed 동일한 패턴의 난수\n",
    "b = tf.Variable(tf.random_uniform([1],0,100, dtype = tf.float64,seed = 0))\n",
    "\n",
    "# y에 대한 일차 방정식 ax+b의 식을 세운다.\n",
    "# a,b가 tensor 이니까 y또한 tensor로 만들어짐  => session 을 만들어서 계산을 해야한다.\n",
    "\n",
    "y = a* x_data + b"
   ]
  },
  {
   "cell_type": "markdown",
   "metadata": {},
   "source": [
    "-  tf.reduce_mean 사용된 data들 각각에서 계산된 합의 평균을 구하는 함수\n",
    "-  tf.square 제곱함수\n",
    "-  tf.sqrt 제곱근합수\n",
    "-  tf.train.GradientDescentOptimizer  rmse를 최소화할 수 있는 경사하강법 "
   ]
  },
  {
   "cell_type": "markdown",
   "metadata": {},
   "source": [
    "learning rate란?\n",
    "- 기울기의 부호를 바꿔 이동시킬 때 적절한 거리를 찾지 못해 너무 멀리 이동시키면 a 값이 한 점으로 모이지 않고 위로 치솟아 버림\n",
    "- 어느만큼 이동시킬지를 정해주는 것.\n",
    "- 학습률을 너무 크게 잡으면 한 점으로 수렴하지않고 발산한다.\n",
    "- 데이터에 따라 가변될 수 있기 때문에 사용자가 직접 지정해서 값을 넣어준다.\n",
    "- 이동하는 거리를 결정\n",
    "- 한 번의 학습으로 매개변수 값을 얼마나 갱신하는가를 정하는 것\n",
    "- 초 매개변수????????????????????\n",
    "- 0.1 또는 0.01전후로 정해 학습을 시도한다.\n",
    "- 학습률이너무 작거나 크면 학습이 제대로 이루어지지 않는다.\n",
    "- 너무 작으면 연산을 너무 많이하고(수렴이 늦어지고, 지역최소점에 걸린다), \n",
    "- 크면 위로 발산한다. ( 손실함수 값이 줄어들지 않고 오히려 더 커지는 오버슈팅) "
   ]
  },
  {
   "cell_type": "code",
   "execution_count": 59,
   "metadata": {},
   "outputs": [
    {
     "name": "stdout",
     "output_type": "stream",
     "text": [
      "Epoch: 0, RMSE = 30.2139, 기울기 a = 7.5235, y절편 b = 80.5984\n",
      "Epoch: 100, RMSE = 2.8860, 기울기 a = 2.2299, y절편 b = 79.4181\n",
      "Epoch: 200, RMSE = 2.8826, 기울기 a = 2.2601, y절편 b = 79.2379\n",
      "Epoch: 300, RMSE = 2.8815, 기울기 a = 2.2773, y절편 b = 79.1353\n",
      "Epoch: 400, RMSE = 2.8811, 기울기 a = 2.2871, y절편 b = 79.0770\n",
      "Epoch: 500, RMSE = 2.8810, 기울기 a = 2.2927, y절편 b = 79.0438\n",
      "Epoch: 600, RMSE = 2.8810, 기울기 a = 2.2958, y절편 b = 79.0249\n",
      "Epoch: 700, RMSE = 2.8810, 기울기 a = 2.2976, y절편 b = 79.0142\n",
      "Epoch: 800, RMSE = 2.8810, 기울기 a = 2.2987, y절편 b = 79.0081\n",
      "Epoch: 900, RMSE = 2.8810, 기울기 a = 2.2992, y절편 b = 79.0046\n",
      "Epoch: 1000, RMSE = 2.8810, 기울기 a = 2.2996, y절편 b = 79.0026\n",
      "Epoch: 1100, RMSE = 2.8810, 기울기 a = 2.2998, y절편 b = 79.0015\n",
      "Epoch: 1200, RMSE = 2.8810, 기울기 a = 2.2999, y절편 b = 79.0008\n",
      "Epoch: 1300, RMSE = 2.8810, 기울기 a = 2.2999, y절편 b = 79.0005\n",
      "Epoch: 1400, RMSE = 2.8810, 기울기 a = 2.3000, y절편 b = 79.0003\n",
      "Epoch: 1500, RMSE = 2.8810, 기울기 a = 2.3000, y절편 b = 79.0002\n",
      "Epoch: 1600, RMSE = 2.8810, 기울기 a = 2.3000, y절편 b = 79.0001\n",
      "Epoch: 1700, RMSE = 2.8810, 기울기 a = 2.3000, y절편 b = 79.0001\n",
      "Epoch: 1800, RMSE = 2.8810, 기울기 a = 2.3000, y절편 b = 79.0000\n",
      "Epoch: 1900, RMSE = 2.8810, 기울기 a = 2.3000, y절편 b = 79.0000\n",
      "Epoch: 2000, RMSE = 2.8810, 기울기 a = 2.3000, y절편 b = 79.0000\n"
     ]
    }
   ],
   "source": [
    "#텐서플로 RMSE 함수\n",
    "# 평균제곱근오차\n",
    "# rmse도 tensor로 계산됨\n",
    "rmse = tf.sqrt(tf.reduce_mean(tf.square( y- y_data)))\n",
    "\n",
    "# 학습률 값\n",
    "learning_rate = 0.1\n",
    "\n",
    "# RMSE 값을 최소로 하는 값 찾기\n",
    "gradient_decent = tf.train.GradientDescentOptimizer(learning_rate).minimize(rmse)\n",
    "\n",
    "# optimizer = tf.train.GradientDescentOptimizer(learning_rate = 0.1)\n",
    "# train = optimizer.minimize(rmse)\n",
    "\n",
    "\n",
    "#텐서플로를 이용한 학습\n",
    "#세션 실행\n",
    "with tf.Session() as sess:  \n",
    "    \n",
    "    #변수 초기화\n",
    "    sess.run(tf.global_variables_initializer())\n",
    "    \n",
    "    # 2001번 실행 (0번째를 포함하므로)\n",
    "    for step in range(2001):\n",
    "        # rmse를 최소화하는 값을 내리는 결과를 2001번 반복\n",
    "        # 그래프 run\n",
    "        # sess.run('그래프명')\n",
    "        sess.run(gradient_decent)\n",
    "        \n",
    "        #100번마다 결과 출력\n",
    "        if step %100 == 0:\n",
    "            # Epoch 몇 번 반복했는지? (= step)\n",
    "            # RMSE 평균제곱근 오차값\n",
    "            print('Epoch: %.f, RMSE = %.04f, 기울기 a = %.4f, y절편 b = %.4f'%\n",
    "                 (step,sess.run(rmse),sess.run(a),sess.run(b)))"
   ]
  },
  {
   "cell_type": "markdown",
   "metadata": {},
   "source": [
    "=> a가 2.3에 수렴하고 b가 79에 수렴함\n",
    "-  y = 2.3x + 79\n"
   ]
  },
  {
   "cell_type": "markdown",
   "metadata": {},
   "source": [
    "- 변수 할당 -> 그래프 생성 (아직 실행 X)\n",
    "- 세션에서 Run을 해주어야하기 때문에 (run할 때 사용되기 떄문에 run하기 전에 변수 초기화)"
   ]
  },
  {
   "cell_type": "code",
   "execution_count": null,
   "metadata": {},
   "outputs": [],
   "source": []
  },
  {
   "cell_type": "code",
   "execution_count": null,
   "metadata": {},
   "outputs": [],
   "source": []
  },
  {
   "cell_type": "code",
   "execution_count": null,
   "metadata": {},
   "outputs": [],
   "source": []
  },
  {
   "cell_type": "code",
   "execution_count": null,
   "metadata": {},
   "outputs": [],
   "source": []
  },
  {
   "cell_type": "code",
   "execution_count": null,
   "metadata": {},
   "outputs": [],
   "source": []
  },
  {
   "cell_type": "code",
   "execution_count": null,
   "metadata": {},
   "outputs": [],
   "source": []
  },
  {
   "cell_type": "code",
   "execution_count": null,
   "metadata": {},
   "outputs": [],
   "source": []
  },
  {
   "cell_type": "code",
   "execution_count": null,
   "metadata": {},
   "outputs": [],
   "source": []
  },
  {
   "cell_type": "code",
   "execution_count": null,
   "metadata": {},
   "outputs": [],
   "source": []
  },
  {
   "cell_type": "code",
   "execution_count": null,
   "metadata": {},
   "outputs": [],
   "source": []
  },
  {
   "cell_type": "code",
   "execution_count": null,
   "metadata": {},
   "outputs": [],
   "source": []
  },
  {
   "cell_type": "code",
   "execution_count": null,
   "metadata": {},
   "outputs": [],
   "source": []
  },
  {
   "cell_type": "code",
   "execution_count": null,
   "metadata": {},
   "outputs": [],
   "source": []
  }
 ],
 "metadata": {
  "kernelspec": {
   "display_name": "Python 3",
   "language": "python",
   "name": "python3"
  },
  "language_info": {
   "codemirror_mode": {
    "name": "ipython",
    "version": 3
   },
   "file_extension": ".py",
   "mimetype": "text/x-python",
   "name": "python",
   "nbconvert_exporter": "python",
   "pygments_lexer": "ipython3",
   "version": "3.7.7"
  }
 },
 "nbformat": 4,
 "nbformat_minor": 4
}
