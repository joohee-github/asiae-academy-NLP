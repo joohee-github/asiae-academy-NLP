{
 "cells": [
  {
   "cell_type": "code",
   "execution_count": 2,
   "metadata": {},
   "outputs": [],
   "source": [
    "# 딥러닝을 구동하는 데 필요한 케라스 함수를 불러옵니다.\n",
    "from tensorflow.keras.models import Sequential\n",
    "from tensorflow.keras.layers import Dense"
   ]
  },
  {
   "cell_type": "code",
   "execution_count": 3,
   "metadata": {},
   "outputs": [],
   "source": [
    "# 필요한 라이브러리를 불러옵니다.\n",
    "import numpy as np\n",
    "import tensorflow as tf"
   ]
  },
  {
   "cell_type": "code",
   "execution_count": 4,
   "metadata": {},
   "outputs": [],
   "source": [
    "# 실핼할 때마다 같은 결과를 출력하기 위해 설정하는 부분\n",
    "np.random.seed(3)\n",
    "tf.random.set_seed(3)"
   ]
  },
  {
   "cell_type": "code",
   "execution_count": 8,
   "metadata": {},
   "outputs": [
    {
     "data": {
      "text/plain": [
       "array([[293.  ,   1.  ,   3.8 , ...,   0.  ,  62.  ,   0.  ],\n",
       "       [  1.  ,   2.  ,   2.88, ...,   0.  ,  60.  ,   0.  ],\n",
       "       [  8.  ,   2.  ,   3.19, ...,   0.  ,  66.  ,   1.  ],\n",
       "       ...,\n",
       "       [406.  ,   6.  ,   5.36, ...,   0.  ,  62.  ,   0.  ],\n",
       "       [ 25.  ,   8.  ,   4.32, ...,   0.  ,  58.  ,   1.  ],\n",
       "       [447.  ,   8.  ,   5.2 , ...,   0.  ,  49.  ,   0.  ]])"
      ]
     },
     "execution_count": 8,
     "metadata": {},
     "output_type": "execute_result"
    }
   ],
   "source": [
    "#준비된 수술 환자 데이터 불러오기\n",
    "Data_set = np.loadtxt('C:/Users/user/study1/머신러닝/data/ThoraricSurgery.csv',delimiter=',')\n",
    "Data_set"
   ]
  },
  {
   "cell_type": "code",
   "execution_count": 6,
   "metadata": {},
   "outputs": [],
   "source": [
    "#환자의 기록과 수술 결과를 X와 Y로 구분하여 저장합니다.\n",
    "#환자의 기록은 x에 슬라이싱\n",
    "#환\n",
    "X = Data_set[:,0:17]\n",
    "Y = Data_set[:,17]"
   ]
  },
  {
   "cell_type": "code",
   "execution_count": 10,
   "metadata": {},
   "outputs": [],
   "source": [
    "# 딥러닝 구조를 결정합니다.(모델을 설정하고 실행하는 부분입니다.)\n",
    "model = Sequential()\n",
    "model.add(Dense(30, input_dim=17, activation='relu'))\n",
    "model.add(Dense(1, activation='sigmoid'))"
   ]
  },
  {
   "cell_type": "code",
   "execution_count": 13,
   "metadata": {},
   "outputs": [
    {
     "name": "stdout",
     "output_type": "stream",
     "text": [
      "Train on 470 samples\n",
      "Epoch 1/100\n",
      "470/470 [==============================] - 0s 938us/sample - loss: 0.1496 - accuracy: 0.8383\n",
      "Epoch 2/100\n",
      "470/470 [==============================] - 0s 80us/sample - loss: 0.1445 - accuracy: 0.8447\n",
      "Epoch 3/100\n",
      "470/470 [==============================] - 0s 85us/sample - loss: 0.1450 - accuracy: 0.8511\n",
      "Epoch 4/100\n",
      "470/470 [==============================] - 0s 80us/sample - loss: 0.1442 - accuracy: 0.8511\n",
      "Epoch 5/100\n",
      "470/470 [==============================] - 0s 84us/sample - loss: 0.1449 - accuracy: 0.8511\n",
      "Epoch 6/100\n",
      "470/470 [==============================] - 0s 81us/sample - loss: 0.1440 - accuracy: 0.8511\n",
      "Epoch 7/100\n",
      "470/470 [==============================] - 0s 82us/sample - loss: 0.1459 - accuracy: 0.8468\n",
      "Epoch 8/100\n",
      "470/470 [==============================] - 0s 83us/sample - loss: 0.1470 - accuracy: 0.8511\n",
      "Epoch 9/100\n",
      "470/470 [==============================] - 0s 84us/sample - loss: 0.1438 - accuracy: 0.8511\n",
      "Epoch 10/100\n",
      "470/470 [==============================] - 0s 79us/sample - loss: 0.1351 - accuracy: 0.8468\n",
      "Epoch 11/100\n",
      "470/470 [==============================] - 0s 81us/sample - loss: 0.1357 - accuracy: 0.8447\n",
      "Epoch 12/100\n",
      "470/470 [==============================] - 0s 81us/sample - loss: 0.1346 - accuracy: 0.8511\n",
      "Epoch 13/100\n",
      "470/470 [==============================] - 0s 82us/sample - loss: 0.1438 - accuracy: 0.8362\n",
      "Epoch 14/100\n",
      "470/470 [==============================] - 0s 79us/sample - loss: 0.1426 - accuracy: 0.8511\n",
      "Epoch 15/100\n",
      "470/470 [==============================] - 0s 82us/sample - loss: 0.1405 - accuracy: 0.8511\n",
      "Epoch 16/100\n",
      "470/470 [==============================] - 0s 80us/sample - loss: 0.1430 - accuracy: 0.8489\n",
      "Epoch 17/100\n",
      "470/470 [==============================] - 0s 81us/sample - loss: 0.1435 - accuracy: 0.8489\n",
      "Epoch 18/100\n",
      "470/470 [==============================] - 0s 81us/sample - loss: 0.1382 - accuracy: 0.8468\n",
      "Epoch 19/100\n",
      "470/470 [==============================] - 0s 81us/sample - loss: 0.1305 - accuracy: 0.8489\n",
      "Epoch 20/100\n",
      "470/470 [==============================] - 0s 79us/sample - loss: 0.1276 - accuracy: 0.8532\n",
      "Epoch 21/100\n",
      "470/470 [==============================] - 0s 77us/sample - loss: 0.1321 - accuracy: 0.8511\n",
      "Epoch 22/100\n",
      "470/470 [==============================] - 0s 76us/sample - loss: 0.1349 - accuracy: 0.8511\n",
      "Epoch 23/100\n",
      "470/470 [==============================] - 0s 81us/sample - loss: 0.1405 - accuracy: 0.8426\n",
      "Epoch 24/100\n",
      "470/470 [==============================] - 0s 82us/sample - loss: 0.1426 - accuracy: 0.8511\n",
      "Epoch 25/100\n",
      "470/470 [==============================] - 0s 83us/sample - loss: 0.1424 - accuracy: 0.8511\n",
      "Epoch 26/100\n",
      "470/470 [==============================] - 0s 87us/sample - loss: 0.1414 - accuracy: 0.8511\n",
      "Epoch 27/100\n",
      "470/470 [==============================] - 0s 87us/sample - loss: 0.1408 - accuracy: 0.8511\n",
      "Epoch 28/100\n",
      "470/470 [==============================] - 0s 85us/sample - loss: 0.1401 - accuracy: 0.8532\n",
      "Epoch 29/100\n",
      "470/470 [==============================] - 0s 82us/sample - loss: 0.1420 - accuracy: 0.8489\n",
      "Epoch 30/100\n",
      "470/470 [==============================] - 0s 88us/sample - loss: 0.1387 - accuracy: 0.8489\n",
      "Epoch 31/100\n",
      "470/470 [==============================] - 0s 81us/sample - loss: 0.1386 - accuracy: 0.8532\n",
      "Epoch 32/100\n",
      "470/470 [==============================] - 0s 83us/sample - loss: 0.1289 - accuracy: 0.8553\n",
      "Epoch 33/100\n",
      "470/470 [==============================] - 0s 82us/sample - loss: 0.1355 - accuracy: 0.8511\n",
      "Epoch 34/100\n",
      "470/470 [==============================] - 0s 80us/sample - loss: 0.1355 - accuracy: 0.8553\n",
      "Epoch 35/100\n",
      "470/470 [==============================] - 0s 81us/sample - loss: 0.1336 - accuracy: 0.8532\n",
      "Epoch 36/100\n",
      "470/470 [==============================] - 0s 83us/sample - loss: 0.1351 - accuracy: 0.8532\n",
      "Epoch 37/100\n",
      "470/470 [==============================] - 0s 85us/sample - loss: 0.1423 - accuracy: 0.8489\n",
      "Epoch 38/100\n",
      "470/470 [==============================] - 0s 84us/sample - loss: 0.1397 - accuracy: 0.8511\n",
      "Epoch 39/100\n",
      "470/470 [==============================] - 0s 82us/sample - loss: 0.1388 - accuracy: 0.8511\n",
      "Epoch 40/100\n",
      "470/470 [==============================] - 0s 80us/sample - loss: 0.1335 - accuracy: 0.8511\n",
      "Epoch 41/100\n",
      "470/470 [==============================] - 0s 82us/sample - loss: 0.1409 - accuracy: 0.8532\n",
      "Epoch 42/100\n",
      "470/470 [==============================] - 0s 83us/sample - loss: 0.1396 - accuracy: 0.8511\n",
      "Epoch 43/100\n",
      "470/470 [==============================] - 0s 84us/sample - loss: 0.1374 - accuracy: 0.8489\n",
      "Epoch 44/100\n",
      "470/470 [==============================] - 0s 84us/sample - loss: 0.1392 - accuracy: 0.8532\n",
      "Epoch 45/100\n",
      "470/470 [==============================] - 0s 81us/sample - loss: 0.1294 - accuracy: 0.8532\n",
      "Epoch 46/100\n",
      "470/470 [==============================] - 0s 82us/sample - loss: 0.1286 - accuracy: 0.8511\n",
      "Epoch 47/100\n",
      "470/470 [==============================] - 0s 85us/sample - loss: 0.1312 - accuracy: 0.8511\n",
      "Epoch 48/100\n",
      "470/470 [==============================] - 0s 86us/sample - loss: 0.1369 - accuracy: 0.8489\n",
      "Epoch 49/100\n",
      "470/470 [==============================] - 0s 87us/sample - loss: 0.1328 - accuracy: 0.8468\n",
      "Epoch 50/100\n",
      "470/470 [==============================] - 0s 89us/sample - loss: 0.1296 - accuracy: 0.8489\n",
      "Epoch 51/100\n",
      "470/470 [==============================] - 0s 87us/sample - loss: 0.1339 - accuracy: 0.8489\n",
      "Epoch 52/100\n",
      "470/470 [==============================] - 0s 89us/sample - loss: 0.1310 - accuracy: 0.8596\n",
      "Epoch 53/100\n",
      "470/470 [==============================] - 0s 90us/sample - loss: 0.1267 - accuracy: 0.8574\n",
      "Epoch 54/100\n",
      "470/470 [==============================] - 0s 85us/sample - loss: 0.1268 - accuracy: 0.8553\n",
      "Epoch 55/100\n",
      "470/470 [==============================] - 0s 83us/sample - loss: 0.1376 - accuracy: 0.8553\n",
      "Epoch 56/100\n",
      "470/470 [==============================] - 0s 92us/sample - loss: 0.1258 - accuracy: 0.8574\n",
      "Epoch 57/100\n",
      "470/470 [==============================] - 0s 83us/sample - loss: 0.1278 - accuracy: 0.8511\n",
      "Epoch 58/100\n",
      "470/470 [==============================] - 0s 81us/sample - loss: 0.1272 - accuracy: 0.8553\n",
      "Epoch 59/100\n",
      "470/470 [==============================] - 0s 85us/sample - loss: 0.1301 - accuracy: 0.8511\n",
      "Epoch 60/100\n",
      "470/470 [==============================] - 0s 87us/sample - loss: 0.1302 - accuracy: 0.8532\n",
      "Epoch 61/100\n",
      "470/470 [==============================] - 0s 84us/sample - loss: 0.1212 - accuracy: 0.8638\n",
      "Epoch 62/100\n",
      "470/470 [==============================] - 0s 83us/sample - loss: 0.1325 - accuracy: 0.8489\n",
      "Epoch 63/100\n",
      "470/470 [==============================] - 0s 87us/sample - loss: 0.1333 - accuracy: 0.8553\n",
      "Epoch 64/100\n",
      "470/470 [==============================] - 0s 83us/sample - loss: 0.1234 - accuracy: 0.8574\n",
      "Epoch 65/100\n",
      "470/470 [==============================] - 0s 85us/sample - loss: 0.1229 - accuracy: 0.8553\n",
      "Epoch 66/100\n",
      "470/470 [==============================] - 0s 87us/sample - loss: 0.1257 - accuracy: 0.8532\n",
      "Epoch 67/100\n",
      "470/470 [==============================] - 0s 86us/sample - loss: 0.1249 - accuracy: 0.8511\n",
      "Epoch 68/100\n",
      "470/470 [==============================] - 0s 87us/sample - loss: 0.1325 - accuracy: 0.8532\n",
      "Epoch 69/100\n",
      "470/470 [==============================] - 0s 93us/sample - loss: 0.1336 - accuracy: 0.8553\n",
      "Epoch 70/100\n",
      "470/470 [==============================] - 0s 88us/sample - loss: 0.1243 - accuracy: 0.8553\n",
      "Epoch 71/100\n",
      "470/470 [==============================] - 0s 91us/sample - loss: 0.1275 - accuracy: 0.8532\n",
      "Epoch 72/100\n",
      "470/470 [==============================] - 0s 88us/sample - loss: 0.1244 - accuracy: 0.8532\n",
      "Epoch 73/100\n",
      "470/470 [==============================] - 0s 88us/sample - loss: 0.1264 - accuracy: 0.8553\n",
      "Epoch 74/100\n",
      "470/470 [==============================] - 0s 90us/sample - loss: 0.1257 - accuracy: 0.8511\n",
      "Epoch 75/100\n",
      "470/470 [==============================] - 0s 86us/sample - loss: 0.1249 - accuracy: 0.8574\n",
      "Epoch 76/100\n",
      "470/470 [==============================] - 0s 94us/sample - loss: 0.1452 - accuracy: 0.8426\n",
      "Epoch 77/100\n",
      "470/470 [==============================] - 0s 92us/sample - loss: 0.1359 - accuracy: 0.8532\n",
      "Epoch 78/100\n",
      "470/470 [==============================] - 0s 92us/sample - loss: 0.1344 - accuracy: 0.8532\n",
      "Epoch 79/100\n",
      "470/470 [==============================] - 0s 86us/sample - loss: 0.1296 - accuracy: 0.8532\n",
      "Epoch 80/100\n",
      "470/470 [==============================] - 0s 87us/sample - loss: 0.1272 - accuracy: 0.8447\n",
      "Epoch 81/100\n",
      "470/470 [==============================] - 0s 88us/sample - loss: 0.1200 - accuracy: 0.8553\n",
      "Epoch 82/100\n",
      "470/470 [==============================] - 0s 86us/sample - loss: 0.1207 - accuracy: 0.8532\n",
      "Epoch 83/100\n",
      "470/470 [==============================] - 0s 84us/sample - loss: 0.1231 - accuracy: 0.8553\n",
      "Epoch 84/100\n",
      "470/470 [==============================] - 0s 87us/sample - loss: 0.1218 - accuracy: 0.8532\n",
      "Epoch 85/100\n",
      "470/470 [==============================] - 0s 85us/sample - loss: 0.1238 - accuracy: 0.8574\n",
      "Epoch 86/100\n",
      "470/470 [==============================] - 0s 84us/sample - loss: 0.1226 - accuracy: 0.8638\n",
      "Epoch 87/100\n",
      "470/470 [==============================] - 0s 84us/sample - loss: 0.1279 - accuracy: 0.8574\n",
      "Epoch 88/100\n",
      "470/470 [==============================] - 0s 83us/sample - loss: 0.1246 - accuracy: 0.8511\n",
      "Epoch 89/100\n",
      "470/470 [==============================] - 0s 85us/sample - loss: 0.1237 - accuracy: 0.8511\n",
      "Epoch 90/100\n",
      "470/470 [==============================] - 0s 85us/sample - loss: 0.1226 - accuracy: 0.8596\n",
      "Epoch 91/100\n",
      "470/470 [==============================] - 0s 87us/sample - loss: 0.1241 - accuracy: 0.8489\n",
      "Epoch 92/100\n",
      "470/470 [==============================] - 0s 88us/sample - loss: 0.1217 - accuracy: 0.8511\n",
      "Epoch 93/100\n",
      "470/470 [==============================] - 0s 85us/sample - loss: 0.1285 - accuracy: 0.8574\n",
      "Epoch 94/100\n",
      "470/470 [==============================] - 0s 85us/sample - loss: 0.1227 - accuracy: 0.8532\n",
      "Epoch 95/100\n",
      "470/470 [==============================] - 0s 86us/sample - loss: 0.1232 - accuracy: 0.8553\n",
      "Epoch 96/100\n",
      "470/470 [==============================] - 0s 87us/sample - loss: 0.1281 - accuracy: 0.8574\n",
      "Epoch 97/100\n",
      "470/470 [==============================] - 0s 88us/sample - loss: 0.1179 - accuracy: 0.8553\n",
      "Epoch 98/100\n",
      "470/470 [==============================] - 0s 87us/sample - loss: 0.1191 - accuracy: 0.8596\n",
      "Epoch 99/100\n",
      "470/470 [==============================] - 0s 86us/sample - loss: 0.1225 - accuracy: 0.8574\n",
      "Epoch 100/100\n",
      "470/470 [==============================] - 0s 91us/sample - loss: 0.1178 - accuracy: 0.8617\n"
     ]
    },
    {
     "data": {
      "text/plain": [
       "<tensorflow.python.keras.callbacks.History at 0x18966d65108>"
      ]
     },
     "execution_count": 13,
     "metadata": {},
     "output_type": "execute_result"
    }
   ],
   "source": [
    "# 딥러닝을 실행합니다.\n",
    "model.compile(loss='mean_squared_error',optimizer='adam',metrics=['accuracy'])\n",
    "model.fit(X,Y,epochs=100,batch_size=10)"
   ]
  },
  {
   "cell_type": "code",
   "execution_count": 14,
   "metadata": {
    "scrolled": true
   },
   "outputs": [
    {
     "name": "stdout",
     "output_type": "stream",
     "text": [
      "470/470 [==============================] - 0s 127us/sample - loss: 0.1133 - accuracy: 0.8553\n",
      "\n",
      " Accuracy: 0.8553\n"
     ]
    }
   ],
   "source": [
    "#결과를 출력합니다.\n",
    "print('\\n Accuracy: %.4f'%(model.evaluate(X,Y)[1]))"
   ]
  },
  {
   "cell_type": "code",
   "execution_count": null,
   "metadata": {},
   "outputs": [],
   "source": []
  },
  {
   "cell_type": "code",
   "execution_count": null,
   "metadata": {},
   "outputs": [],
   "source": []
  },
  {
   "cell_type": "code",
   "execution_count": null,
   "metadata": {},
   "outputs": [],
   "source": []
  }
 ],
 "metadata": {
  "kernelspec": {
   "display_name": "Python 3",
   "language": "python",
   "name": "python3"
  },
  "language_info": {
   "codemirror_mode": {
    "name": "ipython",
    "version": 3
   },
   "file_extension": ".py",
   "mimetype": "text/x-python",
   "name": "python",
   "nbconvert_exporter": "python",
   "pygments_lexer": "ipython3",
   "version": "3.7.7"
  }
 },
 "nbformat": 4,
 "nbformat_minor": 4
}
