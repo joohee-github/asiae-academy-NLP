{
 "cells": [
  {
   "cell_type": "code",
   "execution_count": 1,
   "metadata": {},
   "outputs": [],
   "source": [
    "import numpy as np"
   ]
  },
  {
   "cell_type": "code",
   "execution_count": 3,
   "metadata": {},
   "outputs": [
    {
     "data": {
      "text/plain": [
       "array([0, 1, 2, 3, 4, 5, 6, 7, 8, 9])"
      ]
     },
     "execution_count": 3,
     "metadata": {},
     "output_type": "execute_result"
    }
   ],
   "source": [
    "ar = np.array([0,1,2,3,4,5,6,7,8,9])\n",
    "ar"
   ]
  },
  {
   "cell_type": "code",
   "execution_count": 4,
   "metadata": {},
   "outputs": [
    {
     "data": {
      "text/plain": [
       "numpy.ndarray"
      ]
     },
     "execution_count": 4,
     "metadata": {},
     "output_type": "execute_result"
    }
   ],
   "source": [
    "type(ar)"
   ]
  },
  {
   "cell_type": "markdown",
   "metadata": {},
   "source": [
    "-  파이썬은 연속적인 메모리 배치가 불가\n",
    "-  numpy를 사용\n",
    "-  벡터화연산을 지원"
   ]
  },
  {
   "cell_type": "markdown",
   "metadata": {},
   "source": [
    "## 2차원 배열 만들기"
   ]
  },
  {
   "cell_type": "code",
   "execution_count": 7,
   "metadata": {},
   "outputs": [
    {
     "data": {
      "text/plain": [
       "array([[0, 1, 2],\n",
       "       [3, 4, 5]])"
      ]
     },
     "execution_count": 7,
     "metadata": {},
     "output_type": "execute_result"
    }
   ],
   "source": [
    "c = np.array([[0,1,2],[3,4,5]]) # 2 x 3 arrary\n",
    "c"
   ]
  },
  {
   "cell_type": "code",
   "execution_count": 9,
   "metadata": {},
   "outputs": [
    {
     "data": {
      "text/plain": [
       "2"
      ]
     },
     "execution_count": 9,
     "metadata": {},
     "output_type": "execute_result"
    }
   ],
   "source": [
    "# 행의개수\n",
    "len(c)"
   ]
  },
  {
   "cell_type": "code",
   "execution_count": 11,
   "metadata": {},
   "outputs": [
    {
     "data": {
      "text/plain": [
       "3"
      ]
     },
     "execution_count": 11,
     "metadata": {},
     "output_type": "execute_result"
    }
   ],
   "source": [
    "# 열의 개수\n",
    "len(c[0])"
   ]
  },
  {
   "cell_type": "code",
   "execution_count": 14,
   "metadata": {},
   "outputs": [
    {
     "data": {
      "text/plain": [
       "array([[10, 20, 30, 40],\n",
       "       [50, 60, 70, 80]])"
      ]
     },
     "execution_count": 14,
     "metadata": {},
     "output_type": "execute_result"
    }
   ],
   "source": [
    "d = np.array([[10,20,30,40],\n",
    "              [50,60,70,80]])\n",
    "d"
   ]
  },
  {
   "cell_type": "markdown",
   "metadata": {},
   "source": [
    "## 3차원 배열 만들기\n",
    "array의 shape를 아는 것이 가장 중요"
   ]
  },
  {
   "cell_type": "markdown",
   "metadata": {},
   "source": [
    "-  2 x 3 x 4\n",
    "-  3 x 4 배열의 행렬이 2개"
   ]
  },
  {
   "cell_type": "code",
   "execution_count": 17,
   "metadata": {},
   "outputs": [
    {
     "name": "stdout",
     "output_type": "stream",
     "text": [
      "1\n",
      "(3,)\n"
     ]
    }
   ],
   "source": [
    "a = np.array([1,2,3])\n",
    "print(a.ndim)  #1차원\n",
    "print(a.shape)"
   ]
  },
  {
   "cell_type": "markdown",
   "metadata": {},
   "source": [
    "##  다차원 배열의 인덱싱"
   ]
  },
  {
   "cell_type": "code",
   "execution_count": 20,
   "metadata": {},
   "outputs": [
    {
     "data": {
      "text/plain": [
       "10"
      ]
     },
     "execution_count": 20,
     "metadata": {},
     "output_type": "execute_result"
    }
   ],
   "source": [
    "d[0,0]  #첫번째 행의 첫번째 열"
   ]
  },
  {
   "cell_type": "code",
   "execution_count": 19,
   "metadata": {},
   "outputs": [
    {
     "data": {
      "text/plain": [
       "80"
      ]
     },
     "execution_count": 19,
     "metadata": {},
     "output_type": "execute_result"
    }
   ],
   "source": [
    "d[-1,-1] # 마지막 행의 마지막 열"
   ]
  },
  {
   "cell_type": "markdown",
   "metadata": {},
   "source": [
    "## 슬라이싱"
   ]
  },
  {
   "cell_type": "code",
   "execution_count": 22,
   "metadata": {},
   "outputs": [
    {
     "data": {
      "text/plain": [
       "array([[0, 1, 2, 3],\n",
       "       [4, 5, 6, 7]])"
      ]
     },
     "execution_count": 22,
     "metadata": {},
     "output_type": "execute_result"
    }
   ],
   "source": [
    "a = np.array([[0,1,2,3],\n",
    "             [4,5,6,7]])\n",
    "a"
   ]
  },
  {
   "cell_type": "code",
   "execution_count": 27,
   "metadata": {},
   "outputs": [
    {
     "data": {
      "text/plain": [
       "array([0, 1, 2, 3])"
      ]
     },
     "execution_count": 27,
     "metadata": {},
     "output_type": "execute_result"
    }
   ],
   "source": [
    "a[0,:] # 전체 열중에서 1행 출력"
   ]
  },
  {
   "cell_type": "code",
   "execution_count": 26,
   "metadata": {},
   "outputs": [
    {
     "data": {
      "text/plain": [
       "array([1, 5])"
      ]
     },
     "execution_count": 26,
     "metadata": {},
     "output_type": "execute_result"
    }
   ],
   "source": [
    "a[:,1] #전체 행 중에서 2열 출력"
   ]
  },
  {
   "cell_type": "code",
   "execution_count": 28,
   "metadata": {},
   "outputs": [
    {
     "data": {
      "text/plain": [
       "array([5, 6, 7])"
      ]
     },
     "execution_count": 28,
     "metadata": {},
     "output_type": "execute_result"
    }
   ],
   "source": [
    "a[1,1:] # 두번째 행에서 두번째열부터 끝까지 출력"
   ]
  },
  {
   "cell_type": "markdown",
   "metadata": {},
   "source": [
    "### 연습문제"
   ]
  },
  {
   "cell_type": "code",
   "execution_count": 30,
   "metadata": {},
   "outputs": [
    {
     "data": {
      "text/plain": [
       "array([[ 0,  1,  2,  3,  4],\n",
       "       [ 5,  6,  7,  8,  9],\n",
       "       [10, 11, 12, 13, 14]])"
      ]
     },
     "execution_count": 30,
     "metadata": {},
     "output_type": "execute_result"
    }
   ],
   "source": [
    "m = np.array([[0,1,2,3,4],\n",
    "             [5,6,7,8,9],\n",
    "             [10,11,12,13,14]])\n",
    "m"
   ]
  },
  {
   "cell_type": "code",
   "execution_count": 34,
   "metadata": {},
   "outputs": [
    {
     "data": {
      "text/plain": [
       "7"
      ]
     },
     "execution_count": 34,
     "metadata": {},
     "output_type": "execute_result"
    }
   ],
   "source": [
    "m[1,2]"
   ]
  },
  {
   "cell_type": "code",
   "execution_count": 35,
   "metadata": {},
   "outputs": [
    {
     "data": {
      "text/plain": [
       "14"
      ]
     },
     "execution_count": 35,
     "metadata": {},
     "output_type": "execute_result"
    }
   ],
   "source": [
    "m[2,-1]"
   ]
  },
  {
   "cell_type": "code",
   "execution_count": 37,
   "metadata": {},
   "outputs": [
    {
     "data": {
      "text/plain": [
       "array([6, 7])"
      ]
     },
     "execution_count": 37,
     "metadata": {},
     "output_type": "execute_result"
    }
   ],
   "source": [
    "m[1,1:3]"
   ]
  },
  {
   "cell_type": "code",
   "execution_count": 46,
   "metadata": {},
   "outputs": [
    {
     "data": {
      "text/plain": [
       "array([ 1,  2,  3,  4,  5,  6,  7,  8,  9, 10, 11, 12, 13, 14, 15, 16, 17,\n",
       "       18, 19, 20])"
      ]
     },
     "execution_count": 46,
     "metadata": {},
     "output_type": "execute_result"
    }
   ],
   "source": [
    "a = np.arange(1,21)\n",
    "a"
   ]
  },
  {
   "cell_type": "code",
   "execution_count": 47,
   "metadata": {},
   "outputs": [
    {
     "data": {
      "text/plain": [
       "array([ 3,  6,  9, 12, 15, 18])"
      ]
     },
     "execution_count": 47,
     "metadata": {},
     "output_type": "execute_result"
    }
   ],
   "source": [
    "a[a % 3 ==0]"
   ]
  },
  {
   "cell_type": "code",
   "execution_count": 48,
   "metadata": {},
   "outputs": [
    {
     "data": {
      "text/plain": [
       "array([ 1,  5,  9, 13, 17])"
      ]
     },
     "execution_count": 48,
     "metadata": {},
     "output_type": "execute_result"
    }
   ],
   "source": [
    "a[a % 4 ==1]"
   ]
  },
  {
   "cell_type": "code",
   "execution_count": 50,
   "metadata": {},
   "outputs": [
    {
     "data": {
      "text/plain": [
       "array([9])"
      ]
     },
     "execution_count": 50,
     "metadata": {},
     "output_type": "execute_result"
    }
   ],
   "source": [
    "a[(a % 3) + ((a - 1) % 4) == 0]"
   ]
  },
  {
   "cell_type": "code",
   "execution_count": 52,
   "metadata": {},
   "outputs": [
    {
     "data": {
      "text/plain": [
       "dtype('float32')"
      ]
     },
     "execution_count": 52,
     "metadata": {},
     "output_type": "execute_result"
    }
   ],
   "source": [
    "a = np.arange(1,21,dtype='f')\n",
    "a.dtype"
   ]
  },
  {
   "cell_type": "code",
   "execution_count": 62,
   "metadata": {},
   "outputs": [
    {
     "ename": "ValueError",
     "evalue": "no fill-function for data-type.",
     "output_type": "error",
     "traceback": [
      "\u001b[1;31m---------------------------------------------------------------------------\u001b[0m",
      "\u001b[1;31mValueError\u001b[0m                                Traceback (most recent call last)",
      "\u001b[1;32m<ipython-input-62-58c1f5b774c3>\u001b[0m in \u001b[0;36m<module>\u001b[1;34m\u001b[0m\n\u001b[1;32m----> 1\u001b[1;33m \u001b[0ma\u001b[0m \u001b[1;33m=\u001b[0m \u001b[0mnp\u001b[0m\u001b[1;33m.\u001b[0m\u001b[0marange\u001b[0m\u001b[1;33m(\u001b[0m\u001b[1;36m1\u001b[0m\u001b[1;33m,\u001b[0m\u001b[1;36m21\u001b[0m\u001b[1;33m,\u001b[0m\u001b[0mdtype\u001b[0m\u001b[1;33m=\u001b[0m\u001b[1;34m'U'\u001b[0m\u001b[1;33m)\u001b[0m\u001b[1;33m\u001b[0m\u001b[1;33m\u001b[0m\u001b[0m\n\u001b[0m\u001b[0;32m      2\u001b[0m \u001b[0ma\u001b[0m\u001b[1;33m.\u001b[0m\u001b[0mdtype\u001b[0m\u001b[1;33m\u001b[0m\u001b[1;33m\u001b[0m\u001b[0m\n",
      "\u001b[1;31mValueError\u001b[0m: no fill-function for data-type."
     ]
    }
   ],
   "source": [
    "a = np.arange(1,21,dtype='U')\n",
    "a.dtype"
   ]
  },
  {
   "cell_type": "markdown",
   "metadata": {},
   "source": [
    " type이 안맞는 것끼리 연산을 하면 type error"
   ]
  },
  {
   "cell_type": "markdown",
   "metadata": {},
   "source": [
    "### Inf와 Nan"
   ]
  },
  {
   "cell_type": "code",
   "execution_count": null,
   "metadata": {},
   "outputs": [],
   "source": [
    "# 요소끼리 나누기\n",
    "\n",
    "np.array([0,1,-1,0])/"
   ]
  },
  {
   "cell_type": "code",
   "execution_count": 54,
   "metadata": {},
   "outputs": [
    {
     "name": "stderr",
     "output_type": "stream",
     "text": [
      "C:\\ProgramData\\Anaconda3\\envs\\test_envs\\lib\\site-packages\\ipykernel_launcher.py:1: RuntimeWarning: divide by zero encountered in log\n",
      "  \"\"\"Entry point for launching an IPython kernel.\n"
     ]
    },
    {
     "data": {
      "text/plain": [
       "-inf"
      ]
     },
     "execution_count": 54,
     "metadata": {},
     "output_type": "execute_result"
    }
   ],
   "source": [
    "np.log(0)"
   ]
  },
  {
   "cell_type": "code",
   "execution_count": 61,
   "metadata": {},
   "outputs": [
    {
     "data": {
      "text/plain": [
       "2.302585092994046"
      ]
     },
     "execution_count": 61,
     "metadata": {},
     "output_type": "execute_result"
    }
   ],
   "source": [
    "np.log(10)"
   ]
  },
  {
   "cell_type": "code",
   "execution_count": 58,
   "metadata": {},
   "outputs": [
    {
     "data": {
      "text/plain": [
       "0.0"
      ]
     },
     "execution_count": 58,
     "metadata": {},
     "output_type": "execute_result"
    }
   ],
   "source": [
    "np.exp(-np.inf)  #???????? nummpy에서는 inf가 하나의 숫자처럼 인식? 무한대니까 0"
   ]
  },
  {
   "cell_type": "code",
   "execution_count": 64,
   "metadata": {},
   "outputs": [
    {
     "data": {
      "text/plain": [
       "array([[0, 0],\n",
       "       [0, 0],\n",
       "       [0, 0],\n",
       "       [0, 0],\n",
       "       [0, 0]], dtype=int32)"
      ]
     },
     "execution_count": 64,
     "metadata": {},
     "output_type": "execute_result"
    }
   ],
   "source": [
    "c = np.zeros((5,2),dtype='i')\n",
    "c"
   ]
  },
  {
   "cell_type": "code",
   "execution_count": 66,
   "metadata": {},
   "outputs": [
    {
     "data": {
      "text/plain": [
       "array(['', '', '', '', ''], dtype='<U4')"
      ]
     },
     "execution_count": 66,
     "metadata": {},
     "output_type": "execute_result"
    }
   ],
   "source": [
    "d = np.zeros(5,dtype='U4')\n",
    "d   \n",
    "#null값 들어가는걸로 활용할때\n"
   ]
  },
  {
   "cell_type": "code",
   "execution_count": 67,
   "metadata": {},
   "outputs": [
    {
     "data": {
      "text/plain": [
       "array([[[1, 1, 1, 1],\n",
       "        [1, 1, 1, 1],\n",
       "        [1, 1, 1, 1]],\n",
       "\n",
       "       [[1, 1, 1, 1],\n",
       "        [1, 1, 1, 1],\n",
       "        [1, 1, 1, 1]]], dtype=int64)"
      ]
     },
     "execution_count": 67,
     "metadata": {},
     "output_type": "execute_result"
    }
   ],
   "source": [
    "e = np.ones((2,3,4),dtype='i8')\n",
    "e"
   ]
  },
  {
   "cell_type": "markdown",
   "metadata": {},
   "source": [
    "크기를 튜플로 명시하지 않고 다른 배열과 같은 크기의 배열을 생성하고 싶다면\n",
    "zeros_like ones_like"
   ]
  },
  {
   "cell_type": "markdown",
   "metadata": {},
   "source": [
    "배열하나에 많은 데이터가 들어가면, 초기화를 시킬때 resource가 많이 필요함\n",
    "resource를 절약하기 위해서 -> empty\n"
   ]
  },
  {
   "cell_type": "code",
   "execution_count": 69,
   "metadata": {},
   "outputs": [
    {
     "data": {
      "text/plain": [
       "array([[0., 0., 0.],\n",
       "       [0., 0., 0.],\n",
       "       [0., 0., 0.],\n",
       "       [0., 0., 0.]])"
      ]
     },
     "execution_count": 69,
     "metadata": {},
     "output_type": "execute_result"
    }
   ],
   "source": [
    "g = np.empty((4,3))\n",
    "g"
   ]
  },
  {
   "cell_type": "code",
   "execution_count": 71,
   "metadata": {},
   "outputs": [
    {
     "data": {
      "text/plain": [
       "array([10, 12, 14, 16, 18])"
      ]
     },
     "execution_count": 71,
     "metadata": {},
     "output_type": "execute_result"
    }
   ],
   "source": [
    "np.arange(10,20,2)  #19까지"
   ]
  },
  {
   "cell_type": "markdown",
   "metadata": {},
   "source": [
    "-  linspace\n",
    "-  logspace"
   ]
  },
  {
   "cell_type": "code",
   "execution_count": 74,
   "metadata": {},
   "outputs": [
    {
     "data": {
      "text/plain": [
       "array([  0.,  10.,  20.,  30.,  40.,  50.,  60.,  70.,  80.,  90., 100.])"
      ]
     },
     "execution_count": 74,
     "metadata": {},
     "output_type": "execute_result"
    }
   ],
   "source": [
    "np.linspace(0,100,11)   # 0부터 100까지 (100포함) 5개로 나눔 동일한 간격으로"
   ]
  },
  {
   "cell_type": "code",
   "execution_count": 76,
   "metadata": {},
   "outputs": [
    {
     "data": {
      "text/plain": [
       "array([ 1.25892541,  1.58489319,  1.99526231,  2.51188643,  3.16227766,\n",
       "        3.98107171,  5.01187234,  6.30957344,  7.94328235, 10.        ])"
      ]
     },
     "execution_count": 76,
     "metadata": {},
     "output_type": "execute_result"
    }
   ],
   "source": [
    "np.logspace(0.1,1,10)   #10의 0.1승과 10의 1승의 사이를 n개(=10)의 점으로 나누어서 생성한다."
   ]
  },
  {
   "cell_type": "code",
   "execution_count": 77,
   "metadata": {},
   "outputs": [],
   "source": [
    "A = np.array([[1,2,3],[4,5,6]])"
   ]
  },
  {
   "cell_type": "code",
   "execution_count": 78,
   "metadata": {},
   "outputs": [
    {
     "data": {
      "text/plain": [
       "array([[1, 2, 3],\n",
       "       [4, 5, 6]])"
      ]
     },
     "execution_count": 78,
     "metadata": {},
     "output_type": "execute_result"
    }
   ],
   "source": [
    "# 2 X 3\n",
    "A"
   ]
  },
  {
   "cell_type": "code",
   "execution_count": 80,
   "metadata": {},
   "outputs": [
    {
     "data": {
      "text/plain": [
       "array([[1, 4],\n",
       "       [2, 5],\n",
       "       [3, 6]])"
      ]
     },
     "execution_count": 80,
     "metadata": {},
     "output_type": "execute_result"
    }
   ],
   "source": [
    "# 전치행렬 3 x 2\n",
    "A.T  "
   ]
  },
  {
   "cell_type": "markdown",
   "metadata": {},
   "source": [
    "### reshape"
   ]
  },
  {
   "cell_type": "code",
   "execution_count": 82,
   "metadata": {},
   "outputs": [
    {
     "data": {
      "text/plain": [
       "array([ 0,  1,  2,  3,  4,  5,  6,  7,  8,  9, 10, 11])"
      ]
     },
     "execution_count": 82,
     "metadata": {},
     "output_type": "execute_result"
    }
   ],
   "source": [
    "a= np.arange(12)\n",
    "a"
   ]
  },
  {
   "cell_type": "code",
   "execution_count": 83,
   "metadata": {},
   "outputs": [],
   "source": [
    "b=  a.reshape(3,4)"
   ]
  },
  {
   "cell_type": "code",
   "execution_count": 84,
   "metadata": {},
   "outputs": [
    {
     "data": {
      "text/plain": [
       "array([[ 0,  1,  2,  3],\n",
       "       [ 4,  5,  6,  7],\n",
       "       [ 8,  9, 10, 11]])"
      ]
     },
     "execution_count": 84,
     "metadata": {},
     "output_type": "execute_result"
    }
   ],
   "source": [
    "b"
   ]
  },
  {
   "cell_type": "code",
   "execution_count": 85,
   "metadata": {},
   "outputs": [
    {
     "data": {
      "text/plain": [
       "array([[ 0,  1,  2,  3],\n",
       "       [ 4,  5,  6,  7],\n",
       "       [ 8,  9, 10, 11]])"
      ]
     },
     "execution_count": 85,
     "metadata": {},
     "output_type": "execute_result"
    }
   ],
   "source": [
    "a.reshape(3,-1)"
   ]
  },
  {
   "cell_type": "code",
   "execution_count": 86,
   "metadata": {},
   "outputs": [
    {
     "data": {
      "text/plain": [
       "array([[[ 0,  1,  2],\n",
       "        [ 3,  4,  5]],\n",
       "\n",
       "       [[ 6,  7,  8],\n",
       "        [ 9, 10, 11]]])"
      ]
     },
     "execution_count": 86,
     "metadata": {},
     "output_type": "execute_result"
    }
   ],
   "source": [
    "a.reshape(2,2,-1)  # 차원,행,열"
   ]
  },
  {
   "cell_type": "code",
   "execution_count": 87,
   "metadata": {},
   "outputs": [
    {
     "data": {
      "text/plain": [
       "array([[[ 0,  1],\n",
       "        [ 2,  3],\n",
       "        [ 4,  5]],\n",
       "\n",
       "       [[ 6,  7],\n",
       "        [ 8,  9],\n",
       "        [10, 11]]])"
      ]
     },
     "execution_count": 87,
     "metadata": {},
     "output_type": "execute_result"
    }
   ],
   "source": [
    "a.reshape(2,-1,2)"
   ]
  },
  {
   "cell_type": "markdown",
   "metadata": {},
   "source": [
    "flatten = ravel"
   ]
  },
  {
   "cell_type": "code",
   "execution_count": 88,
   "metadata": {},
   "outputs": [
    {
     "data": {
      "text/plain": [
       "array([ 0,  1,  2,  3,  4,  5,  6,  7,  8,  9, 10, 11])"
      ]
     },
     "execution_count": 88,
     "metadata": {},
     "output_type": "execute_result"
    }
   ],
   "source": [
    "a.flatten()"
   ]
  },
  {
   "cell_type": "code",
   "execution_count": 91,
   "metadata": {},
   "outputs": [
    {
     "data": {
      "text/plain": [
       "array([ 0,  1,  2,  3,  4,  5,  6,  7,  8,  9, 10, 11])"
      ]
     },
     "execution_count": 91,
     "metadata": {},
     "output_type": "execute_result"
    }
   ],
   "source": [
    "a.ravel()"
   ]
  },
  {
   "cell_type": "code",
   "execution_count": null,
   "metadata": {},
   "outputs": [],
   "source": []
  },
  {
   "cell_type": "code",
   "execution_count": 94,
   "metadata": {},
   "outputs": [
    {
     "data": {
      "text/plain": [
       "array([0, 1, 2, 3, 4])"
      ]
     },
     "execution_count": 94,
     "metadata": {},
     "output_type": "execute_result"
    }
   ],
   "source": [
    "x = np.arange(5)\n",
    "x   #벡터"
   ]
  },
  {
   "cell_type": "code",
   "execution_count": 97,
   "metadata": {},
   "outputs": [
    {
     "data": {
      "text/plain": [
       "array([[0, 1, 2, 3, 4]])"
      ]
     },
     "execution_count": 97,
     "metadata": {},
     "output_type": "execute_result"
    }
   ],
   "source": [
    "x = x.reshape(1,5)\n",
    "x    # 1행만 있는 행렬"
   ]
  },
  {
   "cell_type": "markdown",
   "metadata": {},
   "source": [
    "np.newaxis = 같은 배열에 대해 차원만 증가시키는 "
   ]
  },
  {
   "cell_type": "markdown",
   "metadata": {},
   "source": [
    "np.hstack\n",
    "가로로 쌓기"
   ]
  },
  {
   "cell_type": "markdown",
   "metadata": {},
   "source": [
    "np.vstack 세로로 쌓기"
   ]
  },
  {
   "cell_type": "markdown",
   "metadata": {},
   "source": [
    "np.dstack([a1,a2])  똑같은 shpae의 행렬을 짝을 지은 것으로 새로 만듦"
   ]
  },
  {
   "cell_type": "code",
   "execution_count": 99,
   "metadata": {},
   "outputs": [
    {
     "data": {
      "text/plain": [
       "array([[0, 1, 2],\n",
       "       [3, 4, 5]])"
      ]
     },
     "execution_count": 99,
     "metadata": {},
     "output_type": "execute_result"
    }
   ],
   "source": [
    "a = np.array([[0,1,2],\n",
    "             [3,4,5]])\n",
    "a"
   ]
  },
  {
   "cell_type": "code",
   "execution_count": 100,
   "metadata": {},
   "outputs": [
    {
     "data": {
      "text/plain": [
       "array([[0, 1, 2, 0, 1, 2],\n",
       "       [3, 4, 5, 3, 4, 5]])"
      ]
     },
     "execution_count": 100,
     "metadata": {},
     "output_type": "execute_result"
    }
   ],
   "source": [
    "np.tile(a,2)"
   ]
  },
  {
   "cell_type": "code",
   "execution_count": 102,
   "metadata": {},
   "outputs": [
    {
     "data": {
      "text/plain": [
       "array([[0, 1, 2, 0, 1, 2],\n",
       "       [3, 4, 5, 3, 4, 5],\n",
       "       [0, 1, 2, 0, 1, 2],\n",
       "       [3, 4, 5, 3, 4, 5],\n",
       "       [0, 1, 2, 0, 1, 2],\n",
       "       [3, 4, 5, 3, 4, 5]])"
      ]
     },
     "execution_count": 102,
     "metadata": {},
     "output_type": "execute_result"
    }
   ],
   "source": [
    "# ??????????????\n",
    "np.tile(a,(3,2))"
   ]
  },
  {
   "cell_type": "code",
   "execution_count": 103,
   "metadata": {},
   "outputs": [],
   "source": [
    "x = np.arange(3)"
   ]
  },
  {
   "cell_type": "code",
   "execution_count": 104,
   "metadata": {},
   "outputs": [],
   "source": [
    "y = np.arange(5)"
   ]
  },
  {
   "cell_type": "code",
   "execution_count": null,
   "metadata": {},
   "outputs": [],
   "source": [
    "x,y = np.mashgrid???"
   ]
  },
  {
   "cell_type": "markdown",
   "metadata": {},
   "source": [
    "### 벡터화 연산"
   ]
  },
  {
   "cell_type": "code",
   "execution_count": 105,
   "metadata": {},
   "outputs": [],
   "source": [
    "x = np.arange(1,1001)\n",
    "y = np.arange(1001,2001)"
   ]
  },
  {
   "cell_type": "code",
   "execution_count": 107,
   "metadata": {},
   "outputs": [
    {
     "name": "stdout",
     "output_type": "stream",
     "text": [
      "Wall time: 997 µs\n"
     ]
    }
   ],
   "source": [
    "%%time \n",
    "#시간이 얼마나 걸리니??\n",
    "z = np.zeros_like(x)\n",
    "for i in range(1000):\n",
    "    z[i] = x[i]+y[i]"
   ]
  },
  {
   "cell_type": "code",
   "execution_count": 108,
   "metadata": {
    "collapsed": true
   },
   "outputs": [
    {
     "data": {
      "text/plain": [
       "array([1002, 1004, 1006, 1008, 1010, 1012, 1014, 1016, 1018, 1020, 1022,\n",
       "       1024, 1026, 1028, 1030, 1032, 1034, 1036, 1038, 1040, 1042, 1044,\n",
       "       1046, 1048, 1050, 1052, 1054, 1056, 1058, 1060, 1062, 1064, 1066,\n",
       "       1068, 1070, 1072, 1074, 1076, 1078, 1080, 1082, 1084, 1086, 1088,\n",
       "       1090, 1092, 1094, 1096, 1098, 1100, 1102, 1104, 1106, 1108, 1110,\n",
       "       1112, 1114, 1116, 1118, 1120, 1122, 1124, 1126, 1128, 1130, 1132,\n",
       "       1134, 1136, 1138, 1140, 1142, 1144, 1146, 1148, 1150, 1152, 1154,\n",
       "       1156, 1158, 1160, 1162, 1164, 1166, 1168, 1170, 1172, 1174, 1176,\n",
       "       1178, 1180, 1182, 1184, 1186, 1188, 1190, 1192, 1194, 1196, 1198,\n",
       "       1200, 1202, 1204, 1206, 1208, 1210, 1212, 1214, 1216, 1218, 1220,\n",
       "       1222, 1224, 1226, 1228, 1230, 1232, 1234, 1236, 1238, 1240, 1242,\n",
       "       1244, 1246, 1248, 1250, 1252, 1254, 1256, 1258, 1260, 1262, 1264,\n",
       "       1266, 1268, 1270, 1272, 1274, 1276, 1278, 1280, 1282, 1284, 1286,\n",
       "       1288, 1290, 1292, 1294, 1296, 1298, 1300, 1302, 1304, 1306, 1308,\n",
       "       1310, 1312, 1314, 1316, 1318, 1320, 1322, 1324, 1326, 1328, 1330,\n",
       "       1332, 1334, 1336, 1338, 1340, 1342, 1344, 1346, 1348, 1350, 1352,\n",
       "       1354, 1356, 1358, 1360, 1362, 1364, 1366, 1368, 1370, 1372, 1374,\n",
       "       1376, 1378, 1380, 1382, 1384, 1386, 1388, 1390, 1392, 1394, 1396,\n",
       "       1398, 1400, 1402, 1404, 1406, 1408, 1410, 1412, 1414, 1416, 1418,\n",
       "       1420, 1422, 1424, 1426, 1428, 1430, 1432, 1434, 1436, 1438, 1440,\n",
       "       1442, 1444, 1446, 1448, 1450, 1452, 1454, 1456, 1458, 1460, 1462,\n",
       "       1464, 1466, 1468, 1470, 1472, 1474, 1476, 1478, 1480, 1482, 1484,\n",
       "       1486, 1488, 1490, 1492, 1494, 1496, 1498, 1500, 1502, 1504, 1506,\n",
       "       1508, 1510, 1512, 1514, 1516, 1518, 1520, 1522, 1524, 1526, 1528,\n",
       "       1530, 1532, 1534, 1536, 1538, 1540, 1542, 1544, 1546, 1548, 1550,\n",
       "       1552, 1554, 1556, 1558, 1560, 1562, 1564, 1566, 1568, 1570, 1572,\n",
       "       1574, 1576, 1578, 1580, 1582, 1584, 1586, 1588, 1590, 1592, 1594,\n",
       "       1596, 1598, 1600, 1602, 1604, 1606, 1608, 1610, 1612, 1614, 1616,\n",
       "       1618, 1620, 1622, 1624, 1626, 1628, 1630, 1632, 1634, 1636, 1638,\n",
       "       1640, 1642, 1644, 1646, 1648, 1650, 1652, 1654, 1656, 1658, 1660,\n",
       "       1662, 1664, 1666, 1668, 1670, 1672, 1674, 1676, 1678, 1680, 1682,\n",
       "       1684, 1686, 1688, 1690, 1692, 1694, 1696, 1698, 1700, 1702, 1704,\n",
       "       1706, 1708, 1710, 1712, 1714, 1716, 1718, 1720, 1722, 1724, 1726,\n",
       "       1728, 1730, 1732, 1734, 1736, 1738, 1740, 1742, 1744, 1746, 1748,\n",
       "       1750, 1752, 1754, 1756, 1758, 1760, 1762, 1764, 1766, 1768, 1770,\n",
       "       1772, 1774, 1776, 1778, 1780, 1782, 1784, 1786, 1788, 1790, 1792,\n",
       "       1794, 1796, 1798, 1800, 1802, 1804, 1806, 1808, 1810, 1812, 1814,\n",
       "       1816, 1818, 1820, 1822, 1824, 1826, 1828, 1830, 1832, 1834, 1836,\n",
       "       1838, 1840, 1842, 1844, 1846, 1848, 1850, 1852, 1854, 1856, 1858,\n",
       "       1860, 1862, 1864, 1866, 1868, 1870, 1872, 1874, 1876, 1878, 1880,\n",
       "       1882, 1884, 1886, 1888, 1890, 1892, 1894, 1896, 1898, 1900, 1902,\n",
       "       1904, 1906, 1908, 1910, 1912, 1914, 1916, 1918, 1920, 1922, 1924,\n",
       "       1926, 1928, 1930, 1932, 1934, 1936, 1938, 1940, 1942, 1944, 1946,\n",
       "       1948, 1950, 1952, 1954, 1956, 1958, 1960, 1962, 1964, 1966, 1968,\n",
       "       1970, 1972, 1974, 1976, 1978, 1980, 1982, 1984, 1986, 1988, 1990,\n",
       "       1992, 1994, 1996, 1998, 2000, 2002, 2004, 2006, 2008, 2010, 2012,\n",
       "       2014, 2016, 2018, 2020, 2022, 2024, 2026, 2028, 2030, 2032, 2034,\n",
       "       2036, 2038, 2040, 2042, 2044, 2046, 2048, 2050, 2052, 2054, 2056,\n",
       "       2058, 2060, 2062, 2064, 2066, 2068, 2070, 2072, 2074, 2076, 2078,\n",
       "       2080, 2082, 2084, 2086, 2088, 2090, 2092, 2094, 2096, 2098, 2100,\n",
       "       2102, 2104, 2106, 2108, 2110, 2112, 2114, 2116, 2118, 2120, 2122,\n",
       "       2124, 2126, 2128, 2130, 2132, 2134, 2136, 2138, 2140, 2142, 2144,\n",
       "       2146, 2148, 2150, 2152, 2154, 2156, 2158, 2160, 2162, 2164, 2166,\n",
       "       2168, 2170, 2172, 2174, 2176, 2178, 2180, 2182, 2184, 2186, 2188,\n",
       "       2190, 2192, 2194, 2196, 2198, 2200, 2202, 2204, 2206, 2208, 2210,\n",
       "       2212, 2214, 2216, 2218, 2220, 2222, 2224, 2226, 2228, 2230, 2232,\n",
       "       2234, 2236, 2238, 2240, 2242, 2244, 2246, 2248, 2250, 2252, 2254,\n",
       "       2256, 2258, 2260, 2262, 2264, 2266, 2268, 2270, 2272, 2274, 2276,\n",
       "       2278, 2280, 2282, 2284, 2286, 2288, 2290, 2292, 2294, 2296, 2298,\n",
       "       2300, 2302, 2304, 2306, 2308, 2310, 2312, 2314, 2316, 2318, 2320,\n",
       "       2322, 2324, 2326, 2328, 2330, 2332, 2334, 2336, 2338, 2340, 2342,\n",
       "       2344, 2346, 2348, 2350, 2352, 2354, 2356, 2358, 2360, 2362, 2364,\n",
       "       2366, 2368, 2370, 2372, 2374, 2376, 2378, 2380, 2382, 2384, 2386,\n",
       "       2388, 2390, 2392, 2394, 2396, 2398, 2400, 2402, 2404, 2406, 2408,\n",
       "       2410, 2412, 2414, 2416, 2418, 2420, 2422, 2424, 2426, 2428, 2430,\n",
       "       2432, 2434, 2436, 2438, 2440, 2442, 2444, 2446, 2448, 2450, 2452,\n",
       "       2454, 2456, 2458, 2460, 2462, 2464, 2466, 2468, 2470, 2472, 2474,\n",
       "       2476, 2478, 2480, 2482, 2484, 2486, 2488, 2490, 2492, 2494, 2496,\n",
       "       2498, 2500, 2502, 2504, 2506, 2508, 2510, 2512, 2514, 2516, 2518,\n",
       "       2520, 2522, 2524, 2526, 2528, 2530, 2532, 2534, 2536, 2538, 2540,\n",
       "       2542, 2544, 2546, 2548, 2550, 2552, 2554, 2556, 2558, 2560, 2562,\n",
       "       2564, 2566, 2568, 2570, 2572, 2574, 2576, 2578, 2580, 2582, 2584,\n",
       "       2586, 2588, 2590, 2592, 2594, 2596, 2598, 2600, 2602, 2604, 2606,\n",
       "       2608, 2610, 2612, 2614, 2616, 2618, 2620, 2622, 2624, 2626, 2628,\n",
       "       2630, 2632, 2634, 2636, 2638, 2640, 2642, 2644, 2646, 2648, 2650,\n",
       "       2652, 2654, 2656, 2658, 2660, 2662, 2664, 2666, 2668, 2670, 2672,\n",
       "       2674, 2676, 2678, 2680, 2682, 2684, 2686, 2688, 2690, 2692, 2694,\n",
       "       2696, 2698, 2700, 2702, 2704, 2706, 2708, 2710, 2712, 2714, 2716,\n",
       "       2718, 2720, 2722, 2724, 2726, 2728, 2730, 2732, 2734, 2736, 2738,\n",
       "       2740, 2742, 2744, 2746, 2748, 2750, 2752, 2754, 2756, 2758, 2760,\n",
       "       2762, 2764, 2766, 2768, 2770, 2772, 2774, 2776, 2778, 2780, 2782,\n",
       "       2784, 2786, 2788, 2790, 2792, 2794, 2796, 2798, 2800, 2802, 2804,\n",
       "       2806, 2808, 2810, 2812, 2814, 2816, 2818, 2820, 2822, 2824, 2826,\n",
       "       2828, 2830, 2832, 2834, 2836, 2838, 2840, 2842, 2844, 2846, 2848,\n",
       "       2850, 2852, 2854, 2856, 2858, 2860, 2862, 2864, 2866, 2868, 2870,\n",
       "       2872, 2874, 2876, 2878, 2880, 2882, 2884, 2886, 2888, 2890, 2892,\n",
       "       2894, 2896, 2898, 2900, 2902, 2904, 2906, 2908, 2910, 2912, 2914,\n",
       "       2916, 2918, 2920, 2922, 2924, 2926, 2928, 2930, 2932, 2934, 2936,\n",
       "       2938, 2940, 2942, 2944, 2946, 2948, 2950, 2952, 2954, 2956, 2958,\n",
       "       2960, 2962, 2964, 2966, 2968, 2970, 2972, 2974, 2976, 2978, 2980,\n",
       "       2982, 2984, 2986, 2988, 2990, 2992, 2994, 2996, 2998, 3000])"
      ]
     },
     "execution_count": 108,
     "metadata": {},
     "output_type": "execute_result"
    }
   ],
   "source": [
    "z"
   ]
  },
  {
   "cell_type": "code",
   "execution_count": 109,
   "metadata": {},
   "outputs": [
    {
     "name": "stdout",
     "output_type": "stream",
     "text": [
      "Wall time: 0 ns\n"
     ]
    }
   ],
   "source": [
    "%%time\n",
    "z = x+y"
   ]
  },
  {
   "cell_type": "code",
   "execution_count": 110,
   "metadata": {
    "collapsed": true
   },
   "outputs": [
    {
     "data": {
      "text/plain": [
       "array([1002, 1004, 1006, 1008, 1010, 1012, 1014, 1016, 1018, 1020, 1022,\n",
       "       1024, 1026, 1028, 1030, 1032, 1034, 1036, 1038, 1040, 1042, 1044,\n",
       "       1046, 1048, 1050, 1052, 1054, 1056, 1058, 1060, 1062, 1064, 1066,\n",
       "       1068, 1070, 1072, 1074, 1076, 1078, 1080, 1082, 1084, 1086, 1088,\n",
       "       1090, 1092, 1094, 1096, 1098, 1100, 1102, 1104, 1106, 1108, 1110,\n",
       "       1112, 1114, 1116, 1118, 1120, 1122, 1124, 1126, 1128, 1130, 1132,\n",
       "       1134, 1136, 1138, 1140, 1142, 1144, 1146, 1148, 1150, 1152, 1154,\n",
       "       1156, 1158, 1160, 1162, 1164, 1166, 1168, 1170, 1172, 1174, 1176,\n",
       "       1178, 1180, 1182, 1184, 1186, 1188, 1190, 1192, 1194, 1196, 1198,\n",
       "       1200, 1202, 1204, 1206, 1208, 1210, 1212, 1214, 1216, 1218, 1220,\n",
       "       1222, 1224, 1226, 1228, 1230, 1232, 1234, 1236, 1238, 1240, 1242,\n",
       "       1244, 1246, 1248, 1250, 1252, 1254, 1256, 1258, 1260, 1262, 1264,\n",
       "       1266, 1268, 1270, 1272, 1274, 1276, 1278, 1280, 1282, 1284, 1286,\n",
       "       1288, 1290, 1292, 1294, 1296, 1298, 1300, 1302, 1304, 1306, 1308,\n",
       "       1310, 1312, 1314, 1316, 1318, 1320, 1322, 1324, 1326, 1328, 1330,\n",
       "       1332, 1334, 1336, 1338, 1340, 1342, 1344, 1346, 1348, 1350, 1352,\n",
       "       1354, 1356, 1358, 1360, 1362, 1364, 1366, 1368, 1370, 1372, 1374,\n",
       "       1376, 1378, 1380, 1382, 1384, 1386, 1388, 1390, 1392, 1394, 1396,\n",
       "       1398, 1400, 1402, 1404, 1406, 1408, 1410, 1412, 1414, 1416, 1418,\n",
       "       1420, 1422, 1424, 1426, 1428, 1430, 1432, 1434, 1436, 1438, 1440,\n",
       "       1442, 1444, 1446, 1448, 1450, 1452, 1454, 1456, 1458, 1460, 1462,\n",
       "       1464, 1466, 1468, 1470, 1472, 1474, 1476, 1478, 1480, 1482, 1484,\n",
       "       1486, 1488, 1490, 1492, 1494, 1496, 1498, 1500, 1502, 1504, 1506,\n",
       "       1508, 1510, 1512, 1514, 1516, 1518, 1520, 1522, 1524, 1526, 1528,\n",
       "       1530, 1532, 1534, 1536, 1538, 1540, 1542, 1544, 1546, 1548, 1550,\n",
       "       1552, 1554, 1556, 1558, 1560, 1562, 1564, 1566, 1568, 1570, 1572,\n",
       "       1574, 1576, 1578, 1580, 1582, 1584, 1586, 1588, 1590, 1592, 1594,\n",
       "       1596, 1598, 1600, 1602, 1604, 1606, 1608, 1610, 1612, 1614, 1616,\n",
       "       1618, 1620, 1622, 1624, 1626, 1628, 1630, 1632, 1634, 1636, 1638,\n",
       "       1640, 1642, 1644, 1646, 1648, 1650, 1652, 1654, 1656, 1658, 1660,\n",
       "       1662, 1664, 1666, 1668, 1670, 1672, 1674, 1676, 1678, 1680, 1682,\n",
       "       1684, 1686, 1688, 1690, 1692, 1694, 1696, 1698, 1700, 1702, 1704,\n",
       "       1706, 1708, 1710, 1712, 1714, 1716, 1718, 1720, 1722, 1724, 1726,\n",
       "       1728, 1730, 1732, 1734, 1736, 1738, 1740, 1742, 1744, 1746, 1748,\n",
       "       1750, 1752, 1754, 1756, 1758, 1760, 1762, 1764, 1766, 1768, 1770,\n",
       "       1772, 1774, 1776, 1778, 1780, 1782, 1784, 1786, 1788, 1790, 1792,\n",
       "       1794, 1796, 1798, 1800, 1802, 1804, 1806, 1808, 1810, 1812, 1814,\n",
       "       1816, 1818, 1820, 1822, 1824, 1826, 1828, 1830, 1832, 1834, 1836,\n",
       "       1838, 1840, 1842, 1844, 1846, 1848, 1850, 1852, 1854, 1856, 1858,\n",
       "       1860, 1862, 1864, 1866, 1868, 1870, 1872, 1874, 1876, 1878, 1880,\n",
       "       1882, 1884, 1886, 1888, 1890, 1892, 1894, 1896, 1898, 1900, 1902,\n",
       "       1904, 1906, 1908, 1910, 1912, 1914, 1916, 1918, 1920, 1922, 1924,\n",
       "       1926, 1928, 1930, 1932, 1934, 1936, 1938, 1940, 1942, 1944, 1946,\n",
       "       1948, 1950, 1952, 1954, 1956, 1958, 1960, 1962, 1964, 1966, 1968,\n",
       "       1970, 1972, 1974, 1976, 1978, 1980, 1982, 1984, 1986, 1988, 1990,\n",
       "       1992, 1994, 1996, 1998, 2000, 2002, 2004, 2006, 2008, 2010, 2012,\n",
       "       2014, 2016, 2018, 2020, 2022, 2024, 2026, 2028, 2030, 2032, 2034,\n",
       "       2036, 2038, 2040, 2042, 2044, 2046, 2048, 2050, 2052, 2054, 2056,\n",
       "       2058, 2060, 2062, 2064, 2066, 2068, 2070, 2072, 2074, 2076, 2078,\n",
       "       2080, 2082, 2084, 2086, 2088, 2090, 2092, 2094, 2096, 2098, 2100,\n",
       "       2102, 2104, 2106, 2108, 2110, 2112, 2114, 2116, 2118, 2120, 2122,\n",
       "       2124, 2126, 2128, 2130, 2132, 2134, 2136, 2138, 2140, 2142, 2144,\n",
       "       2146, 2148, 2150, 2152, 2154, 2156, 2158, 2160, 2162, 2164, 2166,\n",
       "       2168, 2170, 2172, 2174, 2176, 2178, 2180, 2182, 2184, 2186, 2188,\n",
       "       2190, 2192, 2194, 2196, 2198, 2200, 2202, 2204, 2206, 2208, 2210,\n",
       "       2212, 2214, 2216, 2218, 2220, 2222, 2224, 2226, 2228, 2230, 2232,\n",
       "       2234, 2236, 2238, 2240, 2242, 2244, 2246, 2248, 2250, 2252, 2254,\n",
       "       2256, 2258, 2260, 2262, 2264, 2266, 2268, 2270, 2272, 2274, 2276,\n",
       "       2278, 2280, 2282, 2284, 2286, 2288, 2290, 2292, 2294, 2296, 2298,\n",
       "       2300, 2302, 2304, 2306, 2308, 2310, 2312, 2314, 2316, 2318, 2320,\n",
       "       2322, 2324, 2326, 2328, 2330, 2332, 2334, 2336, 2338, 2340, 2342,\n",
       "       2344, 2346, 2348, 2350, 2352, 2354, 2356, 2358, 2360, 2362, 2364,\n",
       "       2366, 2368, 2370, 2372, 2374, 2376, 2378, 2380, 2382, 2384, 2386,\n",
       "       2388, 2390, 2392, 2394, 2396, 2398, 2400, 2402, 2404, 2406, 2408,\n",
       "       2410, 2412, 2414, 2416, 2418, 2420, 2422, 2424, 2426, 2428, 2430,\n",
       "       2432, 2434, 2436, 2438, 2440, 2442, 2444, 2446, 2448, 2450, 2452,\n",
       "       2454, 2456, 2458, 2460, 2462, 2464, 2466, 2468, 2470, 2472, 2474,\n",
       "       2476, 2478, 2480, 2482, 2484, 2486, 2488, 2490, 2492, 2494, 2496,\n",
       "       2498, 2500, 2502, 2504, 2506, 2508, 2510, 2512, 2514, 2516, 2518,\n",
       "       2520, 2522, 2524, 2526, 2528, 2530, 2532, 2534, 2536, 2538, 2540,\n",
       "       2542, 2544, 2546, 2548, 2550, 2552, 2554, 2556, 2558, 2560, 2562,\n",
       "       2564, 2566, 2568, 2570, 2572, 2574, 2576, 2578, 2580, 2582, 2584,\n",
       "       2586, 2588, 2590, 2592, 2594, 2596, 2598, 2600, 2602, 2604, 2606,\n",
       "       2608, 2610, 2612, 2614, 2616, 2618, 2620, 2622, 2624, 2626, 2628,\n",
       "       2630, 2632, 2634, 2636, 2638, 2640, 2642, 2644, 2646, 2648, 2650,\n",
       "       2652, 2654, 2656, 2658, 2660, 2662, 2664, 2666, 2668, 2670, 2672,\n",
       "       2674, 2676, 2678, 2680, 2682, 2684, 2686, 2688, 2690, 2692, 2694,\n",
       "       2696, 2698, 2700, 2702, 2704, 2706, 2708, 2710, 2712, 2714, 2716,\n",
       "       2718, 2720, 2722, 2724, 2726, 2728, 2730, 2732, 2734, 2736, 2738,\n",
       "       2740, 2742, 2744, 2746, 2748, 2750, 2752, 2754, 2756, 2758, 2760,\n",
       "       2762, 2764, 2766, 2768, 2770, 2772, 2774, 2776, 2778, 2780, 2782,\n",
       "       2784, 2786, 2788, 2790, 2792, 2794, 2796, 2798, 2800, 2802, 2804,\n",
       "       2806, 2808, 2810, 2812, 2814, 2816, 2818, 2820, 2822, 2824, 2826,\n",
       "       2828, 2830, 2832, 2834, 2836, 2838, 2840, 2842, 2844, 2846, 2848,\n",
       "       2850, 2852, 2854, 2856, 2858, 2860, 2862, 2864, 2866, 2868, 2870,\n",
       "       2872, 2874, 2876, 2878, 2880, 2882, 2884, 2886, 2888, 2890, 2892,\n",
       "       2894, 2896, 2898, 2900, 2902, 2904, 2906, 2908, 2910, 2912, 2914,\n",
       "       2916, 2918, 2920, 2922, 2924, 2926, 2928, 2930, 2932, 2934, 2936,\n",
       "       2938, 2940, 2942, 2944, 2946, 2948, 2950, 2952, 2954, 2956, 2958,\n",
       "       2960, 2962, 2964, 2966, 2968, 2970, 2972, 2974, 2976, 2978, 2980,\n",
       "       2982, 2984, 2986, 2988, 2990, 2992, 2994, 2996, 2998, 3000])"
      ]
     },
     "execution_count": 110,
     "metadata": {},
     "output_type": "execute_result"
    }
   ],
   "source": [
    "z"
   ]
  },
  {
   "cell_type": "markdown",
   "metadata": {},
   "source": [
    "### 브로드캐스팅\n"
   ]
  },
  {
   "cell_type": "markdown",
   "metadata": {},
   "source": [
    "### 행렬곱(Numpy dot)"
   ]
  },
  {
   "cell_type": "code",
   "execution_count": 111,
   "metadata": {},
   "outputs": [],
   "source": [
    "x = np.array([[1,2,3],\n",
    "            [4,5,6]])\n",
    "y = np.array([[10,100,1000],\n",
    "            [10000,100000,1000000]])"
   ]
  },
  {
   "cell_type": "code",
   "execution_count": 114,
   "metadata": {},
   "outputs": [
    {
     "data": {
      "text/plain": [
       "array([[     10,     200,    3000],\n",
       "       [  40000,  500000, 6000000]])"
      ]
     },
     "execution_count": 114,
     "metadata": {},
     "output_type": "execute_result"
    }
   ],
   "source": [
    "z = x * y\n",
    "z\n",
    "# 행렬곱이 아닌 각 자리에 위치한 것끼리 곱해짐"
   ]
  },
  {
   "cell_type": "code",
   "execution_count": 118,
   "metadata": {},
   "outputs": [
    {
     "data": {
      "text/plain": [
       "array([[   3210, 3210000],\n",
       "       [   6540, 6540000]])"
      ]
     },
     "execution_count": 118,
     "metadata": {},
     "output_type": "execute_result"
    }
   ],
   "source": [
    "# 행렬곱을 하고 싶으면 Numpy.dot\n",
    "np.dot(x,y.T)\n",
    "# == np.matmul "
   ]
  },
  {
   "cell_type": "code",
   "execution_count": 117,
   "metadata": {},
   "outputs": [
    {
     "data": {
      "text/plain": [
       "array([[   3210, 3210000],\n",
       "       [   6540, 6540000]])"
      ]
     },
     "execution_count": 117,
     "metadata": {},
     "output_type": "execute_result"
    }
   ],
   "source": [
    "x.dot(y.T)"
   ]
  },
  {
   "cell_type": "code",
   "execution_count": null,
   "metadata": {},
   "outputs": [],
   "source": [
    "# 행렬곱의 차원을 맞추는 것이 중요하다."
   ]
  },
  {
   "cell_type": "code",
   "execution_count": 119,
   "metadata": {},
   "outputs": [
    {
     "data": {
      "text/plain": [
       "21"
      ]
     },
     "execution_count": 119,
     "metadata": {},
     "output_type": "execute_result"
    }
   ],
   "source": [
    "np.sum(x)"
   ]
  },
  {
   "cell_type": "code",
   "execution_count": 120,
   "metadata": {},
   "outputs": [
    {
     "data": {
      "text/plain": [
       "21"
      ]
     },
     "execution_count": 120,
     "metadata": {},
     "output_type": "execute_result"
    }
   ],
   "source": [
    "x.sum()"
   ]
  },
  {
   "cell_type": "code",
   "execution_count": 122,
   "metadata": {},
   "outputs": [
    {
     "data": {
      "text/plain": [
       "1"
      ]
     },
     "execution_count": 122,
     "metadata": {},
     "output_type": "execute_result"
    }
   ],
   "source": [
    "x.min()"
   ]
  },
  {
   "cell_type": "markdown",
   "metadata": {},
   "source": [
    "최소값의 위치"
   ]
  },
  {
   "cell_type": "code",
   "execution_count": 123,
   "metadata": {},
   "outputs": [
    {
     "data": {
      "text/plain": [
       "0"
      ]
     },
     "execution_count": 123,
     "metadata": {},
     "output_type": "execute_result"
    }
   ],
   "source": [
    "x.argmin()"
   ]
  },
  {
   "cell_type": "code",
   "execution_count": 124,
   "metadata": {},
   "outputs": [
    {
     "data": {
      "text/plain": [
       "3.5"
      ]
     },
     "execution_count": 124,
     "metadata": {},
     "output_type": "execute_result"
    }
   ],
   "source": [
    "x.mean()"
   ]
  },
  {
   "cell_type": "code",
   "execution_count": 125,
   "metadata": {},
   "outputs": [
    {
     "data": {
      "text/plain": [
       "3.5"
      ]
     },
     "execution_count": 125,
     "metadata": {},
     "output_type": "execute_result"
    }
   ],
   "source": [
    "np.mean(x)"
   ]
  },
  {
   "cell_type": "code",
   "execution_count": 126,
   "metadata": {},
   "outputs": [
    {
     "data": {
      "text/plain": [
       "3.5"
      ]
     },
     "execution_count": 126,
     "metadata": {},
     "output_type": "execute_result"
    }
   ],
   "source": [
    "np.median(x)"
   ]
  },
  {
   "cell_type": "markdown",
   "metadata": {},
   "source": [
    "-  np.sort(x)\n",
    "-  axis= -1과 axis=1과 동일하다 \n",
    "-  axis = 1이면 행방향 정렬\n",
    "-  axis = 0이면 열방향 정렬\n",
    "- sort는 본 객체까지 바꿔버림\n",
    "-  argsort는 자기자신이 안바뀜. 인덱스를 sort??? 인덱스를 return하니까"
   ]
  },
  {
   "cell_type": "markdown",
   "metadata": {},
   "source": [
    "### csv파일 읽기"
   ]
  },
  {
   "cell_type": "markdown",
   "metadata": {},
   "source": [
    "파일 위치 지정안하면 c드라이브 user"
   ]
  },
  {
   "cell_type": "code",
   "execution_count": null,
   "metadata": {},
   "outputs": [],
   "source": [
    "a = np.loadtxt('       .csv',delicator= ',')  #불러오기"
   ]
  },
  {
   "cell_type": "code",
   "execution_count": null,
   "metadata": {},
   "outputs": [],
   "source": [
    "np.savetxt('위치~~~/x1.txt'x1)    #저장"
   ]
  },
  {
   "cell_type": "code",
   "execution_count": null,
   "metadata": {},
   "outputs": [],
   "source": []
  },
  {
   "cell_type": "code",
   "execution_count": null,
   "metadata": {},
   "outputs": [],
   "source": []
  },
  {
   "cell_type": "code",
   "execution_count": null,
   "metadata": {},
   "outputs": [],
   "source": []
  },
  {
   "cell_type": "code",
   "execution_count": null,
   "metadata": {},
   "outputs": [],
   "source": []
  },
  {
   "cell_type": "code",
   "execution_count": null,
   "metadata": {},
   "outputs": [],
   "source": []
  }
 ],
 "metadata": {
  "kernelspec": {
   "display_name": "Python 3",
   "language": "python",
   "name": "python3"
  },
  "language_info": {
   "codemirror_mode": {
    "name": "ipython",
    "version": 3
   },
   "file_extension": ".py",
   "mimetype": "text/x-python",
   "name": "python",
   "nbconvert_exporter": "python",
   "pygments_lexer": "ipython3",
   "version": "3.7.7"
  }
 },
 "nbformat": 4,
 "nbformat_minor": 4
}
